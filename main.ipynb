{
 "cells": [
  {
   "cell_type": "markdown",
   "metadata": {
    "id": "AOahtdOUiuWO"
   },
   "source": [
    "# Machine Learning-based Run-Time Anomaly Detection for Software Systems"
   ]
  },
  {
   "cell_type": "markdown",
   "metadata": {
    "id": "DMIS-Okbi1Eq"
   },
   "source": [
    "## Initial Setup"
   ]
  },
  {
   "cell_type": "code",
   "execution_count": 1,
   "metadata": {
    "colab": {
     "base_uri": "https://localhost:8080/"
    },
    "id": "qr_PV7Kpx68Y",
    "outputId": "a08eb649-ca43-4f2c-b918-84f010267814"
   },
   "outputs": [
    {
     "output_type": "stream",
     "name": "stdout",
     "text": [
      "Drive already mounted at /content/drive; to attempt to forcibly remount, call drive.mount(\"/content/drive\", force_remount=True).\n"
     ]
    }
   ],
   "source": [
    "# Load the Drive helper and mount\n",
    "from google.colab import drive\n",
    "\n",
    "# This will prompt for authorization.\n",
    "drive.mount('/content/drive')"
   ]
  },
  {
   "cell_type": "code",
   "execution_count": 2,
   "metadata": {
    "colab": {
     "base_uri": "https://localhost:8080/"
    },
    "id": "iTg9zwIq0LG5",
    "outputId": "a6ad7dfe-c2f5-45f5-fa9c-073addc3de3e"
   },
   "outputs": [
    {
     "output_type": "stream",
     "name": "stdout",
     "text": [
      "Looking in indexes: https://pypi.org/simple, https://us-python.pkg.dev/colab-wheels/public/simple/\n",
      "Requirement already satisfied: torch==2.0.0 in /usr/local/lib/python3.9/dist-packages (2.0.0+cu118)\n",
      "Requirement already satisfied: pandas in /usr/local/lib/python3.9/dist-packages (1.5.3)\n",
      "Collecting sklearn\n",
      "  Downloading sklearn-0.0.post4.tar.gz (3.6 kB)\n",
      "  Preparing metadata (setup.py) ... \u001B[?25l\u001B[?25hdone\n",
      "Requirement already satisfied: numpy in /usr/local/lib/python3.9/dist-packages (1.22.4)\n",
      "Requirement already satisfied: sympy in /usr/local/lib/python3.9/dist-packages (from torch==2.0.0) (1.11.1)\n",
      "Requirement already satisfied: jinja2 in /usr/local/lib/python3.9/dist-packages (from torch==2.0.0) (3.1.2)\n",
      "Requirement already satisfied: networkx in /usr/local/lib/python3.9/dist-packages (from torch==2.0.0) (3.1)\n",
      "Requirement already satisfied: filelock in /usr/local/lib/python3.9/dist-packages (from torch==2.0.0) (3.11.0)\n",
      "Requirement already satisfied: typing-extensions in /usr/local/lib/python3.9/dist-packages (from torch==2.0.0) (4.5.0)\n",
      "Requirement already satisfied: triton==2.0.0 in /usr/local/lib/python3.9/dist-packages (from torch==2.0.0) (2.0.0)\n",
      "Requirement already satisfied: lit in /usr/local/lib/python3.9/dist-packages (from triton==2.0.0->torch==2.0.0) (16.0.1)\n",
      "Requirement already satisfied: cmake in /usr/local/lib/python3.9/dist-packages (from triton==2.0.0->torch==2.0.0) (3.25.2)\n",
      "Requirement already satisfied: python-dateutil>=2.8.1 in /usr/local/lib/python3.9/dist-packages (from pandas) (2.8.2)\n",
      "Requirement already satisfied: pytz>=2020.1 in /usr/local/lib/python3.9/dist-packages (from pandas) (2022.7.1)\n",
      "Requirement already satisfied: six>=1.5 in /usr/local/lib/python3.9/dist-packages (from python-dateutil>=2.8.1->pandas) (1.16.0)\n",
      "Requirement already satisfied: MarkupSafe>=2.0 in /usr/local/lib/python3.9/dist-packages (from jinja2->torch==2.0.0) (2.1.2)\n",
      "Requirement already satisfied: mpmath>=0.19 in /usr/local/lib/python3.9/dist-packages (from sympy->torch==2.0.0) (1.3.0)\n",
      "Building wheels for collected packages: sklearn\n",
      "  Building wheel for sklearn (setup.py) ... \u001B[?25l\u001B[?25hdone\n",
      "  Created wheel for sklearn: filename=sklearn-0.0.post4-py3-none-any.whl size=2973 sha256=5a997e5aafc035cb52d02b093831d98d03d483dca3412557aa4bd5d80d4f433e\n",
      "  Stored in directory: /root/.cache/pip/wheels/d5/b2/a9/590d15767d34955f20a9a033e8db973b79cb5672d95790c0a9\n",
      "Successfully built sklearn\n",
      "Installing collected packages: sklearn\n",
      "Successfully installed sklearn-0.0.post4\n"
     ]
    }
   ],
   "source": [
    "!pip install torch==2.0.0 pandas sklearn numpy"
   ]
  },
  {
   "cell_type": "code",
   "execution_count": 3,
   "metadata": {
    "id": "gctVUYPBiGrY"
   },
   "outputs": [],
   "source": [
    "import time\n",
    "import numpy as np\n",
    "import pandas as pd\n",
    "import torch\n",
    "from torch import nn, optim\n",
    "from torch.utils.data import TensorDataset, DataLoader\n",
    "from multiprocessing import cpu_count\n",
    "import gc\n",
    "from sklearn.model_selection import train_test_split, TimeSeriesSplit\n",
    "from imblearn.under_sampling import RandomUnderSampler\n",
    "from sklearn.preprocessing import MinMaxScaler, StandardScaler, LabelEncoder\n",
    "import matplotlib.pyplot as plt\n",
    "import seaborn as sns"
   ]
  },
  {
   "cell_type": "code",
   "execution_count": 4,
   "metadata": {
    "id": "8A3KPEzcyU8I"
   },
   "outputs": [],
   "source": [
    "DATA_CONFIG = {\n",
    "    \"RANDOM_STATE\": 42,\n",
    "    \"USING_COLAB\": True,\n",
    "    \"TEST_SET_SIZE\": 0.1,\n",
    "    \"TIME_COLUMN\": \"timestamp\",\n",
    "    \"TARGET_COLUMN\": \"isAnomaly\",\n",
    "    \"TARGET_CLASS_NAMES\": [\"Anomaly\", \"No Anomaly\"],\n",
    "    \"CREATE_PLOTS\": True,\n",
    "    \"REMOVE_CORRELATED_FEATURES\": True,\n",
    "    \"REMOVE_CONSTANT_FEATURES\": True,\n",
    "    \"SEQUENCE_SIZE\": 30,\n",
    "    \"BATCH_SIZE\": 128\n",
    "}"
   ]
  },
  {
   "cell_type": "code",
   "execution_count": 5,
   "metadata": {
    "id": "gWI_pWz-z6BR"
   },
   "outputs": [],
   "source": [
    "def scale_dataset(df: pd.DataFrame, df_scale_exclude_names, scaler):\n",
    "    \n",
    "    df_scale_exclude = df[df_scale_exclude_names]\n",
    "    df_scale_include = df.drop(df_scale_exclude_names, axis=1)\n",
    "    df_scale_include_names = df_scale_include.columns\n",
    "    df_scale_include = scaler.fit_transform(df_scale_include)\n",
    "    df_scale_include = pd.DataFrame(data=df_scale_include, columns=df_scale_include_names)\n",
    "    df_scale_include = df_scale_include.reset_index(drop=True)\n",
    "    df_scale_exclude = df_scale_exclude.reset_index(drop=True)\n",
    "    scaled_df = pd.concat([df_scale_include, df_scale_exclude], axis=1)\n",
    "    return scaled_df\n",
    "\n",
    "\n",
    "def drop_constant_features(df: pd.DataFrame, feature_columns, features_only=True):\n",
    "    \n",
    "    if not features_only:\n",
    "        excluded_columns = [column for column in data.columns if column not in feature_columns]\n",
    "        excluded_columns = df[excluded_columns]\n",
    "        df = df[feature_columns]\n",
    "\n",
    "    print(f\"Original number of features: {df.shape[1]}\")\n",
    "    drop_columns = [column for column in df.columns if df[column].nunique() == 1]\n",
    "    df = df.drop(columns=drop_columns)\n",
    "    print(f\"Remaining number of features: {df.shape[1]}\")\n",
    "\n",
    "    if not features_only:\n",
    "        df = pd.concat([df, excluded_columns], axis=1)\n",
    "    \n",
    "    return df, drop_columns\n",
    "\n",
    "\n",
    "def plot_correlated_features(corr_matrix):\n",
    "\n",
    "    mask = np.triu(np.ones_like(corr_matrix, dtype=bool))\n",
    "    sns.heatmap(corr_matrix, mask=mask, cmap='coolwarm', yticklabels=False, xticklabels=False)\n",
    "\n",
    "    filepath = \"/content/drive/MyDrive/\" if DATA_CONFIG[\"USING_COLAB\"] else \"figures/\"\n",
    "    plt.savefig(f\"{filepath}correlation_heatmap.pdf\", bbox_inches=\"tight\")\n",
    "    plt.show()\n",
    "\n",
    "def drop_correlated_features(df: pd.DataFrame, feature_columns, features_only=True, plot=False, threshold: float = 0.95):\n",
    "  \n",
    "    if not features_only:\n",
    "        excluded_columns = [column for column in data.columns if column not in feature_columns]\n",
    "        excluded_columns = df[excluded_columns]\n",
    "        df = df[feature_columns]\n",
    "\n",
    "    print(f\"Original number of features: {df.shape[1]}\")\n",
    "    corr_matrix = df.corr()\n",
    "\n",
    "    if plot:\n",
    "        plot_correlated_features(corr_matrix)\n",
    "\n",
    "    corr_matrix = corr_matrix.abs()\n",
    "    upper_tri = corr_matrix.where(np.triu(np.ones(corr_matrix.shape), k=1).astype(bool))\n",
    "    drop_columns = [column for column in upper_tri.columns if any(upper_tri[column] > threshold)]\n",
    "    df = df.drop(columns=drop_columns)\n",
    "    print(f\"Remaining number of features: {df.shape[1]}\")\n",
    "    \n",
    "    if not features_only:\n",
    "        df = pd.concat([df, excluded_columns], axis=1)\n",
    "    \n",
    "    return df, drop_columns\n",
    "\n",
    "\n",
    "def one_hot_encoding(df: pd.DataFrame, column_name: str):\n",
    "    ohe = pd.get_dummies(df[column_name], prefix=column_name)\n",
    "    df = pd.concat([df, ohe], axis=1)\n",
    "    df = df.drop(columns=column_name)\n",
    "    return df\n",
    "\n",
    "\n",
    "def x_y_split(df: pd.DataFrame, target_column: str):\n",
    "    y = df[target_column]\n",
    "    X = df.drop(columns=target_column)\n",
    "    return X, y\n",
    "\n",
    "\n",
    "def plot_target_col(data: pd.Series, max_y: int, y_tick_interval: int, target_class_names,\n",
    "                    pdf_filename: str):\n",
    "    blue = \"#0D0887\"\n",
    "    yellow = \"#FCD025\"\n",
    "\n",
    "    fig, ax = plt.subplots(figsize=(5 / 3 + 0.25, 5))\n",
    "\n",
    "    bar_width = 0.25\n",
    "    # set heights of bars\n",
    "    minority_class_bar = [data.value_counts()[1]]\n",
    "    majority_class_bar = [data.value_counts()[0]]\n",
    "\n",
    "    # Set position of bar on X axis\n",
    "    r1 = np.arange(len(minority_class_bar))\n",
    "    r2 = [x + bar_width for x in r1]\n",
    "\n",
    "    # Make the plot\n",
    "    plt.bar(r1, minority_class_bar, color=blue, width=bar_width, edgecolor='white', label='Failure')\n",
    "    plt.bar(r2, majority_class_bar, color=yellow, width=bar_width, edgecolor='white', label='No Failure')\n",
    "\n",
    "    y_tick_positions = [i * y_tick_interval for i in range(0, max_y) if i * y_tick_interval <= max_y]\n",
    "    ax.yaxis.set_ticks(y_tick_positions)\n",
    "    ax.yaxis.set_ticklabels(y_tick_positions, size=16, fontweight=100)\n",
    "    ax.yaxis.set_tick_params(labelbottom=False, labeltop=True, length=0)\n",
    "\n",
    "    ax.set_ylim((0, max_y))\n",
    "\n",
    "    # Set whether axis ticks and gridlines are above or below most artists.\n",
    "    ax.set_axisbelow(True)\n",
    "    ax.grid(axis=\"y\", color=\"#A8BAC4\", lw=1.2)\n",
    "    ax.spines[\"right\"].set_visible(False)\n",
    "    ax.spines[\"top\"].set_visible(False)\n",
    "    ax.spines[\"left\"].set_visible(False)\n",
    "    ax.spines[\"bottom\"].set_lw(1.5)\n",
    "    # This capstyle determines the lines don't go beyond the limit we specified\n",
    "    # see: https://matplotlib.org/stable/api/_enums_api.html?highlight=capstyle#matplotlib._enums.CapStyle\n",
    "    ax.spines[\"left\"].set_capstyle(\"butt\")\n",
    "\n",
    "    # Add xticks on the middle of the group bars\n",
    "    plt.xlabel('Variable', fontweight='bold')\n",
    "    plt.xticks([r + bar_width / 2 for r in range(len(minority_class_bar))], ['Categories'])\n",
    "\n",
    "    # Create legend & Show graphic\n",
    "    fig.subplots_adjust(left=0.005, right=1, top=0.8, bottom=0.1)\n",
    "\n",
    "    plt.legend(target_class_names, bbox_to_anchor=([1.075, 1.2, 0, 0]), ncol=1, frameon=False, fontsize=12.5)\n",
    "    fig.set_facecolor(\"white\")\n",
    "\n",
    "    filepath = \"/content/drive/MyDrive/\" if DATA_CONFIG[\"USING_COLAB\"] else \"figures/\"\n",
    "    plt.savefig(f\"{filepath}{pdf_filename}.pdf\", bbox_inches=\"tight\")\n",
    "    plt.show()\n",
    "\n",
    "# Create sequences\n",
    "def create_sequences(array, seq_length, target=False):\n",
    "    i = 0\n",
    "    while i < len(array) - seq_length:\n",
    "        if target:\n",
    "            yield array[i + seq_length - 1]\n",
    "        else:\n",
    "            yield array[i:i + seq_length]\n",
    "        i += 1\n",
    "\n",
    "        \n",
    "def transform_sequences(array, seq_length, target=False):\n",
    "    array = list(create_sequences(array, seq_length, target))\n",
    "    array = np.array([value for value in array])\n",
    "    return array"
   ]
  },
  {
   "cell_type": "code",
   "execution_count": 6,
   "metadata": {
    "id": "oRGCe84HvBd4"
   },
   "outputs": [],
   "source": [
    "data = pd.read_csv(\"/content/drive/MyDrive/data.csv\", engine=\"pyarrow\")\n",
    "\n",
    "DATA_CONFIG[\"FEATURE_COLUMNS\"] = [feature for feature in data.columns if feature not in [DATA_CONFIG['TARGET_COLUMN'], DATA_CONFIG[\"TIME_COLUMN\"]]]"
   ]
  },
  {
   "cell_type": "code",
   "source": [
    "data.shape"
   ],
   "metadata": {
    "colab": {
     "base_uri": "https://localhost:8080/"
    },
    "id": "bLGLppbpayKC",
    "outputId": "1df8c3af-2c51-4546-ca72-951aedd685f6"
   },
   "execution_count": 7,
   "outputs": [
    {
     "output_type": "execute_result",
     "data": {
      "text/plain": [
       "(188068, 235)"
      ]
     },
     "metadata": {},
     "execution_count": 7
    }
   ]
  },
  {
   "cell_type": "code",
   "source": [
    "data.describe()"
   ],
   "metadata": {
    "colab": {
     "base_uri": "https://localhost:8080/",
     "height": 463
    },
    "id": "bnNIK14nem6h",
    "outputId": "fd65bf77-4098-4c88-c0ab-ac46ca1c7736"
   },
   "execution_count": 8,
   "outputs": [
    {
     "output_type": "execute_result",
     "data": {
      "text/plain": [
       "       Prepared statement cache hit rate : ((MXBean(com.bea:Name=source06,Type=JDBCDataSourceRuntime).PrepStmtCacheHitCount / MXBean(com.bea:Name=source06,Type=JDBCDataSourceRuntime).PrepStmtCacheMissCount))  \\\n",
       "count                                      188068.000000                                                                                                                                                          \n",
       "mean                                            1.027576                                                                                                                                                          \n",
       "std                                             0.229330                                                                                                                                                          \n",
       "min                                             0.005708                                                                                                                                                          \n",
       "25%                                             1.000000                                                                                                                                                          \n",
       "50%                                             1.000000                                                                                                                                                          \n",
       "75%                                             1.000000                                                                                                                                                          \n",
       "max                                             1.806157                                                                                                                                                          \n",
       "\n",
       "       Memory space usage : ((MXBean(java.lang:name=Code Cache,type=MemoryPool).Usage.committed / MXBean(java.lang:name=Code Cache,type=MemoryPool).Usage.max))  \\\n",
       "count                                      188068.000000                                                                                                          \n",
       "mean                                            0.701453                                                                                                          \n",
       "std                                             0.333852                                                                                                          \n",
       "min                                             0.053711                                                                                                          \n",
       "25%                                             0.386719                                                                                                          \n",
       "50%                                             0.941406                                                                                                          \n",
       "75%                                             0.970052                                                                                                          \n",
       "max                                             0.980469                                                                                                          \n",
       "\n",
       "       Active connections : (MXBean(com.bea:Name=source04,Type=JDBCConnectionPoolRuntime).ActiveConnectionsCurrentCount)  \\\n",
       "count                                           188068.0                                                                   \n",
       "mean                                                 0.0                                                                   \n",
       "std                                                  0.0                                                                   \n",
       "min                                                  0.0                                                                   \n",
       "25%                                                  0.0                                                                   \n",
       "50%                                                  0.0                                                                   \n",
       "75%                                                  0.0                                                                   \n",
       "max                                                  0.0                                                                   \n",
       "\n",
       "       Available db connection activity : (d/dx (MXBean(com.bea:Name=source02,Type=JDBCDataSourceRuntime).NumAvailable))  \\\n",
       "count                                      188068.000000                                                                   \n",
       "mean                                           -0.000004                                                                   \n",
       "std                                             0.004067                                                                   \n",
       "min                                            -1.000000                                                                   \n",
       "25%                                             0.000000                                                                   \n",
       "50%                                             0.000000                                                                   \n",
       "75%                                             0.000000                                                                   \n",
       "max                                             1.000000                                                                   \n",
       "\n",
       "       Active connections : (MXBean(com.bea:Name=source03,Type=JDBCConnectionPoolRuntime).ActiveConnectionsCurrentCount)  \\\n",
       "count                                      188068.000000                                                                   \n",
       "mean                                            0.010129                                                                   \n",
       "std                                             0.100134                                                                   \n",
       "min                                             0.000000                                                                   \n",
       "25%                                             0.000000                                                                   \n",
       "50%                                             0.000000                                                                   \n",
       "75%                                             0.000000                                                                   \n",
       "max                                             1.000000                                                                   \n",
       "\n",
       "       DB connection started : (incld/dx (MXBean(com.bea:Name=source02,Type=JDBCDataSourceRuntime).ConnectionsTotalCount))  \\\n",
       "count                                      188068.000000                                                                     \n",
       "mean                                            0.000005                                                                     \n",
       "std                                             0.002306                                                                     \n",
       "min                                             0.000000                                                                     \n",
       "25%                                             0.000000                                                                     \n",
       "50%                                             0.000000                                                                     \n",
       "75%                                             0.000000                                                                     \n",
       "max                                             1.000000                                                                     \n",
       "\n",
       "       Heap usage activity : (d/dx (MXBean(java.lang:type=Memory).HeapMemoryUsage.used))  \\\n",
       "count                                       1.880680e+05                                   \n",
       "mean                                        1.380974e+05                                   \n",
       "std                                         6.684241e+08                                   \n",
       "min                                        -9.546473e+09                                   \n",
       "25%                                        -6.479014e+06                                   \n",
       "50%                                         3.727045e+07                                   \n",
       "75%                                         6.267492e+07                                   \n",
       "max                                         4.953991e+09                                   \n",
       "\n",
       "       Connection delay : (MXBean(com.bea:Name=source10,Type=JDBCDataSourceRuntime).ConnectionDelayTime)  \\\n",
       "count                                      188068.000000                                                   \n",
       "mean                                           76.764394                                                   \n",
       "std                                           155.551443                                                   \n",
       "min                                             0.000000                                                   \n",
       "25%                                             0.000000                                                   \n",
       "50%                                             0.000000                                                   \n",
       "75%                                             0.000000                                                   \n",
       "max                                           509.000000                                                   \n",
       "\n",
       "       Stuck threads : (MXBean(com.bea:Name=ThreadPoolRuntime,Type=ThreadPoolRuntime).StuckThreadCount)  \\\n",
       "count                                      188068.000000                                                  \n",
       "mean                                            0.181716                                                  \n",
       "std                                             0.433309                                                  \n",
       "min                                             0.000000                                                  \n",
       "25%                                             0.000000                                                  \n",
       "50%                                             0.000000                                                  \n",
       "75%                                             0.000000                                                  \n",
       "max                                             3.000000                                                  \n",
       "\n",
       "       Reserve request activity : (incld/dx (MXBean(com.bea:Name=source02,Type=JDBCDataSourceRuntime).ReserveRequestCount))  \\\n",
       "count                                           188068.0                                                                      \n",
       "mean                                                 0.0                                                                      \n",
       "std                                                  0.0                                                                      \n",
       "min                                                  0.0                                                                      \n",
       "25%                                                  0.0                                                                      \n",
       "50%                                                  0.0                                                                      \n",
       "75%                                                  0.0                                                                      \n",
       "max                                                  0.0                                                                      \n",
       "\n",
       "       ...  \\\n",
       "count  ...   \n",
       "mean   ...   \n",
       "std    ...   \n",
       "min    ...   \n",
       "25%    ...   \n",
       "50%    ...   \n",
       "75%    ...   \n",
       "max    ...   \n",
       "\n",
       "       Available db connection activity : (d/dx (MXBean(com.bea:Name=source08,Type=JDBCDataSourceRuntime).NumAvailable))  \\\n",
       "count                                      188068.000000                                                                   \n",
       "mean                                            0.000000                                                                   \n",
       "std                                             0.006522                                                                   \n",
       "min                                            -1.000000                                                                   \n",
       "25%                                             0.000000                                                                   \n",
       "50%                                             0.000000                                                                   \n",
       "75%                                             0.000000                                                                   \n",
       "max                                             1.000000                                                                   \n",
       "\n",
       "       Available db connection activity : (d/dx (MXBean(com.bea:Name=source10,Type=JDBCConnectionPoolRuntime).NumAvailable))  \\\n",
       "count                                           188068.0                                                                       \n",
       "mean                                                 0.0                                                                       \n",
       "std                                                  0.0                                                                       \n",
       "min                                                  0.0                                                                       \n",
       "25%                                                  0.0                                                                       \n",
       "50%                                                  0.0                                                                       \n",
       "75%                                                  0.0                                                                       \n",
       "max                                                  0.0                                                                       \n",
       "\n",
       "       Rel. unavailable connections : ((MXBean(com.bea:Name=source04,Type=JDBCDataSourceRuntime).NumUnavailable / MXBean(com.bea:Name=source04,Type=JDBCDataSourceRuntime).CurrCapacity))  \\\n",
       "count                                      188068.000000                                                                                                                                    \n",
       "mean                                            0.000548                                                                                                                                    \n",
       "std                                             0.023396                                                                                                                                    \n",
       "min                                             0.000000                                                                                                                                    \n",
       "25%                                             0.000000                                                                                                                                    \n",
       "50%                                             0.000000                                                                                                                                    \n",
       "75%                                             0.000000                                                                                                                                    \n",
       "max                                             1.000000                                                                                                                                    \n",
       "\n",
       "       Failed wait for connection : (incld/dx (MXBean(com.bea:Name=source08,Type=JDBCDataSourceRuntime).WaitingForConnectionFailureTotal))  \\\n",
       "count                                           188068.0                                                                                     \n",
       "mean                                                 0.0                                                                                     \n",
       "std                                                  0.0                                                                                     \n",
       "min                                                  0.0                                                                                     \n",
       "25%                                                  0.0                                                                                     \n",
       "50%                                                  0.0                                                                                     \n",
       "75%                                                  0.0                                                                                     \n",
       "max                                                  0.0                                                                                     \n",
       "\n",
       "       Rel. unavailable connections : ((MXBean(com.bea:Name=source08,Type=JDBCDataSourceRuntime).NumUnavailable / MXBean(com.bea:Name=source08,Type=JDBCDataSourceRuntime).CurrCapacity))  \\\n",
       "count                                      188068.000000                                                                                                                                    \n",
       "mean                                            0.999787                                                                                                                                    \n",
       "std                                             0.014582                                                                                                                                    \n",
       "min                                             0.000000                                                                                                                                    \n",
       "25%                                             1.000000                                                                                                                                    \n",
       "50%                                             1.000000                                                                                                                                    \n",
       "75%                                             1.000000                                                                                                                                    \n",
       "max                                             1.000000                                                                                                                                    \n",
       "\n",
       "       Stuck threads : (MXBean(com.bea:ApplicationRuntime=source05,Name=default,Type=WorkManagerRuntime).StuckThreadCount)  \\\n",
       "count                                           188068.0                                                                     \n",
       "mean                                                 0.0                                                                     \n",
       "std                                                  0.0                                                                     \n",
       "min                                                  0.0                                                                     \n",
       "25%                                                  0.0                                                                     \n",
       "50%                                                  0.0                                                                     \n",
       "75%                                                  0.0                                                                     \n",
       "max                                                  0.0                                                                     \n",
       "\n",
       "       Process CPU : (\\Process(java)\\CPU)  \\\n",
       "count                       188068.000000   \n",
       "mean                            46.367412   \n",
       "std                            112.458956   \n",
       "min                              0.000000   \n",
       "25%                              0.000000   \n",
       "50%                              0.000000   \n",
       "75%                             39.000000   \n",
       "max                           1588.000000   \n",
       "\n",
       "       Successful wait for connection : (incld/dx (MXBean(com.bea:Name=source03,Type=JDBCDataSourceRuntime).WaitingForConnectionSuccessTotal))  \\\n",
       "count                                           188068.0                                                                                         \n",
       "mean                                                 0.0                                                                                         \n",
       "std                                                  0.0                                                                                         \n",
       "min                                                  0.0                                                                                         \n",
       "25%                                                  0.0                                                                                         \n",
       "50%                                                  0.0                                                                                         \n",
       "75%                                                  0.0                                                                                         \n",
       "max                                                  0.0                                                                                         \n",
       "\n",
       "       Failed wait for connection : (incld/dx (MXBean(com.bea:Name=source03,Type=JDBCDataSourceRuntime).WaitingForConnectionFailureTotal))  \\\n",
       "count                                           188068.0                                                                                     \n",
       "mean                                                 0.0                                                                                     \n",
       "std                                                  0.0                                                                                     \n",
       "min                                                  0.0                                                                                     \n",
       "25%                                                  0.0                                                                                     \n",
       "50%                                                  0.0                                                                                     \n",
       "75%                                                  0.0                                                                                     \n",
       "max                                                  0.0                                                                                     \n",
       "\n",
       "       Connection delay : (MXBean(com.bea:Name=source02,Type=JDBCDataSourceRuntime).ConnectionDelayTime)  \n",
       "count                                       188068.00000                                                  \n",
       "mean                                            81.81940                                                  \n",
       "std                                             14.22921                                                  \n",
       "min                                             49.00000                                                  \n",
       "25%                                             81.00000                                                  \n",
       "50%                                             82.00000                                                  \n",
       "75%                                             86.00000                                                  \n",
       "max                                            122.00000                                                  \n",
       "\n",
       "[8 rows x 231 columns]"
      ],
      "text/html": [
       "\n",
       "  <div id=\"df-aeb475f9-a792-4129-8af4-af79fdf2b60b\">\n",
       "    <div class=\"colab-df-container\">\n",
       "      <div>\n",
       "<style scoped>\n",
       "    .dataframe tbody tr th:only-of-type {\n",
       "        vertical-align: middle;\n",
       "    }\n",
       "\n",
       "    .dataframe tbody tr th {\n",
       "        vertical-align: top;\n",
       "    }\n",
       "\n",
       "    .dataframe thead th {\n",
       "        text-align: right;\n",
       "    }\n",
       "</style>\n",
       "<table border=\"1\" class=\"dataframe\">\n",
       "  <thead>\n",
       "    <tr style=\"text-align: right;\">\n",
       "      <th></th>\n",
       "      <th>Prepared statement cache hit rate : ((MXBean(com.bea:Name=source06,Type=JDBCDataSourceRuntime).PrepStmtCacheHitCount / MXBean(com.bea:Name=source06,Type=JDBCDataSourceRuntime).PrepStmtCacheMissCount))</th>\n",
       "      <th>Memory space usage : ((MXBean(java.lang:name=Code Cache,type=MemoryPool).Usage.committed / MXBean(java.lang:name=Code Cache,type=MemoryPool).Usage.max))</th>\n",
       "      <th>Active connections : (MXBean(com.bea:Name=source04,Type=JDBCConnectionPoolRuntime).ActiveConnectionsCurrentCount)</th>\n",
       "      <th>Available db connection activity : (d/dx (MXBean(com.bea:Name=source02,Type=JDBCDataSourceRuntime).NumAvailable))</th>\n",
       "      <th>Active connections : (MXBean(com.bea:Name=source03,Type=JDBCConnectionPoolRuntime).ActiveConnectionsCurrentCount)</th>\n",
       "      <th>DB connection started : (incld/dx (MXBean(com.bea:Name=source02,Type=JDBCDataSourceRuntime).ConnectionsTotalCount))</th>\n",
       "      <th>Heap usage activity : (d/dx (MXBean(java.lang:type=Memory).HeapMemoryUsage.used))</th>\n",
       "      <th>Connection delay : (MXBean(com.bea:Name=source10,Type=JDBCDataSourceRuntime).ConnectionDelayTime)</th>\n",
       "      <th>Stuck threads : (MXBean(com.bea:Name=ThreadPoolRuntime,Type=ThreadPoolRuntime).StuckThreadCount)</th>\n",
       "      <th>Reserve request activity : (incld/dx (MXBean(com.bea:Name=source02,Type=JDBCDataSourceRuntime).ReserveRequestCount))</th>\n",
       "      <th>...</th>\n",
       "      <th>Available db connection activity : (d/dx (MXBean(com.bea:Name=source08,Type=JDBCDataSourceRuntime).NumAvailable))</th>\n",
       "      <th>Available db connection activity : (d/dx (MXBean(com.bea:Name=source10,Type=JDBCConnectionPoolRuntime).NumAvailable))</th>\n",
       "      <th>Rel. unavailable connections : ((MXBean(com.bea:Name=source04,Type=JDBCDataSourceRuntime).NumUnavailable / MXBean(com.bea:Name=source04,Type=JDBCDataSourceRuntime).CurrCapacity))</th>\n",
       "      <th>Failed wait for connection : (incld/dx (MXBean(com.bea:Name=source08,Type=JDBCDataSourceRuntime).WaitingForConnectionFailureTotal))</th>\n",
       "      <th>Rel. unavailable connections : ((MXBean(com.bea:Name=source08,Type=JDBCDataSourceRuntime).NumUnavailable / MXBean(com.bea:Name=source08,Type=JDBCDataSourceRuntime).CurrCapacity))</th>\n",
       "      <th>Stuck threads : (MXBean(com.bea:ApplicationRuntime=source05,Name=default,Type=WorkManagerRuntime).StuckThreadCount)</th>\n",
       "      <th>Process CPU : (\\Process(java)\\CPU)</th>\n",
       "      <th>Successful wait for connection : (incld/dx (MXBean(com.bea:Name=source03,Type=JDBCDataSourceRuntime).WaitingForConnectionSuccessTotal))</th>\n",
       "      <th>Failed wait for connection : (incld/dx (MXBean(com.bea:Name=source03,Type=JDBCDataSourceRuntime).WaitingForConnectionFailureTotal))</th>\n",
       "      <th>Connection delay : (MXBean(com.bea:Name=source02,Type=JDBCDataSourceRuntime).ConnectionDelayTime)</th>\n",
       "    </tr>\n",
       "  </thead>\n",
       "  <tbody>\n",
       "    <tr>\n",
       "      <th>count</th>\n",
       "      <td>188068.000000</td>\n",
       "      <td>188068.000000</td>\n",
       "      <td>188068.0</td>\n",
       "      <td>188068.000000</td>\n",
       "      <td>188068.000000</td>\n",
       "      <td>188068.000000</td>\n",
       "      <td>1.880680e+05</td>\n",
       "      <td>188068.000000</td>\n",
       "      <td>188068.000000</td>\n",
       "      <td>188068.0</td>\n",
       "      <td>...</td>\n",
       "      <td>188068.000000</td>\n",
       "      <td>188068.0</td>\n",
       "      <td>188068.000000</td>\n",
       "      <td>188068.0</td>\n",
       "      <td>188068.000000</td>\n",
       "      <td>188068.0</td>\n",
       "      <td>188068.000000</td>\n",
       "      <td>188068.0</td>\n",
       "      <td>188068.0</td>\n",
       "      <td>188068.00000</td>\n",
       "    </tr>\n",
       "    <tr>\n",
       "      <th>mean</th>\n",
       "      <td>1.027576</td>\n",
       "      <td>0.701453</td>\n",
       "      <td>0.0</td>\n",
       "      <td>-0.000004</td>\n",
       "      <td>0.010129</td>\n",
       "      <td>0.000005</td>\n",
       "      <td>1.380974e+05</td>\n",
       "      <td>76.764394</td>\n",
       "      <td>0.181716</td>\n",
       "      <td>0.0</td>\n",
       "      <td>...</td>\n",
       "      <td>0.000000</td>\n",
       "      <td>0.0</td>\n",
       "      <td>0.000548</td>\n",
       "      <td>0.0</td>\n",
       "      <td>0.999787</td>\n",
       "      <td>0.0</td>\n",
       "      <td>46.367412</td>\n",
       "      <td>0.0</td>\n",
       "      <td>0.0</td>\n",
       "      <td>81.81940</td>\n",
       "    </tr>\n",
       "    <tr>\n",
       "      <th>std</th>\n",
       "      <td>0.229330</td>\n",
       "      <td>0.333852</td>\n",
       "      <td>0.0</td>\n",
       "      <td>0.004067</td>\n",
       "      <td>0.100134</td>\n",
       "      <td>0.002306</td>\n",
       "      <td>6.684241e+08</td>\n",
       "      <td>155.551443</td>\n",
       "      <td>0.433309</td>\n",
       "      <td>0.0</td>\n",
       "      <td>...</td>\n",
       "      <td>0.006522</td>\n",
       "      <td>0.0</td>\n",
       "      <td>0.023396</td>\n",
       "      <td>0.0</td>\n",
       "      <td>0.014582</td>\n",
       "      <td>0.0</td>\n",
       "      <td>112.458956</td>\n",
       "      <td>0.0</td>\n",
       "      <td>0.0</td>\n",
       "      <td>14.22921</td>\n",
       "    </tr>\n",
       "    <tr>\n",
       "      <th>min</th>\n",
       "      <td>0.005708</td>\n",
       "      <td>0.053711</td>\n",
       "      <td>0.0</td>\n",
       "      <td>-1.000000</td>\n",
       "      <td>0.000000</td>\n",
       "      <td>0.000000</td>\n",
       "      <td>-9.546473e+09</td>\n",
       "      <td>0.000000</td>\n",
       "      <td>0.000000</td>\n",
       "      <td>0.0</td>\n",
       "      <td>...</td>\n",
       "      <td>-1.000000</td>\n",
       "      <td>0.0</td>\n",
       "      <td>0.000000</td>\n",
       "      <td>0.0</td>\n",
       "      <td>0.000000</td>\n",
       "      <td>0.0</td>\n",
       "      <td>0.000000</td>\n",
       "      <td>0.0</td>\n",
       "      <td>0.0</td>\n",
       "      <td>49.00000</td>\n",
       "    </tr>\n",
       "    <tr>\n",
       "      <th>25%</th>\n",
       "      <td>1.000000</td>\n",
       "      <td>0.386719</td>\n",
       "      <td>0.0</td>\n",
       "      <td>0.000000</td>\n",
       "      <td>0.000000</td>\n",
       "      <td>0.000000</td>\n",
       "      <td>-6.479014e+06</td>\n",
       "      <td>0.000000</td>\n",
       "      <td>0.000000</td>\n",
       "      <td>0.0</td>\n",
       "      <td>...</td>\n",
       "      <td>0.000000</td>\n",
       "      <td>0.0</td>\n",
       "      <td>0.000000</td>\n",
       "      <td>0.0</td>\n",
       "      <td>1.000000</td>\n",
       "      <td>0.0</td>\n",
       "      <td>0.000000</td>\n",
       "      <td>0.0</td>\n",
       "      <td>0.0</td>\n",
       "      <td>81.00000</td>\n",
       "    </tr>\n",
       "    <tr>\n",
       "      <th>50%</th>\n",
       "      <td>1.000000</td>\n",
       "      <td>0.941406</td>\n",
       "      <td>0.0</td>\n",
       "      <td>0.000000</td>\n",
       "      <td>0.000000</td>\n",
       "      <td>0.000000</td>\n",
       "      <td>3.727045e+07</td>\n",
       "      <td>0.000000</td>\n",
       "      <td>0.000000</td>\n",
       "      <td>0.0</td>\n",
       "      <td>...</td>\n",
       "      <td>0.000000</td>\n",
       "      <td>0.0</td>\n",
       "      <td>0.000000</td>\n",
       "      <td>0.0</td>\n",
       "      <td>1.000000</td>\n",
       "      <td>0.0</td>\n",
       "      <td>0.000000</td>\n",
       "      <td>0.0</td>\n",
       "      <td>0.0</td>\n",
       "      <td>82.00000</td>\n",
       "    </tr>\n",
       "    <tr>\n",
       "      <th>75%</th>\n",
       "      <td>1.000000</td>\n",
       "      <td>0.970052</td>\n",
       "      <td>0.0</td>\n",
       "      <td>0.000000</td>\n",
       "      <td>0.000000</td>\n",
       "      <td>0.000000</td>\n",
       "      <td>6.267492e+07</td>\n",
       "      <td>0.000000</td>\n",
       "      <td>0.000000</td>\n",
       "      <td>0.0</td>\n",
       "      <td>...</td>\n",
       "      <td>0.000000</td>\n",
       "      <td>0.0</td>\n",
       "      <td>0.000000</td>\n",
       "      <td>0.0</td>\n",
       "      <td>1.000000</td>\n",
       "      <td>0.0</td>\n",
       "      <td>39.000000</td>\n",
       "      <td>0.0</td>\n",
       "      <td>0.0</td>\n",
       "      <td>86.00000</td>\n",
       "    </tr>\n",
       "    <tr>\n",
       "      <th>max</th>\n",
       "      <td>1.806157</td>\n",
       "      <td>0.980469</td>\n",
       "      <td>0.0</td>\n",
       "      <td>1.000000</td>\n",
       "      <td>1.000000</td>\n",
       "      <td>1.000000</td>\n",
       "      <td>4.953991e+09</td>\n",
       "      <td>509.000000</td>\n",
       "      <td>3.000000</td>\n",
       "      <td>0.0</td>\n",
       "      <td>...</td>\n",
       "      <td>1.000000</td>\n",
       "      <td>0.0</td>\n",
       "      <td>1.000000</td>\n",
       "      <td>0.0</td>\n",
       "      <td>1.000000</td>\n",
       "      <td>0.0</td>\n",
       "      <td>1588.000000</td>\n",
       "      <td>0.0</td>\n",
       "      <td>0.0</td>\n",
       "      <td>122.00000</td>\n",
       "    </tr>\n",
       "  </tbody>\n",
       "</table>\n",
       "<p>8 rows × 231 columns</p>\n",
       "</div>\n",
       "      <button class=\"colab-df-convert\" onclick=\"convertToInteractive('df-aeb475f9-a792-4129-8af4-af79fdf2b60b')\"\n",
       "              title=\"Convert this dataframe to an interactive table.\"\n",
       "              style=\"display:none;\">\n",
       "        \n",
       "  <svg xmlns=\"http://www.w3.org/2000/svg\" height=\"24px\"viewBox=\"0 0 24 24\"\n",
       "       width=\"24px\">\n",
       "    <path d=\"M0 0h24v24H0V0z\" fill=\"none\"/>\n",
       "    <path d=\"M18.56 5.44l.94 2.06.94-2.06 2.06-.94-2.06-.94-.94-2.06-.94 2.06-2.06.94zm-11 1L8.5 8.5l.94-2.06 2.06-.94-2.06-.94L8.5 2.5l-.94 2.06-2.06.94zm10 10l.94 2.06.94-2.06 2.06-.94-2.06-.94-.94-2.06-.94 2.06-2.06.94z\"/><path d=\"M17.41 7.96l-1.37-1.37c-.4-.4-.92-.59-1.43-.59-.52 0-1.04.2-1.43.59L10.3 9.45l-7.72 7.72c-.78.78-.78 2.05 0 2.83L4 21.41c.39.39.9.59 1.41.59.51 0 1.02-.2 1.41-.59l7.78-7.78 2.81-2.81c.8-.78.8-2.07 0-2.86zM5.41 20L4 18.59l7.72-7.72 1.47 1.35L5.41 20z\"/>\n",
       "  </svg>\n",
       "      </button>\n",
       "      \n",
       "  <style>\n",
       "    .colab-df-container {\n",
       "      display:flex;\n",
       "      flex-wrap:wrap;\n",
       "      gap: 12px;\n",
       "    }\n",
       "\n",
       "    .colab-df-convert {\n",
       "      background-color: #E8F0FE;\n",
       "      border: none;\n",
       "      border-radius: 50%;\n",
       "      cursor: pointer;\n",
       "      display: none;\n",
       "      fill: #1967D2;\n",
       "      height: 32px;\n",
       "      padding: 0 0 0 0;\n",
       "      width: 32px;\n",
       "    }\n",
       "\n",
       "    .colab-df-convert:hover {\n",
       "      background-color: #E2EBFA;\n",
       "      box-shadow: 0px 1px 2px rgba(60, 64, 67, 0.3), 0px 1px 3px 1px rgba(60, 64, 67, 0.15);\n",
       "      fill: #174EA6;\n",
       "    }\n",
       "\n",
       "    [theme=dark] .colab-df-convert {\n",
       "      background-color: #3B4455;\n",
       "      fill: #D2E3FC;\n",
       "    }\n",
       "\n",
       "    [theme=dark] .colab-df-convert:hover {\n",
       "      background-color: #434B5C;\n",
       "      box-shadow: 0px 1px 3px 1px rgba(0, 0, 0, 0.15);\n",
       "      filter: drop-shadow(0px 1px 2px rgba(0, 0, 0, 0.3));\n",
       "      fill: #FFFFFF;\n",
       "    }\n",
       "  </style>\n",
       "\n",
       "      <script>\n",
       "        const buttonEl =\n",
       "          document.querySelector('#df-aeb475f9-a792-4129-8af4-af79fdf2b60b button.colab-df-convert');\n",
       "        buttonEl.style.display =\n",
       "          google.colab.kernel.accessAllowed ? 'block' : 'none';\n",
       "\n",
       "        async function convertToInteractive(key) {\n",
       "          const element = document.querySelector('#df-aeb475f9-a792-4129-8af4-af79fdf2b60b');\n",
       "          const dataTable =\n",
       "            await google.colab.kernel.invokeFunction('convertToInteractive',\n",
       "                                                     [key], {});\n",
       "          if (!dataTable) return;\n",
       "\n",
       "          const docLinkHtml = 'Like what you see? Visit the ' +\n",
       "            '<a target=\"_blank\" href=https://colab.research.google.com/notebooks/data_table.ipynb>data table notebook</a>'\n",
       "            + ' to learn more about interactive tables.';\n",
       "          element.innerHTML = '';\n",
       "          dataTable['output_type'] = 'display_data';\n",
       "          await google.colab.output.renderOutput(dataTable, element);\n",
       "          const docLink = document.createElement('div');\n",
       "          docLink.innerHTML = docLinkHtml;\n",
       "          element.appendChild(docLink);\n",
       "        }\n",
       "      </script>\n",
       "    </div>\n",
       "  </div>\n",
       "  "
      ]
     },
     "metadata": {},
     "execution_count": 8
    }
   ]
  },
  {
   "cell_type": "markdown",
   "metadata": {
    "id": "iF8W2wZTi43k"
   },
   "source": [
    "## Preprocessing"
   ]
  },
  {
   "cell_type": "markdown",
   "metadata": {
    "id": "vPmPL7qTb6Qx"
   },
   "source": [
    "### Feature selection"
   ]
  },
  {
   "cell_type": "markdown",
   "metadata": {
    "id": "5Fa0tNIafpg6"
   },
   "source": [
    "First we remove this artificial column that says whether in a given measurement there was no data collection due to a system error such as an outage or node restart."
   ]
  },
  {
   "cell_type": "code",
   "execution_count": 9,
   "metadata": {
    "id": "7lZwJo1kfo1L"
   },
   "outputs": [],
   "source": [
    "data = data.drop(columns=\"No data\", axis=1)\n",
    "DATA_CONFIG[\"FEATURE_COLUMNS\"] = [feature for feature in data.columns if feature not in [DATA_CONFIG['TARGET_COLUMN'], DATA_CONFIG['TIME_COLUMN']]]"
   ]
  },
  {
   "cell_type": "markdown",
   "metadata": {
    "id": "QgS2RDqsb8tR"
   },
   "source": [
    "### Encoding"
   ]
  },
  {
   "cell_type": "markdown",
   "metadata": {
    "id": "ov5QFiSde0cP"
   },
   "source": [
    "The target variable is still represented via booleans, to work with it we need to encode it."
   ]
  },
  {
   "cell_type": "code",
   "execution_count": 10,
   "metadata": {
    "colab": {
     "base_uri": "https://localhost:8080/"
    },
    "id": "oRNJu26b-IQ_",
    "outputId": "c259392a-7241-4fc5-f114-b040905c4a4c"
   },
   "outputs": [
    {
     "output_type": "stream",
     "name": "stdout",
     "text": [
      "Original target values: [False  True]\n",
      "Encoded target values: [0 1]\n"
     ]
    }
   ],
   "source": [
    "le = LabelEncoder()\n",
    "print(f'Original target values: {data[DATA_CONFIG[\"TARGET_COLUMN\"]].unique()}')\n",
    "data[DATA_CONFIG[\"TARGET_COLUMN\"]] = le.fit_transform(data[DATA_CONFIG[\"TARGET_COLUMN\"]])\n",
    "print(f'Encoded target values: {data[DATA_CONFIG[\"TARGET_COLUMN\"]].unique()}')"
   ]
  },
  {
   "cell_type": "markdown",
   "metadata": {
    "id": "pgVTULaDCZNS"
   },
   "source": [
    "The *host* column and the *process* column are categorical, that's why we transform them via one-hot encoding."
   ]
  },
  {
   "cell_type": "code",
   "execution_count": 11,
   "metadata": {
    "id": "Z1Dx151BAn3g"
   },
   "outputs": [],
   "source": [
    "try:\n",
    "    data = one_hot_encoding(data, \"process\")\n",
    "    data = one_hot_encoding(data, \"host\")\n",
    "    DATA_CONFIG[\"FEATURE_COLUMNS\"] = [feature for feature in data.columns if feature not in [DATA_CONFIG['TARGET_COLUMN'], DATA_CONFIG['TIME_COLUMN']]]\n",
    "\n",
    "except KeyError:\n",
    "    print(\"Already encoded categorical features\")"
   ]
  },
  {
   "cell_type": "markdown",
   "metadata": {
    "id": "B-Qz7TrVBXKH"
   },
   "source": [
    "Next we need to transform the date string into a representation the models can handle.\n",
    "That's why we map the string representation to the UNIX timestamp format represented by integers."
   ]
  },
  {
   "cell_type": "markdown",
   "metadata": {
    "id": "a2kdWSYPcBts"
   },
   "source": [
    "### Dealing with time"
   ]
  },
  {
   "cell_type": "code",
   "execution_count": 12,
   "metadata": {
    "id": "yGjzl0ZPBVnE"
   },
   "outputs": [],
   "source": [
    "data[\"timestamp\"] = pd.to_datetime(data[\"timestamp\"]).map(pd.Timestamp.timestamp).astype(int)"
   ]
  },
  {
   "cell_type": "markdown",
   "metadata": {
    "id": "VhRrTz4GSY5E"
   },
   "source": [
    "To work with sklearn's TimeSeriesSplit, we need to replace the index with the time dimension and sort it by this value."
   ]
  },
  {
   "cell_type": "code",
   "execution_count": 13,
   "metadata": {
    "id": "655Uzu9JSXzL"
   },
   "outputs": [],
   "source": [
    "try:\n",
    "    data.set_index(DATA_CONFIG[\"TIME_COLUMN\"], inplace=True)\n",
    "    data.sort_values(by=DATA_CONFIG[\"TIME_COLUMN\"], inplace=True)\n",
    "\n",
    "except KeyError:\n",
    "    print(f\"Already set index to {DATA_CONFIG['TIME_COLUMN']}\")"
   ]
  },
  {
   "cell_type": "markdown",
   "metadata": {
    "id": "UjfQggZacEf_"
   },
   "source": [
    "### Holdout validation split"
   ]
  },
  {
   "cell_type": "markdown",
   "metadata": {
    "id": "JEqlqHBS_V5-"
   },
   "source": [
    "To verify our models, we split the data into three partitions of size 80% - 10% - 10% for training, validation and testing."
   ]
  },
  {
   "cell_type": "code",
   "execution_count": 14,
   "metadata": {
    "id": "v3WyUI1D_VkT"
   },
   "outputs": [],
   "source": [
    "split_index = int(data.shape[0] * (1 - DATA_CONFIG[\"TEST_SET_SIZE\"]))\n",
    "train_valid_set = data.iloc[:split_index, :]\n",
    "test_set = data.iloc[split_index:, :]"
   ]
  },
  {
   "cell_type": "code",
   "execution_count": 15,
   "metadata": {
    "id": "H7d7H2UeSt2S"
   },
   "outputs": [],
   "source": [
    "tss = TimeSeriesSplit(n_splits=5)"
   ]
  },
  {
   "cell_type": "code",
   "execution_count": 16,
   "metadata": {
    "id": "c8PflNdkSrNd"
   },
   "outputs": [],
   "source": [
    "X, y = x_y_split(train_valid_set, target_column=DATA_CONFIG[\"TARGET_COLUMN\"])"
   ]
  },
  {
   "cell_type": "code",
   "execution_count": 17,
   "metadata": {
    "id": "lxvx1rWyB4X2"
   },
   "outputs": [],
   "source": [
    "X_test, y_test = x_y_split(test_set, target_column=DATA_CONFIG[\"TARGET_COLUMN\"])"
   ]
  },
  {
   "cell_type": "code",
   "execution_count": 18,
   "metadata": {
    "colab": {
     "base_uri": "https://localhost:8080/"
    },
    "id": "W19puEggS8MN",
    "outputId": "85ee9d5b-1c06-4c6e-85bd-6a1767925a27"
   },
   "outputs": [
    {
     "output_type": "stream",
     "name": "stdout",
     "text": [
      "Training set index:\n",
      "Int64Index([1417219200, 1417219260, 1417219320, 1417219380, 1417219440,\n",
      "            1417219500, 1417219560, 1417219620, 1417219680, 1417219740,\n",
      "            ...\n",
      "            1440999900, 1440999960, 1441000020, 1441000080, 1441000140,\n",
      "            1441000200, 1441000260, 1441000320, 1441000380, 1441000440],\n",
      "           dtype='int64', name='timestamp', length=141051)\n",
      "\n",
      "Test set index:\n",
      "Int64Index([1442695560, 1442695620, 1442695680, 1442695740, 1442695800,\n",
      "            1442695860, 1442695920, 1442695980, 1442696040, 1442696100,\n",
      "            ...\n",
      "            1443829860, 1443829920, 1443829980, 1443830040, 1443830100,\n",
      "            1443830160, 1443830220, 1443830280, 1443830340, 1443830400],\n",
      "           dtype='int64', name='timestamp', length=18807)\n"
     ]
    }
   ],
   "source": [
    "for train_index, test_index in tss.split(X):\n",
    "    X_train, X_valid = X.iloc[train_index, :], X.iloc[test_index,:]\n",
    "    y_train, y_valid = y.iloc[train_index], y.iloc[test_index]\n",
    "\n",
    "# checking whether split was correct\n",
    "print(f\"Training set index:\\n{X_train.index}\\n\")\n",
    "print(f\"Test set index:\\n{X_test.index}\\n\")"
   ]
  },
  {
   "cell_type": "markdown",
   "metadata": {
    "id": "1-cN07aLcPhj"
   },
   "source": [
    "### Correlation and constant values"
   ]
  },
  {
   "cell_type": "markdown",
   "metadata": {
    "id": "P5U46FI6fetO"
   },
   "source": [
    "Columns containing correlated values tend to worsen model performance, therefore they can be removed to reduce complexity and improve resource utilization.\n"
   ]
  },
  {
   "cell_type": "code",
   "execution_count": 19,
   "metadata": {
    "colab": {
     "base_uri": "https://localhost:8080/",
     "height": 456
    },
    "id": "DFJKc1nuNk9v",
    "outputId": "457b5879-d5a3-4b8d-fc96-116de37bad86"
   },
   "outputs": [
    {
     "output_type": "stream",
     "name": "stdout",
     "text": [
      "Original number of features: 235\n"
     ]
    },
    {
     "output_type": "display_data",
     "data": {
      "text/plain": [
       "<Figure size 640x480 with 2 Axes>"
      ],
      "image/png": "[encoded data removed]"
     },
     "metadata": {}
    },
    {
     "output_type": "stream",
     "name": "stdout",
     "text": [
      "Remaining number of features: 197\n"
     ]
    }
   ],
   "source": [
    "if DATA_CONFIG[\"REMOVE_CORRELATED_FEATURES\"]:\n",
    "    X_train, correlated_columns = drop_correlated_features(X_train, feature_columns=DATA_CONFIG[\"FEATURE_COLUMNS\"], threshold=0.95, plot=DATA_CONFIG[\"CREATE_PLOTS\"])\n",
    "    DATA_CONFIG[\"FEATURE_COLUMNS\"] = [feature for feature in X_train.columns]\n",
    "    X_valid = X_valid.drop(columns=correlated_columns)\n",
    "    X_test = X_test.drop(columns=correlated_columns)"
   ]
  },
  {
   "cell_type": "markdown",
   "metadata": {
    "id": "uOCLVHzpe-Kk"
   },
   "source": [
    "Columns containing constant values, i.e. columns that contain just one unique value don't add anything to the model, therefore they can be removed to reduce complexity and improve resource utilization.\n"
   ]
  },
  {
   "cell_type": "code",
   "execution_count": 20,
   "metadata": {
    "colab": {
     "base_uri": "https://localhost:8080/"
    },
    "id": "VxvGP1Njh3Pb",
    "outputId": "faea12e7-e3fe-4320-e1e9-2c82c17abfff"
   },
   "outputs": [
    {
     "output_type": "stream",
     "name": "stdout",
     "text": [
      "Original number of features: 197\n",
      "Remaining number of features: 87\n"
     ]
    }
   ],
   "source": [
    "if DATA_CONFIG[\"REMOVE_CONSTANT_FEATURES\"]:\n",
    "    X_train, constant_columns = drop_constant_features(X_train, feature_columns=DATA_CONFIG[\"FEATURE_COLUMNS\"])\n",
    "    DATA_CONFIG[\"FEATURE_COLUMNS\"] = [feature for feature in X_train.columns]\n",
    "    X_valid = X_valid.drop(columns=constant_columns)\n",
    "    X_test = X_test.drop(columns=constant_columns)\n"
   ]
  },
  {
   "cell_type": "markdown",
   "metadata": {
    "id": "Ysv80HBbcWgk"
   },
   "source": [
    "### Undersampling"
   ]
  },
  {
   "cell_type": "code",
   "source": [
    "y_train.value_counts(normalize=True)"
   ],
   "metadata": {
    "colab": {
     "base_uri": "https://localhost:8080/"
    },
    "id": "AnTjal15fQrN",
    "outputId": "7a42db81-29ed-4429-876b-dff0d7d74658"
   },
   "execution_count": 21,
   "outputs": [
    {
     "output_type": "execute_result",
     "data": {
      "text/plain": [
       "0    0.835868\n",
       "1    0.164132\n",
       "Name: isAnomaly, dtype: float64"
      ]
     },
     "metadata": {},
     "execution_count": 21
    }
   ]
  },
  {
   "cell_type": "code",
   "execution_count": 22,
   "metadata": {
    "colab": {
     "base_uri": "https://localhost:8080/",
     "height": 491
    },
    "id": "np0E_z_VC1aJ",
    "outputId": "455744a7-d923-4198-e2b8-8a4d797384a0"
   },
   "outputs": [
    {
     "output_type": "display_data",
     "data": {
      "text/plain": [
       "<Figure size 191.667x500 with 1 Axes>"
      ],
      "image/png": "[encoded data removed]"
     },
     "metadata": {}
    }
   ],
   "source": [
    "if DATA_CONFIG[\"CREATE_PLOTS\"]:\n",
    "    plot_target_col(data=y_train, max_y=120000, y_tick_interval=20000,\n",
    "                    target_class_names=DATA_CONFIG[\"TARGET_CLASS_NAMES\"], pdf_filename=\"eda_categories\")"
   ]
  },
  {
   "cell_type": "code",
   "execution_count": 23,
   "metadata": {
    "colab": {
     "base_uri": "https://localhost:8080/",
     "height": 491
    },
    "id": "R7nPVF5MDYVN",
    "outputId": "87bfb9a3-a843-4a6f-c27b-41fb1958d989"
   },
   "outputs": [
    {
     "output_type": "display_data",
     "data": {
      "text/plain": [
       "<Figure size 191.667x500 with 1 Axes>"
      ],
      "image/png": "[encoded data removed]"
     },
     "metadata": {}
    }
   ],
   "source": [
    "# undersampling\n",
    "rus = RandomUnderSampler(random_state=DATA_CONFIG[\"RANDOM_STATE\"])\n",
    "X_train, y_train = rus.fit_resample(X_train, y_train)\n",
    "X_train = X_train.reset_index(drop=True)\n",
    "y_train = y_train.reset_index(drop=True)\n",
    "\n",
    "if DATA_CONFIG[\"CREATE_PLOTS\"]:\n",
    "    plot_target_col(data=y_train, max_y=25000, y_tick_interval=5000,\n",
    "                    target_class_names=DATA_CONFIG[\"TARGET_CLASS_NAMES\"], pdf_filename=\"eda_categories_balanced\")"
   ]
  },
  {
   "cell_type": "markdown",
   "metadata": {
    "id": "EKN5Mm4dca2m"
   },
   "source": [
    "### Scaling"
   ]
  },
  {
   "cell_type": "code",
   "execution_count": 24,
   "metadata": {
    "colab": {
     "base_uri": "https://localhost:8080/"
    },
    "id": "XxWgY8oFF1UD",
    "outputId": "8a8f6d3b-676f-4250-cc1e-e9eef331b484"
   },
   "outputs": [
    {
     "output_type": "stream",
     "name": "stdout",
     "text": [
      "Features not included in scaling: ['process_wls1' 'host_lphost06' 'host_lphost14' 'host_lphost15']\n"
     ]
    }
   ],
   "source": [
    "exclude_from_scaling = np.array([feature for feature in X_train.columns if feature.startswith((\"process\", \"host\"))])\n",
    "print(f\"Features not included in scaling: {exclude_from_scaling}\")\n",
    "    \n",
    "mms_train = StandardScaler()\n",
    "X_train = scale_dataset(X_train, exclude_from_scaling, mms_train)\n",
    "\n",
    "mms_valid = StandardScaler()\n",
    "X_valid = scale_dataset(X_valid, exclude_from_scaling, mms_valid)\n",
    "\n",
    "mms_test = StandardScaler()\n",
    "X_test = scale_dataset(X_test, exclude_from_scaling, mms_test)"
   ]
  },
  {
   "cell_type": "markdown",
   "metadata": {
    "id": "OCtzBNAiJL_W"
   },
   "source": [
    "Serialize the test data to load it at a later point again."
   ]
  },
  {
   "cell_type": "code",
   "execution_count": 25,
   "metadata": {
    "id": "81Wf03pIJKpX"
   },
   "outputs": [],
   "source": [
    "#serialized_test_data = pd.concat([X_test, y_test], axis=1)\n",
    "#torch.save(serialized_test_data, \"/content/drive/MyDrive/test_set.pth\")"
   ]
  },
  {
   "cell_type": "code",
   "execution_count": 26,
   "metadata": {
    "colab": {
     "base_uri": "https://localhost:8080/"
    },
    "id": "aKqO5XuQ921U",
    "outputId": "14287cbd-bbdf-47ff-a861-9bc6bfb3ca60"
   },
   "outputs": [
    {
     "output_type": "stream",
     "name": "stdout",
     "text": [
      "Using cuda for model training\n"
     ]
    }
   ],
   "source": [
    "available_device = torch.device('cuda' if torch.cuda.is_available() else 'cpu')\n",
    "print(f\"Using {'cuda' if torch.cuda.is_available() else 'cpu'} for model training\")"
   ]
  },
  {
   "cell_type": "markdown",
   "metadata": {
    "id": "yC54jmd5jDXd"
   },
   "source": [
    "## LSTM"
   ]
  },
  {
   "cell_type": "markdown",
   "metadata": {
    "id": "1eJ_oaNHk8il"
   },
   "source": [
    "### LSTM data preparation\n",
    "\n",
    "To make our dataset work with LSTM, we need to add another dimension to it by sequencing the dataset. Since one measurement is taken every minute, we created a sequence that contains a one hour window.\n",
    "Applying *np.array()* on the sequence helps speeding up the creation of tensors in the next step.\n",
    "\n",
    "We then convert our sequenced dataset into PyTorch tensors."
   ]
  },
  {
   "cell_type": "code",
   "execution_count": 83,
   "metadata": {
    "colab": {
     "base_uri": "https://localhost:8080/"
    },
    "id": "OgHb2Je4k5ff",
    "outputId": "78c8d393-cb73-4065-8d2a-e751b507842a"
   },
   "outputs": [
    {
     "output_type": "stream",
     "name": "stdout",
     "text": [
      "X_train size: torch.Size([46272, 30, 87])\n",
      "y_train size: torch.Size([46272])\n",
      "X_valid size: torch.Size([28180, 30, 87])\n",
      "y_valid size: torch.Size([28180])\n",
      "X_test size: torch.Size([18777, 30, 87])\n",
      "y_test size: torch.Size([18777])\n"
     ]
    }
   ],
   "source": [
    "X_train_seq = transform_sequences(X_train.values, DATA_CONFIG[\"SEQUENCE_SIZE\"])\n",
    "X_train_tensor = torch.tensor(X_train_seq, dtype=torch.float32).to(available_device)\n",
    "print(f\"X_train size: {X_train_tensor.size()}\")\n",
    "\n",
    "y_train_seq = transform_sequences(y_train.values, DATA_CONFIG[\"SEQUENCE_SIZE\"], target=True)\n",
    "y_train_tensor = torch.tensor(y_train_seq, dtype=torch.float32).to(available_device)\n",
    "print(f\"y_train size: {y_train_tensor.size()}\")\n",
    "\n",
    "X_valid_seq = transform_sequences(X_valid.values, DATA_CONFIG[\"SEQUENCE_SIZE\"])\n",
    "X_valid_tensor = torch.tensor(X_valid_seq, dtype=torch.float32).to(available_device)\n",
    "print(f\"X_valid size: {X_valid_tensor.size()}\")\n",
    "\n",
    "y_valid_seq = transform_sequences(y_valid.values, DATA_CONFIG[\"SEQUENCE_SIZE\"], target=True)\n",
    "y_valid_tensor = torch.tensor(y_valid_seq, dtype=torch.float32).to(available_device)\n",
    "print(f\"y_valid size: {y_valid_tensor.size()}\")\n",
    "\n",
    "X_test_seq = transform_sequences(X_test.values, DATA_CONFIG[\"SEQUENCE_SIZE\"])\n",
    "X_test_tensor = torch.tensor(X_test_seq, dtype=torch.float32).to(available_device)\n",
    "print(f\"X_test size: {X_test_tensor.size()}\")\n",
    "\n",
    "y_test_seq = transform_sequences(y_test.values, DATA_CONFIG[\"SEQUENCE_SIZE\"], target=True)\n",
    "y_test_tensor = torch.tensor(y_test_seq, dtype=torch.float32).to(available_device)\n",
    "print(f\"y_test size: {y_test_tensor.size()}\")"
   ]
  },
  {
   "cell_type": "markdown",
   "metadata": {
    "id": "Yd5sJuVAlUbB"
   },
   "source": [
    "For the final step, we create batches of 128. In case CUDA is not available, we also optimized the CPU-utilizing version."
   ]
  },
  {
   "cell_type": "code",
   "execution_count": 96,
   "metadata": {
    "id": "uUp2WFq8lTnt"
   },
   "outputs": [],
   "source": [
    "# Create DataLoader\n",
    "train_dataset = TensorDataset(X_train_tensor, y_train_tensor)\n",
    "valid_dataset = TensorDataset(X_valid_tensor, y_valid_tensor)\n",
    "test_dataset = TensorDataset(X_test_tensor, y_test_tensor)\n",
    "\n",
    "if torch.cuda.is_available():\n",
    "    train_dataloader = DataLoader(train_dataset, batch_size=DATA_CONFIG[\"BATCH_SIZE\"], shuffle=False)\n",
    "    valid_dataloader = DataLoader(valid_dataset, batch_size=DATA_CONFIG[\"BATCH_SIZE\"], shuffle=False)\n",
    "    test_dataloader = DataLoader(test_dataset, batch_size=DATA_CONFIG[\"BATCH_SIZE\"], shuffle=False)\n",
    "else:\n",
    "    # 2 is apparently the recommended number for colab\n",
    "    NUM_WORKERS = 2\n",
    "    train_dataloader = DataLoader(train_dataset, batch_size=DATA_CONFIG[\"BATCH_SIZE\"], shuffle=False, num_workers=NUM_WORKERS, pin_memory=True)\n",
    "    valid_dataloader = DataLoader(valid_dataset, batch_size=DATA_CONFIG[\"BATCH_SIZE\"], shuffle=False, num_workers=NUM_WORKERS, pin_memory=True)\n",
    "    test_dataloader = DataLoader(test_dataset, batch_size=DATA_CONFIG[\"BATCH_SIZE\"], shuffle=False, num_workers=NUM_WORKERS, pin_memory=True)\n"
   ]
  },
  {
   "cell_type": "code",
   "source": [
    "torch.save(test_dataloader, \"/content/drive/MyDrive/test_set.pth\")"
   ],
   "metadata": {
    "id": "yH7FAFoZWocI"
   },
   "execution_count": 97,
   "outputs": []
  },
  {
   "cell_type": "markdown",
   "metadata": {
    "id": "5eTZbJKf0uPu"
   },
   "source": [
    "### Model declaration"
   ]
  },
  {
   "cell_type": "code",
   "execution_count": 85,
   "metadata": {
    "id": "FelUZzPTRpqa"
   },
   "outputs": [],
   "source": [
    "# LSTM Model\n",
    "class LSTMClassifier(nn.Module):\n",
    "    def __init__(self, input_size, hidden_size, num_layers, num_classes, dropout_reguralization):\n",
    "        super(LSTMClassifier, self).__init__()\n",
    "        self.hidden_size = hidden_size\n",
    "        self.num_layers = num_layers\n",
    "        self.lstm = nn.LSTM(input_size, hidden_size, num_layers, batch_first=True, dropout=dropout_reguralization)\n",
    "        self.fc = nn.Linear(hidden_size, num_classes)\n",
    "\n",
    "    def forward(self, x):\n",
    "        h0 = torch.zeros(self.num_layers, x.size(0), self.hidden_size).to(available_device)\n",
    "        c0 = torch.zeros(self.num_layers, x.size(0), self.hidden_size).to(available_device)\n",
    "\n",
    "        out, _ = self.lstm(x, (h0, c0))\n",
    "        out = self.fc(out[:, -1, :])\n",
    "        return out\n",
    "\n",
    "\n",
    "def train_lstm(model, optimizer, num_epochs, lr, train_data):\n",
    "    training_start = time.time()\n",
    "    criterion = nn.CrossEntropyLoss()\n",
    "\n",
    "    for epoch in range(num_epochs):\n",
    "        for i, (inputs, labels) in enumerate(train_data):\n",
    "            inputs = inputs.to(available_device)\n",
    "            labels = labels.long().to(available_device)\n",
    "            outputs = model(inputs)\n",
    "            loss = criterion(outputs, labels)\n",
    "\n",
    "            optimizer.zero_grad()\n",
    "            loss.backward()\n",
    "            optimizer.step()\n",
    "\n",
    "        if (epoch + 1) % 5 == 0:\n",
    "            print(f'Epoch [{epoch + 1}/{num_epochs}], Loss: {loss.item():.4f}')\n",
    "\n",
    "    training_duration = time.time() - training_start\n",
    "    print(f'Training took {training_duration:.2f} seconds')\n",
    "\n",
    "\n",
    "def evaluate_model(model, test_data: DataLoader):\n",
    "    model.eval()\n",
    "    with torch.no_grad():\n",
    "        correct = 0\n",
    "        total = 0\n",
    "        for inputs, labels in test_dataloader:\n",
    "            labels = labels.long()\n",
    "            outputs = model(inputs)\n",
    "            _, predicted = torch.max(outputs.data, 1)\n",
    "            total += labels.size(0)\n",
    "            correct += (predicted == labels).sum().item()\n",
    "\n",
    "        print(f'Accuracy: {100 * correct / total:.2f}%')\n",
    "\n",
    "\n",
    "def train_evaluate_lstm(model, optimizer, num_epochs, lr, train_data: DataLoader, test_data: DataLoader):\n",
    "    train_lstm(model=model, optimizer=optimizer, num_epochs=num_epochs, lr=lr, train_data=train_data)\n",
    "    evaluate_model(model=model, test_data=test_data)"
   ]
  },
  {
   "cell_type": "markdown",
   "metadata": {
    "id": "_04jD8SZkF_x"
   },
   "source": [
    "### Base line model"
   ]
  },
  {
   "cell_type": "markdown",
   "metadata": {
    "id": "j1iN35CFOGtj"
   },
   "source": [
    "Using an LSTM with 2 layers with a hidden size of 200 as the baseline model, due to it's usage in the original paper by Huch et al. "
   ]
  },
  {
   "cell_type": "code",
   "execution_count": null,
   "metadata": {
    "colab": {
     "base_uri": "https://localhost:8080/"
    },
    "id": "_f1afcKtB1vK",
    "outputId": "3c918b0a-ac4e-49de-d070-286ee0a12d50"
   },
   "outputs": [
    {
     "output_type": "stream",
     "name": "stdout",
     "text": [
      "Epoch [5/10], Loss: 0.0000\n",
      "Epoch [10/10], Loss: 0.0000\n",
      "Training took 26.89 seconds\n",
      "Accuracy: 74.22%\n"
     ]
    }
   ],
   "source": [
    "model_config = {\n",
    "    \"input_size\": X_train_tensor.size(2),\n",
    "    \"hidden_size\": 200,\n",
    "    \"num_layers\": 2,\n",
    "    \"num_outputs\": 2,\n",
    "    \"learning_rate\": 0.0025,\n",
    "    \"num_epochs\": 10,\n",
    "    \"dropout_rate\": 0,\n",
    "    \"weight_decay\": 0\n",
    "}\n",
    "\n",
    "model1 = LSTMClassifier(model_config[\"input_size\"], model_config[\"hidden_size\"], model_config[\"num_layers\"], model_config[\"num_outputs\"], model_config[\"dropout_rate\"]).to(available_device)\n",
    "model_config[\"optimizer\"] = torch.optim.RMSprop(model1.parameters(), lr=model_config[\"learning_rate\"], weight_decay=model_config[\"weight_decay\"])\n",
    "train_evaluate_lstm(model=model1, optimizer=model_config[\"optimizer\"], num_epochs=model_config[\"num_epochs\"], lr=model_config[\"learning_rate\"], train_data=train_dataloader, test_data=valid_dataloader)"
   ]
  },
  {
   "cell_type": "markdown",
   "source": [
    "### Reduce to one layer"
   ],
   "metadata": {
    "id": "VC4gMGDPy2NC"
   }
  },
  {
   "cell_type": "markdown",
   "metadata": {
    "id": "1iCdhyfFPTEw"
   },
   "source": [
    "Next, we're trying to simplify the architecture by just using one layer of LSTM cells to reduce training time while getting similar model performance, while other parameters stay the same."
   ]
  },
  {
   "cell_type": "code",
   "execution_count": null,
   "metadata": {
    "colab": {
     "base_uri": "https://localhost:8080/"
    },
    "id": "YFk5dMcvA8By",
    "outputId": "95d1922b-178f-44d5-dda6-4a54789d99e1"
   },
   "outputs": [
    {
     "output_type": "stream",
     "name": "stdout",
     "text": [
      "Epoch [5/10], Loss: 0.0000\n",
      "Epoch [10/10], Loss: 0.0000\n",
      "Training took 14.58 seconds\n",
      "Accuracy: 72.91%\n"
     ]
    }
   ],
   "source": [
    "model_config = {\n",
    "    \"input_size\": X_train_tensor.size(2),\n",
    "    \"hidden_size\": 200,\n",
    "    \"num_layers\": 1,\n",
    "    \"num_outputs\": 2,\n",
    "    \"learning_rate\": 0.0025,\n",
    "    \"num_epochs\": 10,\n",
    "    \"dropout_rate\": 0,\n",
    "    \"weight_decay\": 0\n",
    "}\n",
    "\n",
    "model2 = LSTMClassifier(model_config[\"input_size\"], model_config[\"hidden_size\"], model_config[\"num_layers\"], model_config[\"num_outputs\"], model_config[\"dropout_rate\"]).to(available_device)\n",
    "model_config[\"optimizer\"] = torch.optim.RMSprop(model2.parameters(), lr=model_config[\"learning_rate\"], weight_decay=model_config[\"weight_decay\"])\n",
    "train_evaluate_lstm(model=model2, optimizer=model_config[\"optimizer\"], num_epochs=model_config[\"num_epochs\"], lr=model_config[\"learning_rate\"], train_data=train_dataloader, test_data=valid_dataloader)"
   ]
  },
  {
   "cell_type": "markdown",
   "source": [
    "### Learning rate"
   ],
   "metadata": {
    "id": "icZDiYfvw53V"
   }
  },
  {
   "cell_type": "code",
   "source": [
    "model_config = {\n",
    "    \"input_size\": X_train_tensor.size(2),\n",
    "    \"num_layers\": 1,\n",
    "    \"num_outputs\": 2,\n",
    "    \"hidden_size\": 200,\n",
    "    \"num_epochs\": 10,\n",
    "    \"dropout_rate\": 0,\n",
    "    \"weight_decay\": 0\n",
    "}\n",
    "\n",
    "learning_rate_variations = [0.001, 0.0015, 0.002, 0.0025, 0.003, 0.0035, 0.004, 0.0045, 0.005]\n",
    "\n",
    "for learning_rate in learning_rate_variations:\n",
    "\n",
    "    model_config[\"learning_rate\"] = learning_rate\n",
    "    print(f\"\\nTrying learning_rate={model_config['learning_rate']}\")\n",
    "    \n",
    "    learning_rate_variations_lstm = LSTMClassifier(model_config[\"input_size\"], model_config[\"hidden_size\"], model_config[\"num_layers\"], model_config[\"num_outputs\"], model_config[\"dropout_rate\"]).to(available_device)\n",
    "\n",
    "    model_config[\"optimizer\"] = torch.optim.RMSprop(learning_rate_variations_lstm.parameters(), lr=model_config[\"learning_rate\"], weight_decay=model_config[\"weight_decay\"])\n",
    "\n",
    "    train_evaluate_lstm(model=learning_rate_variations_lstm, optimizer=model_config[\"optimizer\"], num_epochs=model_config[\"num_epochs\"], lr=model_config[\"learning_rate\"], train_data=train_dataloader, test_data=valid_dataloader)"
   ],
   "metadata": {
    "id": "V9CuIqFsw5c1",
    "colab": {
     "base_uri": "https://localhost:8080/"
    },
    "outputId": "4b25b010-9b18-401a-807b-6fde76fb5770"
   },
   "execution_count": null,
   "outputs": [
    {
     "output_type": "stream",
     "name": "stdout",
     "text": [
      "\n",
      "Trying learning_rate=0.001\n",
      "Epoch [5/10], Loss: 0.0000\n",
      "Epoch [10/10], Loss: 0.0000\n",
      "Training took 13.36 seconds\n",
      "Accuracy: 74.81%\n",
      "\n",
      "Trying learning_rate=0.0015\n",
      "Epoch [5/10], Loss: 0.0000\n",
      "Epoch [10/10], Loss: 0.0000\n",
      "Training took 15.49 seconds\n",
      "Accuracy: 72.83%\n",
      "\n",
      "Trying learning_rate=0.002\n",
      "Epoch [5/10], Loss: 0.0000\n",
      "Epoch [10/10], Loss: 0.0000\n",
      "Training took 25.83 seconds\n",
      "Accuracy: 73.69%\n",
      "\n",
      "Trying learning_rate=0.0025\n",
      "Epoch [5/10], Loss: 0.0000\n",
      "Epoch [10/10], Loss: 0.0000\n",
      "Training took 22.03 seconds\n",
      "Accuracy: 62.21%\n",
      "\n",
      "Trying learning_rate=0.003\n",
      "Epoch [5/10], Loss: 0.0000\n",
      "Epoch [10/10], Loss: 0.0000\n",
      "Training took 19.58 seconds\n",
      "Accuracy: 76.20%\n",
      "\n",
      "Trying learning_rate=0.0035\n",
      "Epoch [5/10], Loss: 0.0000\n",
      "Epoch [10/10], Loss: 0.0000\n",
      "Training took 22.68 seconds\n",
      "Accuracy: 74.78%\n",
      "\n",
      "Trying learning_rate=0.004\n",
      "Epoch [5/10], Loss: 0.0000\n",
      "Epoch [10/10], Loss: 0.0000\n",
      "Training took 20.14 seconds\n",
      "Accuracy: 77.26%\n",
      "\n",
      "Trying learning_rate=0.0045\n",
      "Epoch [5/10], Loss: 0.0000\n",
      "Epoch [10/10], Loss: 0.0000\n",
      "Training took 21.46 seconds\n",
      "Accuracy: 24.30%\n",
      "\n",
      "Trying learning_rate=0.005\n",
      "Epoch [5/10], Loss: 0.0000\n",
      "Epoch [10/10], Loss: 0.0000\n",
      "Training took 21.16 seconds\n",
      "Accuracy: 78.79%\n"
     ]
    }
   ]
  },
  {
   "cell_type": "markdown",
   "metadata": {
    "id": "Ja8kEL5Bj5Gw"
   },
   "source": [
    "### Hidden_size"
   ]
  },
  {
   "cell_type": "markdown",
   "metadata": {
    "id": "MegydSq-PpZD"
   },
   "source": [
    "Next, we try out the effect of model size on model performance by trying different combinations."
   ]
  },
  {
   "cell_type": "code",
   "execution_count": null,
   "metadata": {
    "colab": {
     "base_uri": "https://localhost:8080/"
    },
    "id": "fwMY1PHzNQ-O",
    "outputId": "d3fab02f-d175-49a1-99c3-b49764d1542e"
   },
   "outputs": [
    {
     "output_type": "stream",
     "name": "stdout",
     "text": [
      "\n",
      "Trying hidden_size=50\n",
      "Epoch [5/10], Loss: 0.0000\n",
      "Epoch [10/10], Loss: 0.0000\n",
      "Training took 12.22 seconds\n",
      "Accuracy: 77.43%\n",
      "\n",
      "Trying hidden_size=100\n",
      "Epoch [5/10], Loss: 0.0000\n",
      "Epoch [10/10], Loss: 0.0000\n",
      "Training took 11.97 seconds\n",
      "Accuracy: 75.92%\n",
      "\n",
      "Trying hidden_size=150\n",
      "Epoch [5/10], Loss: 0.0000\n",
      "Epoch [10/10], Loss: 0.0000\n",
      "Training took 20.85 seconds\n",
      "Accuracy: 78.10%\n",
      "\n",
      "Trying hidden_size=200\n",
      "Epoch [5/10], Loss: 0.0000\n",
      "Epoch [10/10], Loss: 0.0000\n",
      "Training took 15.99 seconds\n",
      "Accuracy: 75.24%\n"
     ]
    }
   ],
   "source": [
    "model_config = {\n",
    "    \"input_size\": X_train_tensor.size(2),\n",
    "    \"num_layers\": 1,\n",
    "    \"num_outputs\": 2,\n",
    "    \"learning_rate\": 0.0025,\n",
    "    \"num_epochs\": 10,\n",
    "    \"dropout_rate\": 0,\n",
    "    \"weight_decay\": 0\n",
    "}\n",
    "\n",
    "hidden_size_variations = [50, 100, 150, 200]\n",
    "\n",
    "for hidden_size in hidden_size_variations:\n",
    "\n",
    "    model_config[\"hidden_size\"] = hidden_size\n",
    "    print(f\"\\nTrying hidden_size={model_config['hidden_size']}\")\n",
    "    \n",
    "    hidden_size_variations_model = LSTMClassifier(model_config[\"input_size\"], model_config[\"hidden_size\"], model_config[\"num_layers\"], model_config[\"num_outputs\"], model_config[\"dropout_rate\"]).to(available_device)\n",
    "\n",
    "    model_config[\"optimizer\"] = torch.optim.RMSprop(hidden_size_variations_model.parameters(), lr=model_config[\"learning_rate\"], weight_decay=model_config[\"weight_decay\"])\n",
    "\n",
    "    train_evaluate_lstm(model=hidden_size_variations_model, optimizer=model_config[\"optimizer\"], num_epochs=model_config[\"num_epochs\"], lr=model_config[\"learning_rate\"], train_data=train_dataloader, test_data=valid_dataloader)"
   ]
  },
  {
   "cell_type": "markdown",
   "metadata": {
    "id": "AXCZoB3ARFOa"
   },
   "source": [
    "We see that the model with a `hidden_size` of 100 performs best for one layer."
   ]
  },
  {
   "cell_type": "markdown",
   "metadata": {
    "id": "k-l_N-s1j0YV"
   },
   "source": [
    "### Hidden_size with 2 layers"
   ]
  },
  {
   "cell_type": "markdown",
   "metadata": {
    "id": "M2GMY1MhRTU3"
   },
   "source": [
    "Let's introduce a second layer so that we can also experiment with a dropout rate at a later point. A second layer is necessary for dropout since PyTorch's LSTM implementation adds dropout for every layer except the nth layer, so with `num_layers=1`, dropout wouldn't be applied. We then try out the same combinations of hidden_size as in the previous experiment to find a good 'hidden_size'."
   ]
  },
  {
   "cell_type": "code",
   "execution_count": null,
   "metadata": {
    "colab": {
     "base_uri": "https://localhost:8080/"
    },
    "id": "p0qyGfkANTxh",
    "outputId": "3bee7224-b036-49a1-d6dd-4052ce731e81"
   },
   "outputs": [
    {
     "output_type": "stream",
     "name": "stdout",
     "text": [
      "\n",
      "Trying hidden_size=50\n",
      "Epoch [5/10], Loss: 0.0000\n",
      "Epoch [10/10], Loss: 0.0000\n",
      "Training took 10.87 seconds\n",
      "Accuracy: 74.04%\n",
      "\n",
      "Trying hidden_size=100\n",
      "Epoch [5/10], Loss: 0.0000\n",
      "Epoch [10/10], Loss: 0.0000\n",
      "Training took 10.59 seconds\n",
      "Accuracy: 78.44%\n",
      "\n",
      "Trying hidden_size=150\n",
      "Epoch [5/10], Loss: 0.0000\n",
      "Epoch [10/10], Loss: 0.0000\n",
      "Training took 25.47 seconds\n",
      "Accuracy: 66.98%\n",
      "\n",
      "Trying hidden_size=200\n",
      "Epoch [5/10], Loss: 0.0000\n",
      "Epoch [10/10], Loss: 0.0000\n",
      "Training took 19.76 seconds\n",
      "Accuracy: 81.47%\n"
     ]
    }
   ],
   "source": [
    "model_config = {\n",
    "    \"input_size\": X_train_tensor.size(2),\n",
    "    \"num_layers\": 2,\n",
    "    \"num_outputs\": 2,\n",
    "    \"learning_rate\": 0.0025,\n",
    "    \"num_epochs\": 10,\n",
    "    \"dropout_rate\": 0,\n",
    "    \"weight_decay\": 0\n",
    "}\n",
    "\n",
    "hidden_size_variations = [50, 100, 150, 200]\n",
    "\n",
    "for hidden_size in hidden_size_variations:\n",
    "\n",
    "    model_config[\"hidden_size\"] = hidden_size\n",
    "    print(f\"\\nTrying hidden_size={model_config['hidden_size']}\")\n",
    "    \n",
    "    hidden_size_variations_model = LSTMClassifier(model_config[\"input_size\"], model_config[\"hidden_size\"], model_config[\"num_layers\"], model_config[\"num_outputs\"], model_config[\"dropout_rate\"]).to(available_device)\n",
    "\n",
    "    model_config[\"optimizer\"] = torch.optim.RMSprop(hidden_size_variations_model.parameters(), lr=model_config[\"learning_rate\"], weight_decay=model_config[\"weight_decay\"])\n",
    "\n",
    "    train_evaluate_lstm(model=hidden_size_variations_model, optimizer=model_config[\"optimizer\"], num_epochs=model_config[\"num_epochs\"], lr=model_config[\"learning_rate\"], train_data=train_dataloader, test_data=valid_dataloader)"
   ]
  },
  {
   "cell_type": "markdown",
   "metadata": {
    "id": "tYPBqWlliibm"
   },
   "source": [
    "### Dropout rate"
   ]
  },
  {
   "cell_type": "code",
   "execution_count": null,
   "metadata": {
    "colab": {
     "base_uri": "https://localhost:8080/"
    },
    "id": "toy7GaLoNvCB",
    "outputId": "d7851e3d-1376-4223-ea9f-9c1345533dcc"
   },
   "outputs": [
    {
     "output_type": "stream",
     "name": "stdout",
     "text": [
      "\n",
      "Trying dropout_rate=0.2\n",
      "Epoch [5/10], Loss: 0.0000\n",
      "Epoch [10/10], Loss: 0.0000\n",
      "Training took 12.00 seconds\n",
      "Accuracy: 76.21%\n",
      "\n",
      "Trying dropout_rate=0.4\n",
      "Epoch [5/10], Loss: 0.0000\n",
      "Epoch [10/10], Loss: 0.0000\n",
      "Training took 10.60 seconds\n",
      "Accuracy: 58.41%\n"
     ]
    }
   ],
   "source": [
    "model_config = {\n",
    "    \"input_size\": X_train_tensor.size(2),\n",
    "    \"num_layers\": 2,\n",
    "    \"num_outputs\": 2,\n",
    "    \"hidden_size\": 100,\n",
    "    \"learning_rate\": 0.0025,\n",
    "    \"num_epochs\": 10,\n",
    "    \"weight_decay\": 0\n",
    "}\n",
    "\n",
    "dropout_rate_variations = [0.2, 0.4]\n",
    "\n",
    "for dropout_rate in dropout_rate_variations:\n",
    "\n",
    "    model_config[\"dropout_rate\"] = dropout_rate\n",
    "    print(f\"\\nTrying dropout_rate={model_config['dropout_rate']}\")\n",
    "    \n",
    "    dropout_rate_variations_model = LSTMClassifier(model_config[\"input_size\"], model_config[\"hidden_size\"], model_config[\"num_layers\"], model_config[\"num_outputs\"], model_config[\"dropout_rate\"]).to(available_device)\n",
    "\n",
    "    model_config[\"optimizer\"] = torch.optim.RMSprop(dropout_rate_variations_model.parameters(), lr=model_config[\"learning_rate\"], weight_decay=model_config[\"weight_decay\"])\n",
    "\n",
    "    train_evaluate_lstm(model=dropout_rate_variations_model, optimizer=model_config[\"optimizer\"], num_epochs=model_config[\"num_epochs\"], lr=model_config[\"learning_rate\"], train_data=train_dataloader, test_data=valid_dataloader)"
   ]
  },
  {
   "cell_type": "markdown",
   "metadata": {
    "id": "zDm3WMDucRZx"
   },
   "source": [
    "### Weight decay"
   ]
  },
  {
   "cell_type": "code",
   "execution_count": null,
   "metadata": {
    "colab": {
     "base_uri": "https://localhost:8080/"
    },
    "id": "jtZLyzTPbJGw",
    "outputId": "9dc6638f-3ca3-46d9-c1f7-30017b05cf17"
   },
   "outputs": [
    {
     "output_type": "stream",
     "name": "stdout",
     "text": [
      "Epoch [5/10], Loss: 0.0000\n",
      "Epoch [10/10], Loss: 0.0000\n",
      "Training took 16.51 seconds\n",
      "Accuracy: 58.92%\n"
     ]
    }
   ],
   "source": [
    "model_config = {\n",
    "    \"input_size\": X_train_tensor.size(2),\n",
    "    \"hidden_size\": 100,\n",
    "    \"num_layers\": 2,\n",
    "    \"num_outputs\": 2,\n",
    "    \"learning_rate\": 0.0025,\n",
    "    \"num_epochs\": 10,\n",
    "    \"dropout_rate\": 0.4,\n",
    "    \"weight_decay\": 0.0001\n",
    "}\n",
    "\n",
    "\n",
    "model3 = LSTMClassifier(model_config[\"input_size\"], model_config[\"hidden_size\"], model_config[\"num_layers\"], model_config[\"num_outputs\"], model_config[\"dropout_rate\"]).to(available_device)\n",
    "model_config[\"optimizer\"] = torch.optim.RMSprop(model3.parameters(), lr=model_config[\"learning_rate\"], weight_decay=model_config[\"weight_decay\"])\n",
    "train_evaluate_lstm(model=model3, optimizer=model_config[\"optimizer\"], num_epochs=model_config[\"num_epochs\"], lr=model_config[\"learning_rate\"], train_data=train_dataloader, test_data=valid_dataloader)"
   ]
  },
  {
   "cell_type": "markdown",
   "metadata": {
    "id": "g219IbnnoWqE"
   },
   "source": [
    "### Best LSTM model"
   ]
  },
  {
   "cell_type": "code",
   "execution_count": 101,
   "metadata": {
    "colab": {
     "base_uri": "https://localhost:8080/"
    },
    "id": "P-kdEyKdoE3o",
    "outputId": "4c878cd8-22c5-4cab-9257-ac8ba47ac7e0"
   },
   "outputs": [
    {
     "output_type": "stream",
     "name": "stdout",
     "text": [
      "Epoch [5/10], Loss: 0.0000\n",
      "Epoch [10/10], Loss: 0.0000\n",
      "Training took 15.13 seconds\n",
      "Accuracy: 75.81%\n"
     ]
    }
   ],
   "source": [
    "model_config = {\n",
    "    \"input_size\": X_train_tensor.size(2),\n",
    "    \"hidden_size\": 100,\n",
    "    \"num_layers\": 2,\n",
    "    \"num_outputs\": 2,\n",
    "    \"learning_rate\": 0.0025,\n",
    "    \"num_epochs\": 10,\n",
    "    \"dropout_rate\": 0.4,\n",
    "    \"weight_decay\": 0\n",
    "}\n",
    "\n",
    "best_lstm = LSTMClassifier(model_config[\"input_size\"], model_config[\"hidden_size\"], model_config[\"num_layers\"], model_config[\"num_outputs\"], model_config[\"dropout_rate\"]).to(available_device)\n",
    "model_config[\"optimizer\"] = torch.optim.RMSprop(best_lstm.parameters(), lr=model_config[\"learning_rate\"], weight_decay=model_config[\"weight_decay\"])\n",
    "train_evaluate_lstm(model=best_lstm, optimizer=model_config[\"optimizer\"], num_epochs=model_config[\"num_epochs\"], lr=model_config[\"learning_rate\"], train_data=train_dataloader, test_data=valid_dataloader)"
   ]
  },
  {
   "cell_type": "code",
   "execution_count": null,
   "metadata": {
    "id": "xIxuC85acjM9"
   },
   "outputs": [],
   "source": [
    "#torch.save(best_lstm, \"/content/drive/MyDrive/lstm.pth\")"
   ]
  },
  {
   "cell_type": "markdown",
   "metadata": {
    "id": "j0wDkjbZvFYC"
   },
   "source": [
    "## MLP"
   ]
  },
  {
   "cell_type": "markdown",
   "metadata": {
    "id": "a7sy042Mx-bU"
   },
   "source": [
    "### MLP data preparation\n",
    "\n"
   ]
  },
  {
   "cell_type": "code",
   "execution_count": 27,
   "metadata": {
    "id": "rg90owmNeEGw"
   },
   "outputs": [],
   "source": [
    "X_train_mlp_tensor = torch.tensor(X_train.values, dtype=torch.float32).to(available_device)\n",
    "y_train_mlp_tensor = torch.tensor(y_train.values, dtype=torch.float32).to(available_device)\n",
    "\n",
    "X_valid_mlp_tensor = torch.tensor(X_valid.values, dtype=torch.float32).to(available_device)\n",
    "y_valid_mlp_tensor = torch.tensor(y_valid.values, dtype=torch.float32).to(available_device)\n",
    "\n",
    "X_test_mlp_tensor = torch.tensor(X_test.values, dtype=torch.float32).to(available_device)\n",
    "y_test_mlp_tensor = torch.tensor(y_test.values, dtype=torch.float32).to(available_device)"
   ]
  },
  {
   "cell_type": "code",
   "source": [
    "torch.save(X_test_mlp_tensor, \"/content/drive/MyDrive/X_test_mlp.pth\")\n",
    "torch.save(y_test_mlp_tensor, \"/content/drive/MyDrive/y_test_mlp.pth\")"
   ],
   "metadata": {
    "id": "cngDopf1YDof"
   },
   "execution_count": 103,
   "outputs": []
  },
  {
   "cell_type": "markdown",
   "metadata": {
    "id": "gZ0ETXzWQf47"
   },
   "source": [
    "### Model declaration"
   ]
  },
  {
   "cell_type": "code",
   "execution_count": 47,
   "metadata": {
    "id": "7Rj1gLn1vIR1"
   },
   "outputs": [],
   "source": [
    "class MLPClassifier(nn.Module):\n",
    "    def __init__(self, input_size, hidden_size1, hidden_size2, hidden_size3, output_size):\n",
    "        super().__init__()\n",
    "        \n",
    "        self.fc1 = nn.Linear(input_size, hidden_size1)\n",
    "        self.fc2 = nn.Linear(hidden_size1, hidden_size2)\n",
    "        self.fc3 = nn.Linear(hidden_size2, hidden_size3)\n",
    "        self.fc4 = nn.Linear(hidden_size3, output_size)\n",
    "        self.tanh = nn.Tanh()\n",
    "        self.softmax = nn.Softmax(dim=1)\n",
    "    \n",
    "    def forward(self, x):\n",
    "        out = self.fc1(x)\n",
    "        out = self.tanh(out)\n",
    "        out = self.fc2(out)\n",
    "        out = self.tanh(out)\n",
    "        out = self.fc3(out)\n",
    "        out = self.tanh(out)\n",
    "        out = self.fc4(out)\n",
    "        out = self.softmax(out)\n",
    "        return out\n",
    "\n",
    "\n",
    "def train_mlp(model, optimizer, num_epochs: int, lr, X_train, y_train, window_mechanism: str, window_size: int, step_size: int):\n",
    "\n",
    "    implemented_window_mechanisms = [\"sliding\", \"increasing\"]\n",
    "    if window_mechanism not in implemented_window_mechanisms:\n",
    "        raise ValueError(f\"{window_mechanism} not supported; please specify one of the following: {implemented_window_mechanisms}\")\n",
    "    \n",
    "    if window_size <= 0:\n",
    "        raise ValueError(f\"Please use a window_size > 0\")\n",
    "    if step_size <= 0:\n",
    "        raise ValueError(f\"Please use a step_size > 0\")\n",
    "\n",
    "    criterion = nn.CrossEntropyLoss()\n",
    "    y_train = y_train.long()\n",
    "    training_start = time.time()\n",
    "\n",
    "    for epoch in range(num_epochs):\n",
    "\n",
    "        if window_mechanism == \"sliding\":\n",
    "            num_windows = ((len(X_train) - window_size) // step_size) + 2\n",
    "            remainder = ((len(X_train) - window_size) % step_size)\n",
    "            value_range = range(num_windows)\n",
    "        elif window_mechanism == \"increasing\":\n",
    "            value_range = range(0, len(X_train), step_size)\n",
    "            \n",
    "        for i in value_range:\n",
    "            if window_mechanism == \"sliding\":\n",
    "                window_start = i * step_size\n",
    "\n",
    "                # differentation between full and incomplete windows at the end of the array\n",
    "                if i < num_windows - 1:\n",
    "                    window_end = i * step_size + window_size\n",
    "                elif i == num_windows - 1 and remainder != 0:\n",
    "                    window_end = i * step_size + remainder\n",
    "\n",
    "            elif window_mechanism == \"increasing\":\n",
    "                window_start = 0\n",
    "                window_end = i + step_size\n",
    "\n",
    "            X_train_windowed, y_train_windowed = create_window(X_train, y_train, window_start, window_end)\n",
    "\n",
    "            loss = train_mlp_step(model, X_train_windowed, y_train_windowed, criterion, optimizer)\n",
    "\n",
    "        if (epoch + 1) % 5 == 0:\n",
    "            print(f'Epoch [{epoch + 1}/{num_epochs}], Loss: {loss.item():.4f}')\n",
    "\n",
    "    training_duration = time.time() - training_start\n",
    "    print(f'Training took {training_duration:.2f} seconds')\n",
    "\n",
    "\n",
    "def create_window(X_train: torch.Tensor, y_train: torch.Tensor, start_index, end_index):\n",
    "    X_train_windowed = X_train[start_index:end_index]\n",
    "    y_train_windowed = y_train[start_index:end_index]\n",
    "\n",
    "    return X_train_windowed, y_train_windowed\n",
    "\n",
    "def train_mlp_step(model, X_train, y_train, criterion, optimizer):\n",
    "    outputs = model(X_train)\n",
    "    loss = criterion(outputs, y_train)\n",
    "\n",
    "    optimizer.zero_grad()\n",
    "    loss.backward()\n",
    "    optimizer.step()\n",
    "\n",
    "    return loss\n",
    "\n",
    "\n",
    "def evaluate_mlp(model, X_test, y_test):\n",
    "    model.eval()\n",
    "    with torch.no_grad():\n",
    "        correct = 0\n",
    "        total = 0\n",
    "        y_test = y_test.long()\n",
    "        output = model(X_test)\n",
    "        _, y_pred = torch.max(output.data, 1)\n",
    "        total += y_test.size(0)\n",
    "        correct += (y_pred == y_test).sum().item()\n",
    "\n",
    "        print(f'Accuracy: {100 * correct / total:.2f}%')\n",
    "\n",
    "\n",
    "def train_evaluate_mlp(model, optimizer, num_epochs, lr, X_train, y_train, window_mechanism, window_size, step_size, X_test, y_test):\n",
    "    train_mlp(model=model, optimizer=optimizer, num_epochs=num_epochs, lr=lr, X_train=X_train, y_train=y_train, window_mechanism=window_mechanism, window_size=window_size, step_size=step_size)\n",
    "    evaluate_mlp(model=model, X_test=X_test, y_test=y_test)"
   ]
  },
  {
   "cell_type": "markdown",
   "metadata": {
    "id": "G8zpIY2XzWgt"
   },
   "source": [
    "### Base line model"
   ]
  },
  {
   "cell_type": "code",
   "source": [
    "model_config = {\n",
    "    \"input_size\": X_train_mlp_tensor.size(1),\n",
    "    \"hidden_size1\": 100,\n",
    "    \"hidden_size2\": 100,\n",
    "    \"hidden_size3\": 100,\n",
    "    \"num_outputs\": 2,\n",
    "    \"learning_rate\": 0.0025,\n",
    "    \"window_mechanism\": \"sliding\",\n",
    "    \"window_size\": 30,\n",
    "    \"step_size\": 30,\n",
    "    \"num_epochs\": 10,\n",
    "    \"weight_decay\": 0,\n",
    "    \"momentum\": 0,\n",
    "}"
   ],
   "metadata": {
    "id": "d76t4OxSYUpF"
   },
   "execution_count": 48,
   "outputs": []
  },
  {
   "cell_type": "markdown",
   "source": [
    "#### Tumbling window"
   ],
   "metadata": {
    "id": "k0nQon8JTG1R"
   }
  },
  {
   "cell_type": "code",
   "execution_count": 49,
   "metadata": {
    "colab": {
     "base_uri": "https://localhost:8080/"
    },
    "id": "wR7oFaB7GeQO",
    "outputId": "ca53d31b-c705-4138-81f9-f47aef148bac"
   },
   "outputs": [
    {
     "output_type": "stream",
     "name": "stdout",
     "text": [
      "Using window_mechanism=sliding\n",
      "Epoch [5/10], Loss: 0.3137\n",
      "Epoch [10/10], Loss: 0.3134\n",
      "Training took 18.79 seconds\n",
      "Accuracy: 58.40%\n"
     ]
    }
   ],
   "source": [
    "model_config[\"window_mechanism\"] = \"sliding\"\n",
    "model_config[\"window_size\"] = 30\n",
    "model_config[\"step_size\"] = 30\n",
    "\n",
    "print(f\"Using window_mechanism={model_config['window_mechanism']}\")\n",
    "\n",
    "t_mlp1 = MLPClassifier(input_size=model_config[\"input_size\"], hidden_size1=model_config[\"hidden_size1\"], hidden_size2=model_config[\"hidden_size2\"], hidden_size3=model_config[\"hidden_size3\"], output_size=model_config[\"num_outputs\"]).to(available_device)\n",
    "\n",
    "model_config[\"optimizer\"] = torch.optim.SGD(t_mlp1.parameters(), lr=model_config[\"learning_rate\"], weight_decay=model_config[\"weight_decay\"], momentum=model_config[\"momentum\"])\n",
    "\n",
    "train_evaluate_mlp(model=t_mlp1, optimizer=model_config[\"optimizer\"], num_epochs=model_config[\"num_epochs\"], lr=model_config[\"learning_rate\"], X_train=X_train_mlp_tensor, y_train=y_train_mlp_tensor, window_mechanism=model_config[\"window_mechanism\"], window_size=model_config[\"window_size\"], step_size=model_config[\"step_size\"], X_test=X_valid_mlp_tensor, y_test=y_valid_mlp_tensor)"
   ]
  },
  {
   "cell_type": "markdown",
   "source": [
    "#### Sliding window"
   ],
   "metadata": {
    "id": "qRdf2suDTKTp"
   }
  },
  {
   "cell_type": "code",
   "source": [
    "model_config[\"window_mechanism\"] = \"sliding\"\n",
    "model_config[\"window_size\"] = 30\n",
    "model_config[\"step_size\"] = 15\n",
    "\n",
    "print(f\"Using window_mechanism={model_config['window_mechanism']}\")\n",
    "\n",
    "s_mlp1 = MLPClassifier(input_size=model_config[\"input_size\"], hidden_size1=model_config[\"hidden_size1\"], hidden_size2=model_config[\"hidden_size2\"], hidden_size3=model_config[\"hidden_size3\"], output_size=model_config[\"num_outputs\"]).to(available_device)\n",
    "\n",
    "model_config[\"optimizer\"] = torch.optim.SGD(s_mlp1.parameters(), lr=model_config[\"learning_rate\"], weight_decay=model_config[\"weight_decay\"], momentum=model_config[\"momentum\"])\n",
    "\n",
    "train_evaluate_mlp(model=s_mlp1, optimizer=model_config[\"optimizer\"], num_epochs=model_config[\"num_epochs\"], lr=model_config[\"learning_rate\"], X_train=X_train_mlp_tensor, y_train=y_train_mlp_tensor, window_mechanism=model_config[\"window_mechanism\"], window_size=model_config[\"window_size\"], step_size=model_config[\"step_size\"], X_test=X_valid_mlp_tensor, y_test=y_valid_mlp_tensor)"
   ],
   "metadata": {
    "id": "rGDGY4QJTRfw",
    "colab": {
     "base_uri": "https://localhost:8080/"
    },
    "outputId": "e1ef5514-77c4-4a58-aa2b-deca923b0d59"
   },
   "execution_count": 50,
   "outputs": [
    {
     "output_type": "stream",
     "name": "stdout",
     "text": [
      "Using window_mechanism=sliding\n",
      "Epoch [5/10], Loss: 0.3134\n",
      "Epoch [10/10], Loss: 0.3133\n",
      "Training took 35.33 seconds\n",
      "Accuracy: 59.08%\n"
     ]
    }
   ]
  },
  {
   "cell_type": "markdown",
   "source": [
    "#### Increasing window"
   ],
   "metadata": {
    "id": "8oKxuJWATMBY"
   }
  },
  {
   "cell_type": "code",
   "execution_count": 51,
   "metadata": {
    "colab": {
     "base_uri": "https://localhost:8080/"
    },
    "id": "Jdak4z0kzVkN",
    "outputId": "cb48ec46-9aaa-44f0-d40d-d40d2434a0bc"
   },
   "outputs": [
    {
     "output_type": "stream",
     "name": "stdout",
     "text": [
      "Using window_mechanism=increasing\n",
      "Epoch [5/10], Loss: 0.3277\n",
      "Epoch [10/10], Loss: 0.3245\n",
      "Training took 79.02 seconds\n",
      "Accuracy: 71.47%\n"
     ]
    }
   ],
   "source": [
    "model_config[\"window_mechanism\"] = \"increasing\"\n",
    "model_config[\"window_size\"] = 30\n",
    "model_config[\"step_size\"] = 15\n",
    "\n",
    "print(f\"Using window_mechanism={model_config['window_mechanism']}\")\n",
    "\n",
    "i_mlp1 = MLPClassifier(input_size=model_config[\"input_size\"], hidden_size1=model_config[\"hidden_size1\"], hidden_size2=model_config[\"hidden_size2\"], hidden_size3=model_config[\"hidden_size3\"], output_size=model_config[\"num_outputs\"]).to(available_device)\n",
    "\n",
    "model_config[\"optimizer\"] = torch.optim.SGD(i_mlp1.parameters(), lr=model_config[\"learning_rate\"], weight_decay=model_config[\"weight_decay\"], momentum=model_config[\"momentum\"])\n",
    "\n",
    "train_evaluate_mlp(model=i_mlp1, optimizer=model_config[\"optimizer\"], num_epochs=model_config[\"num_epochs\"], lr=model_config[\"learning_rate\"], X_train=X_train_mlp_tensor, y_train=y_train_mlp_tensor, window_mechanism=model_config[\"window_mechanism\"], window_size=model_config[\"window_size\"], step_size=model_config[\"step_size\"], X_test=X_valid_mlp_tensor, y_test=y_valid_mlp_tensor)"
   ]
  },
  {
   "cell_type": "markdown",
   "source": [
    "### Learning rate"
   ],
   "metadata": {
    "id": "UCZr0WvgS07P"
   }
  },
  {
   "cell_type": "code",
   "source": [
    "model_config = {\n",
    "    \"input_size\": X_train_mlp_tensor.size(1),\n",
    "    \"hidden_size1\": 100,\n",
    "    \"hidden_size2\": 100,\n",
    "    \"hidden_size3\": 100,\n",
    "    \"num_outputs\": 2,\n",
    "    \"window_size\": 30,\n",
    "    \"num_epochs\": 10,\n",
    "    \"weight_decay\": 0,\n",
    "    \"momentum\": 0,\n",
    "}\n",
    "\n",
    "learning_rate_experiment = [0.001, 0.0015, 0.002, 0.0025, 0.003, 0.0035, 0.004, 0.0045, 0.005]"
   ],
   "metadata": {
    "id": "olZwGnQnTlTX"
   },
   "execution_count": 52,
   "outputs": []
  },
  {
   "cell_type": "markdown",
   "metadata": {
    "id": "RgzgL9sPBdUY"
   },
   "source": [
    "#### Tumbling window"
   ]
  },
  {
   "cell_type": "code",
   "execution_count": 53,
   "metadata": {
    "id": "zJEzDNRzC52M",
    "colab": {
     "base_uri": "https://localhost:8080/"
    },
    "outputId": "fbd31a08-3318-4c1d-cbf2-48cd1c21ada0"
   },
   "outputs": [
    {
     "output_type": "stream",
     "name": "stdout",
     "text": [
      "Using window_mechanism=sliding\n",
      "\n",
      "Trying learning_rate=0.001\n",
      "Epoch [5/10], Loss: 0.3150\n",
      "Epoch [10/10], Loss: 0.3137\n",
      "Training took 17.88 seconds\n",
      "Accuracy: 57.63%\n",
      "\n",
      "Trying learning_rate=0.0015\n",
      "Epoch [5/10], Loss: 0.3140\n",
      "Epoch [10/10], Loss: 0.3135\n",
      "Training took 18.52 seconds\n",
      "Accuracy: 63.28%\n",
      "\n",
      "Trying learning_rate=0.002\n",
      "Epoch [5/10], Loss: 0.3140\n",
      "Epoch [10/10], Loss: 0.3135\n",
      "Training took 17.94 seconds\n",
      "Accuracy: 69.50%\n",
      "\n",
      "Trying learning_rate=0.0025\n",
      "Epoch [5/10], Loss: 0.3136\n",
      "Epoch [10/10], Loss: 0.3134\n",
      "Training took 17.90 seconds\n",
      "Accuracy: 63.33%\n",
      "\n",
      "Trying learning_rate=0.003\n",
      "Epoch [5/10], Loss: 0.3135\n",
      "Epoch [10/10], Loss: 0.3133\n",
      "Training took 18.33 seconds\n",
      "Accuracy: 60.90%\n",
      "\n",
      "Trying learning_rate=0.0035\n",
      "Epoch [5/10], Loss: 0.3134\n",
      "Epoch [10/10], Loss: 0.3133\n",
      "Training took 17.67 seconds\n",
      "Accuracy: 61.31%\n",
      "\n",
      "Trying learning_rate=0.004\n",
      "Epoch [5/10], Loss: 0.3134\n",
      "Epoch [10/10], Loss: 0.3133\n",
      "Training took 18.03 seconds\n",
      "Accuracy: 61.23%\n",
      "\n",
      "Trying learning_rate=0.0045\n",
      "Epoch [5/10], Loss: 0.3134\n",
      "Epoch [10/10], Loss: 0.3133\n",
      "Training took 18.15 seconds\n",
      "Accuracy: 60.92%\n",
      "\n",
      "Trying learning_rate=0.005\n",
      "Epoch [5/10], Loss: 0.3134\n",
      "Epoch [10/10], Loss: 0.3133\n",
      "Training took 17.65 seconds\n",
      "Accuracy: 65.78%\n"
     ]
    }
   ],
   "source": [
    "model_config[\"window_mechanism\"] = \"sliding\"\n",
    "model_config[\"window_size\"] = 30\n",
    "model_config[\"step_size\"] = 30\n",
    "\n",
    "print(f\"Using window_mechanism={model_config['window_mechanism']}\")\n",
    "\n",
    "for lr in learning_rate_experiment:\n",
    "    model_config[\"learning_rate\"] = lr\n",
    "    print(f\"\\nTrying learning_rate={model_config['learning_rate']}\")\n",
    "    \n",
    "    mlp = MLPClassifier(input_size=model_config[\"input_size\"], hidden_size1=model_config[\"hidden_size1\"], hidden_size2=model_config[\"hidden_size2\"], hidden_size3=model_config[\"hidden_size3\"], output_size=model_config[\"num_outputs\"]).to(available_device)\n",
    "    model_config[\"optimizer\"] = torch.optim.SGD(mlp.parameters(), lr=model_config[\"learning_rate\"], weight_decay=model_config[\"weight_decay\"], momentum=model_config[\"momentum\"])\n",
    "    train_evaluate_mlp(model=mlp, optimizer=model_config[\"optimizer\"], num_epochs=model_config[\"num_epochs\"], lr=model_config[\"learning_rate\"], X_train=X_train_mlp_tensor, y_train=y_train_mlp_tensor, window_mechanism=model_config[\"window_mechanism\"], window_size=model_config[\"window_size\"], step_size=model_config[\"step_size\"], X_test=X_valid_mlp_tensor, y_test=y_valid_mlp_tensor)"
   ]
  },
  {
   "cell_type": "markdown",
   "metadata": {
    "id": "63kxQLCuCAHx"
   },
   "source": [
    "#### Sliding window"
   ]
  },
  {
   "cell_type": "code",
   "execution_count": 54,
   "metadata": {
    "id": "aAePqvBjSqo1",
    "colab": {
     "base_uri": "https://localhost:8080/"
    },
    "outputId": "bc9992fe-6875-4a79-fb3c-f3ba5d941742"
   },
   "outputs": [
    {
     "output_type": "stream",
     "name": "stdout",
     "text": [
      "Using window_mechanism=sliding\n",
      "\n",
      "Trying learning_rate=0.001\n",
      "Epoch [5/10], Loss: 0.3140\n",
      "Epoch [10/10], Loss: 0.3135\n",
      "Training took 36.49 seconds\n",
      "Accuracy: 55.67%\n",
      "\n",
      "Trying learning_rate=0.0015\n",
      "Epoch [5/10], Loss: 0.3136\n",
      "Epoch [10/10], Loss: 0.3134\n",
      "Training took 35.71 seconds\n",
      "Accuracy: 56.19%\n",
      "\n",
      "Trying learning_rate=0.002\n",
      "Epoch [5/10], Loss: 0.3134\n",
      "Epoch [10/10], Loss: 0.3133\n",
      "Training took 35.71 seconds\n",
      "Accuracy: 60.11%\n",
      "\n",
      "Trying learning_rate=0.0025\n",
      "Epoch [5/10], Loss: 0.3134\n",
      "Epoch [10/10], Loss: 0.3133\n",
      "Training took 36.45 seconds\n",
      "Accuracy: 64.18%\n",
      "\n",
      "Trying learning_rate=0.003\n",
      "Epoch [5/10], Loss: 0.3134\n",
      "Epoch [10/10], Loss: 0.3133\n",
      "Training took 35.86 seconds\n",
      "Accuracy: 62.70%\n",
      "\n",
      "Trying learning_rate=0.0035\n",
      "Epoch [5/10], Loss: 0.3133\n",
      "Epoch [10/10], Loss: 0.3133\n",
      "Training took 35.71 seconds\n",
      "Accuracy: 61.86%\n",
      "\n",
      "Trying learning_rate=0.004\n",
      "Epoch [5/10], Loss: 0.3133\n",
      "Epoch [10/10], Loss: 0.3133\n",
      "Training took 35.97 seconds\n",
      "Accuracy: 61.63%\n",
      "\n",
      "Trying learning_rate=0.0045\n",
      "Epoch [5/10], Loss: 0.3133\n",
      "Epoch [10/10], Loss: 0.3133\n",
      "Training took 35.91 seconds\n",
      "Accuracy: 62.90%\n",
      "\n",
      "Trying learning_rate=0.005\n",
      "Epoch [5/10], Loss: 0.3133\n",
      "Epoch [10/10], Loss: 0.3133\n",
      "Training took 35.46 seconds\n",
      "Accuracy: 64.70%\n"
     ]
    }
   ],
   "source": [
    "model_config[\"window_mechanism\"] = \"sliding\"\n",
    "model_config[\"window_size\"] = 30\n",
    "model_config[\"step_size\"] = 15\n",
    "\n",
    "print(f\"Using window_mechanism={model_config['window_mechanism']}\")\n",
    "\n",
    "for lr in learning_rate_experiment:\n",
    "    model_config[\"learning_rate\"] = lr\n",
    "    print(f\"\\nTrying learning_rate={model_config['learning_rate']}\")\n",
    "    \n",
    "    mlp = MLPClassifier(input_size=model_config[\"input_size\"], hidden_size1=model_config[\"hidden_size1\"], hidden_size2=model_config[\"hidden_size2\"], hidden_size3=model_config[\"hidden_size3\"], output_size=model_config[\"num_outputs\"]).to(available_device)\n",
    "    model_config[\"optimizer\"] = torch.optim.SGD(mlp.parameters(), lr=model_config[\"learning_rate\"], weight_decay=model_config[\"weight_decay\"], momentum=model_config[\"momentum\"])\n",
    "    train_evaluate_mlp(model=mlp, optimizer=model_config[\"optimizer\"], num_epochs=model_config[\"num_epochs\"], lr=model_config[\"learning_rate\"], X_train=X_train_mlp_tensor, y_train=y_train_mlp_tensor, window_mechanism=model_config[\"window_mechanism\"], window_size=model_config[\"window_size\"], step_size=model_config[\"step_size\"], X_test=X_valid_mlp_tensor, y_test=y_valid_mlp_tensor)"
   ]
  },
  {
   "cell_type": "markdown",
   "metadata": {
    "id": "3WfehAfICF9K"
   },
   "source": [
    "#### Increasing window"
   ]
  },
  {
   "cell_type": "code",
   "execution_count": 55,
   "metadata": {
    "id": "4We_VxlwSu_s",
    "colab": {
     "base_uri": "https://localhost:8080/"
    },
    "outputId": "16d1fa9d-a033-4c1e-f8c6-c32ad534af4e"
   },
   "outputs": [
    {
     "output_type": "stream",
     "name": "stdout",
     "text": [
      "Using window_mechanism=increasing\n",
      "\n",
      "Trying learning_rate=0.001\n",
      "Epoch [5/10], Loss: 0.3953\n",
      "Epoch [10/10], Loss: 0.3382\n",
      "Training took 30.81 seconds\n",
      "Accuracy: 78.76%\n",
      "\n",
      "Trying learning_rate=0.0015\n",
      "Epoch [5/10], Loss: 0.3414\n",
      "Epoch [10/10], Loss: 0.3298\n",
      "Training took 29.87 seconds\n",
      "Accuracy: 73.59%\n",
      "\n",
      "Trying learning_rate=0.002\n",
      "Epoch [5/10], Loss: 0.3349\n",
      "Epoch [10/10], Loss: 0.3281\n",
      "Training took 29.94 seconds\n",
      "Accuracy: 73.93%\n",
      "\n",
      "Trying learning_rate=0.0025\n",
      "Epoch [5/10], Loss: 0.3310\n",
      "Epoch [10/10], Loss: 0.3260\n",
      "Training took 29.76 seconds\n",
      "Accuracy: 75.01%\n",
      "\n",
      "Trying learning_rate=0.003\n",
      "Epoch [5/10], Loss: 0.3296\n",
      "Epoch [10/10], Loss: 0.3257\n",
      "Training took 29.77 seconds\n",
      "Accuracy: 77.82%\n",
      "\n",
      "Trying learning_rate=0.0035\n",
      "Epoch [5/10], Loss: 0.3288\n",
      "Epoch [10/10], Loss: 0.3255\n",
      "Training took 29.90 seconds\n",
      "Accuracy: 77.48%\n",
      "\n",
      "Trying learning_rate=0.004\n",
      "Epoch [5/10], Loss: 0.3270\n",
      "Epoch [10/10], Loss: 0.3242\n",
      "Training took 29.67 seconds\n",
      "Accuracy: 75.22%\n",
      "\n",
      "Trying learning_rate=0.0045\n",
      "Epoch [5/10], Loss: 0.3267\n",
      "Epoch [10/10], Loss: 0.3236\n",
      "Training took 30.12 seconds\n",
      "Accuracy: 72.79%\n",
      "\n",
      "Trying learning_rate=0.005\n",
      "Epoch [5/10], Loss: 0.3264\n",
      "Epoch [10/10], Loss: 0.3232\n",
      "Training took 29.79 seconds\n",
      "Accuracy: 72.16%\n"
     ]
    }
   ],
   "source": [
    "model_config[\"window_mechanism\"] = \"increasing\"\n",
    "model_config[\"window_size\"] = 30\n",
    "model_config[\"step_size\"] = 30\n",
    "\n",
    "print(f\"Using window_mechanism={model_config['window_mechanism']}\")\n",
    "\n",
    "for lr in learning_rate_experiment:\n",
    "    model_config[\"learning_rate\"] = lr\n",
    "    print(f\"\\nTrying learning_rate={model_config['learning_rate']}\")\n",
    "    \n",
    "    mlp = MLPClassifier(input_size=model_config[\"input_size\"], hidden_size1=model_config[\"hidden_size1\"], hidden_size2=model_config[\"hidden_size2\"], hidden_size3=model_config[\"hidden_size3\"], output_size=model_config[\"num_outputs\"]).to(available_device)\n",
    "    model_config[\"optimizer\"] = torch.optim.SGD(mlp.parameters(), lr=model_config[\"learning_rate\"], weight_decay=model_config[\"weight_decay\"], momentum=model_config[\"momentum\"])\n",
    "    train_evaluate_mlp(model=mlp, optimizer=model_config[\"optimizer\"], num_epochs=model_config[\"num_epochs\"], lr=model_config[\"learning_rate\"], X_train=X_train_mlp_tensor, y_train=y_train_mlp_tensor, window_mechanism=model_config[\"window_mechanism\"], window_size=model_config[\"window_size\"], step_size=model_config[\"step_size\"], X_test=X_valid_mlp_tensor, y_test=y_valid_mlp_tensor)"
   ]
  },
  {
   "cell_type": "markdown",
   "source": [
    "### Hidden size"
   ],
   "metadata": {
    "id": "E0noT8rLZGR9"
   }
  },
  {
   "cell_type": "code",
   "source": [
    "model_config = {\n",
    "    \"input_size\": X_train_mlp_tensor.size(1),\n",
    "    \"hidden_size1\": 100,\n",
    "    \"hidden_size2\": 100,\n",
    "    \"hidden_size3\": 100,\n",
    "    \"num_outputs\": 2,\n",
    "    \"learning_rate\": 0.003,\n",
    "    \"num_epochs\": 10,\n",
    "    \"weight_decay\": 0,\n",
    "    \"momentum\": 0,\n",
    "}\n",
    "\n",
    "hidden_size_experiment = [50, 100]"
   ],
   "metadata": {
    "id": "O7mhruitazX8"
   },
   "execution_count": null,
   "outputs": []
  },
  {
   "cell_type": "markdown",
   "metadata": {
    "id": "Cp1e5zqWB0MO"
   },
   "source": [
    "#### Tumbling window"
   ]
  },
  {
   "cell_type": "code",
   "execution_count": 57,
   "metadata": {
    "id": "lk3dH2xpZ6WW",
    "colab": {
     "base_uri": "https://localhost:8080/"
    },
    "outputId": "8c8bc377-1df8-475e-ce47-6e38f8bd62a6"
   },
   "outputs": [
    {
     "output_type": "stream",
     "name": "stdout",
     "text": [
      "Using window_mechanism=sliding\n",
      "\n",
      "Trying hidden_size1=50, hidden_size2=50, hidden_size3=50\n",
      "Epoch [5/10], Loss: 0.3138\n",
      "Epoch [10/10], Loss: 0.3135\n",
      "Training took 17.59 seconds\n",
      "Accuracy: 61.97%\n",
      "\n",
      "Trying hidden_size1=50, hidden_size2=50, hidden_size3=100\n",
      "Epoch [5/10], Loss: 0.3136\n",
      "Epoch [10/10], Loss: 0.3134\n",
      "Training took 18.12 seconds\n",
      "Accuracy: 59.09%\n",
      "\n",
      "Trying hidden_size1=50, hidden_size2=100, hidden_size3=50\n",
      "Epoch [5/10], Loss: 0.3136\n",
      "Epoch [10/10], Loss: 0.3134\n",
      "Training took 18.07 seconds\n",
      "Accuracy: 64.46%\n",
      "\n",
      "Trying hidden_size1=50, hidden_size2=100, hidden_size3=100\n",
      "Epoch [5/10], Loss: 0.3135\n",
      "Epoch [10/10], Loss: 0.3133\n",
      "Training took 17.62 seconds\n",
      "Accuracy: 61.40%\n",
      "\n",
      "Trying hidden_size1=100, hidden_size2=50, hidden_size3=50\n",
      "Epoch [5/10], Loss: 0.3138\n",
      "Epoch [10/10], Loss: 0.3134\n",
      "Training took 18.14 seconds\n",
      "Accuracy: 61.08%\n",
      "\n",
      "Trying hidden_size1=100, hidden_size2=50, hidden_size3=100\n",
      "Epoch [5/10], Loss: 0.3137\n",
      "Epoch [10/10], Loss: 0.3134\n",
      "Training took 17.89 seconds\n",
      "Accuracy: 61.66%\n",
      "\n",
      "Trying hidden_size1=100, hidden_size2=100, hidden_size3=50\n",
      "Epoch [5/10], Loss: 0.3137\n",
      "Epoch [10/10], Loss: 0.3134\n",
      "Training took 17.62 seconds\n",
      "Accuracy: 62.94%\n",
      "\n",
      "Trying hidden_size1=100, hidden_size2=100, hidden_size3=100\n",
      "Epoch [5/10], Loss: 0.3136\n",
      "Epoch [10/10], Loss: 0.3134\n",
      "Training took 18.12 seconds\n",
      "Accuracy: 57.13%\n"
     ]
    }
   ],
   "source": [
    "model_config[\"window_mechanism\"] = \"sliding\"\n",
    "model_config[\"window_size\"] = 30\n",
    "model_config[\"step_size\"] = 30\n",
    "\n",
    "print(f\"Using window_mechanism={model_config['window_mechanism']}\")\n",
    "\n",
    "\n",
    "for hidden_size1 in hidden_size_experiment:\n",
    "    for hidden_size2 in hidden_size_experiment:\n",
    "        for hidden_size3 in hidden_size_experiment:\n",
    "            model_config[\"hidden_size1\"] = hidden_size1\n",
    "            model_config[\"hidden_size2\"] = hidden_size2\n",
    "            model_config[\"hidden_size3\"] = hidden_size3\n",
    "            print(f\"\\nTrying hidden_size1={model_config['hidden_size1']}, hidden_size2={model_config['hidden_size2']}, hidden_size3={model_config['hidden_size3']}\")\n",
    "\n",
    "            mlp = MLPClassifier(input_size=model_config[\"input_size\"], hidden_size1=model_config[\"hidden_size1\"], hidden_size2=model_config[\"hidden_size2\"], hidden_size3=model_config[\"hidden_size3\"], output_size=model_config[\"num_outputs\"]).to(available_device)\n",
    "            model_config[\"optimizer\"] = torch.optim.SGD(mlp.parameters(), lr=model_config[\"learning_rate\"], weight_decay=model_config[\"weight_decay\"], momentum=model_config[\"momentum\"])\n",
    "            train_evaluate_mlp(model=mlp, optimizer=model_config[\"optimizer\"], num_epochs=model_config[\"num_epochs\"], lr=model_config[\"learning_rate\"], X_train=X_train_mlp_tensor, y_train=y_train_mlp_tensor, window_mechanism=model_config[\"window_mechanism\"], window_size=model_config[\"window_size\"], step_size=model_config[\"step_size\"], X_test=X_valid_mlp_tensor, y_test=y_valid_mlp_tensor)"
   ]
  },
  {
   "cell_type": "markdown",
   "metadata": {
    "id": "h5YZpULjBIsh"
   },
   "source": [
    "#### Sliding window"
   ]
  },
  {
   "cell_type": "code",
   "source": [
    "model_config[\"window_mechanism\"] = \"sliding\"\n",
    "model_config[\"window_size\"] = 30\n",
    "model_config[\"step_size\"] = 15\n",
    "\n",
    "print(f\"Using window_mechanism={model_config['window_mechanism']}\")\n",
    "\n",
    "\n",
    "for hidden_size1 in hidden_size_experiment:\n",
    "    for hidden_size2 in hidden_size_experiment:\n",
    "        for hidden_size3 in hidden_size_experiment:\n",
    "            model_config[\"hidden_size1\"] = hidden_size1\n",
    "            model_config[\"hidden_size2\"] = hidden_size2\n",
    "            model_config[\"hidden_size3\"] = hidden_size3\n",
    "            print(f\"\\nTrying hidden_size1={model_config['hidden_size1']}, hidden_size2={model_config['hidden_size2']}, hidden_size3={model_config['hidden_size3']}\")\n",
    "\n",
    "            mlp = MLPClassifier(input_size=model_config[\"input_size\"], hidden_size1=model_config[\"hidden_size1\"], hidden_size2=model_config[\"hidden_size2\"], hidden_size3=model_config[\"hidden_size3\"], output_size=model_config[\"num_outputs\"]).to(available_device)\n",
    "            model_config[\"optimizer\"] = torch.optim.SGD(mlp.parameters(), lr=model_config[\"learning_rate\"], weight_decay=model_config[\"weight_decay\"], momentum=model_config[\"momentum\"])\n",
    "            train_evaluate_mlp(model=mlp, optimizer=model_config[\"optimizer\"], num_epochs=model_config[\"num_epochs\"], lr=model_config[\"learning_rate\"], X_train=X_train_mlp_tensor, y_train=y_train_mlp_tensor, window_mechanism=model_config[\"window_mechanism\"], window_size=model_config[\"window_size\"], step_size=model_config[\"step_size\"], X_test=X_valid_mlp_tensor, y_test=y_valid_mlp_tensor)"
   ],
   "metadata": {
    "id": "jbPsLCuMaqW0",
    "colab": {
     "base_uri": "https://localhost:8080/"
    },
    "outputId": "8b9571d5-cf3b-4c0c-b618-dbbb1298661b"
   },
   "execution_count": 58,
   "outputs": [
    {
     "output_type": "stream",
     "name": "stdout",
     "text": [
      "Using window_mechanism=sliding\n",
      "\n",
      "Trying hidden_size1=50, hidden_size2=50, hidden_size3=50\n",
      "Epoch [5/10], Loss: 0.3136\n",
      "Epoch [10/10], Loss: 0.3134\n",
      "Training took 35.62 seconds\n",
      "Accuracy: 63.03%\n",
      "\n",
      "Trying hidden_size1=50, hidden_size2=50, hidden_size3=100\n",
      "Epoch [5/10], Loss: 0.3134\n",
      "Epoch [10/10], Loss: 0.3133\n",
      "Training took 36.23 seconds\n",
      "Accuracy: 60.50%\n",
      "\n",
      "Trying hidden_size1=50, hidden_size2=100, hidden_size3=50\n",
      "Epoch [5/10], Loss: 0.3135\n",
      "Epoch [10/10], Loss: 0.3133\n",
      "Training took 35.62 seconds\n",
      "Accuracy: 61.50%\n",
      "\n",
      "Trying hidden_size1=50, hidden_size2=100, hidden_size3=100\n",
      "Epoch [5/10], Loss: 0.3134\n",
      "Epoch [10/10], Loss: 0.3133\n",
      "Training took 35.80 seconds\n",
      "Accuracy: 64.14%\n",
      "\n",
      "Trying hidden_size1=100, hidden_size2=50, hidden_size3=50\n",
      "Epoch [5/10], Loss: 0.3135\n",
      "Epoch [10/10], Loss: 0.3134\n",
      "Training took 36.43 seconds\n",
      "Accuracy: 63.54%\n",
      "\n",
      "Trying hidden_size1=100, hidden_size2=50, hidden_size3=100\n",
      "Epoch [5/10], Loss: 0.3134\n",
      "Epoch [10/10], Loss: 0.3133\n",
      "Training took 36.15 seconds\n",
      "Accuracy: 59.83%\n",
      "\n",
      "Trying hidden_size1=100, hidden_size2=100, hidden_size3=50\n",
      "Epoch [5/10], Loss: 0.3134\n",
      "Epoch [10/10], Loss: 0.3133\n",
      "Training took 35.91 seconds\n",
      "Accuracy: 60.88%\n",
      "\n",
      "Trying hidden_size1=100, hidden_size2=100, hidden_size3=100\n",
      "Epoch [5/10], Loss: 0.3134\n",
      "Epoch [10/10], Loss: 0.3133\n",
      "Training took 36.22 seconds\n",
      "Accuracy: 61.49%\n"
     ]
    }
   ]
  },
  {
   "cell_type": "markdown",
   "metadata": {
    "id": "JB-2qreJBQYf"
   },
   "source": [
    "#### Increasing window"
   ]
  },
  {
   "cell_type": "code",
   "source": [
    "model_config[\"window_mechanism\"] = \"increasing\"\n",
    "model_config[\"window_size\"] = 30\n",
    "model_config[\"step_size\"] = 30\n",
    "\n",
    "print(f\"Using window_mechanism={model_config['window_mechanism']}\")\n",
    "\n",
    "\n",
    "for hidden_size1 in hidden_size_experiment:\n",
    "    for hidden_size2 in hidden_size_experiment:\n",
    "        for hidden_size3 in hidden_size_experiment:\n",
    "            model_config[\"hidden_size1\"] = hidden_size1\n",
    "            model_config[\"hidden_size2\"] = hidden_size2\n",
    "            model_config[\"hidden_size3\"] = hidden_size3\n",
    "            print(f\"\\nTrying hidden_size1={model_config['hidden_size1']}, hidden_size2={model_config['hidden_size2']}, hidden_size3={model_config['hidden_size3']}\")\n",
    "\n",
    "            mlp = MLPClassifier(input_size=model_config[\"input_size\"], hidden_size1=model_config[\"hidden_size1\"], hidden_size2=model_config[\"hidden_size2\"], hidden_size3=model_config[\"hidden_size3\"], output_size=model_config[\"num_outputs\"]).to(available_device)\n",
    "            model_config[\"optimizer\"] = torch.optim.SGD(mlp.parameters(), lr=model_config[\"learning_rate\"], weight_decay=model_config[\"weight_decay\"], momentum=model_config[\"momentum\"])\n",
    "            train_evaluate_mlp(model=mlp, optimizer=model_config[\"optimizer\"], num_epochs=model_config[\"num_epochs\"], lr=model_config[\"learning_rate\"], X_train=X_train_mlp_tensor, y_train=y_train_mlp_tensor, window_mechanism=model_config[\"window_mechanism\"], window_size=model_config[\"window_size\"], step_size=model_config[\"step_size\"], X_test=X_valid_mlp_tensor, y_test=y_valid_mlp_tensor)"
   ],
   "metadata": {
    "id": "CZjFy76hasPY",
    "colab": {
     "base_uri": "https://localhost:8080/"
    },
    "outputId": "96f4122a-7d27-4c0c-b53a-a12992611e36"
   },
   "execution_count": 59,
   "outputs": [
    {
     "output_type": "stream",
     "name": "stdout",
     "text": [
      "Using window_mechanism=increasing\n",
      "\n",
      "Trying hidden_size1=50, hidden_size2=50, hidden_size3=50\n",
      "Epoch [5/10], Loss: 0.3315\n",
      "Epoch [10/10], Loss: 0.3263\n",
      "Training took 26.21 seconds\n",
      "Accuracy: 66.85%\n",
      "\n",
      "Trying hidden_size1=50, hidden_size2=50, hidden_size3=100\n",
      "Epoch [5/10], Loss: 0.3300\n",
      "Epoch [10/10], Loss: 0.3251\n",
      "Training took 43.76 seconds\n",
      "Accuracy: 70.98%\n",
      "\n",
      "Trying hidden_size1=50, hidden_size2=100, hidden_size3=50\n",
      "Epoch [5/10], Loss: 0.3330\n",
      "Epoch [10/10], Loss: 0.3270\n",
      "Training took 43.71 seconds\n",
      "Accuracy: 73.28%\n",
      "\n",
      "Trying hidden_size1=50, hidden_size2=100, hidden_size3=100\n",
      "Epoch [5/10], Loss: 0.3304\n",
      "Epoch [10/10], Loss: 0.3259\n",
      "Training took 43.91 seconds\n",
      "Accuracy: 74.06%\n",
      "\n",
      "Trying hidden_size1=100, hidden_size2=50, hidden_size3=50\n",
      "Epoch [5/10], Loss: 0.3309\n",
      "Epoch [10/10], Loss: 0.3260\n",
      "Training took 44.08 seconds\n",
      "Accuracy: 71.10%\n",
      "\n",
      "Trying hidden_size1=100, hidden_size2=50, hidden_size3=100\n",
      "Epoch [5/10], Loss: 0.3307\n",
      "Epoch [10/10], Loss: 0.3261\n",
      "Training took 43.91 seconds\n",
      "Accuracy: 71.16%\n",
      "\n",
      "Trying hidden_size1=100, hidden_size2=100, hidden_size3=50\n",
      "Epoch [5/10], Loss: 0.3306\n",
      "Epoch [10/10], Loss: 0.3263\n",
      "Training took 43.75 seconds\n",
      "Accuracy: 74.50%\n",
      "\n",
      "Trying hidden_size1=100, hidden_size2=100, hidden_size3=100\n",
      "Epoch [5/10], Loss: 0.3290\n",
      "Epoch [10/10], Loss: 0.3248\n",
      "Training took 30.86 seconds\n",
      "Accuracy: 73.20%\n"
     ]
    }
   ]
  },
  {
   "cell_type": "markdown",
   "source": [
    "### Weight decay\n"
   ],
   "metadata": {
    "id": "MKSsBmatZOXV"
   }
  },
  {
   "cell_type": "code",
   "source": [
    "model_config = {\n",
    "    \"input_size\": X_train_mlp_tensor.size(1),\n",
    "    \"num_outputs\": 2,\n",
    "    \"learning_rate\": 0.003,\n",
    "    \"window_mechanism\": \"sliding\",\n",
    "    \"window_size\": 30,\n",
    "    \"step_size\": 30,\n",
    "    \"num_epochs\": 10,\n",
    "    \"momentum\": 0,\n",
    "}\n",
    "\n",
    "weight_decay_experiment = [0, 0.001, 0.002, 0.003, 0.004, 0.005]"
   ],
   "metadata": {
    "id": "2en4Ly55dx6Y"
   },
   "execution_count": 65,
   "outputs": []
  },
  {
   "cell_type": "markdown",
   "metadata": {
    "id": "PPmv4cAhCJml"
   },
   "source": [
    "#### Tumbling window"
   ]
  },
  {
   "cell_type": "code",
   "source": [
    "model_config[\"window_mechanism\"] = \"sliding\"\n",
    "model_config[\"window_size\"] = 30\n",
    "model_config[\"step_size\"] = 30\n",
    "model_config[\"hidden_size1\"] = 50\n",
    "model_config[\"hidden_size2\"] = 100\n",
    "model_config[\"hidden_size3\"] = 50\n",
    "\n",
    "print(f\"Using window_mechanism={model_config['window_mechanism']}\")\n",
    "\n",
    "\n",
    "for weight_decay in weight_decay_experiment:\n",
    "    model_config[\"weight_decay\"] = weight_decay\n",
    "    print(f\"\\nTrying weight_decay={model_config['weight_decay']}\")\n",
    "    \n",
    "    mlp = MLPClassifier(input_size=model_config[\"input_size\"], hidden_size1=model_config[\"hidden_size1\"], hidden_size2=model_config[\"hidden_size2\"], hidden_size3=model_config[\"hidden_size3\"], output_size=model_config[\"num_outputs\"]).to(available_device)\n",
    "    model_config[\"optimizer\"] = torch.optim.SGD(mlp.parameters(), lr=model_config[\"learning_rate\"], weight_decay=model_config[\"weight_decay\"], momentum=model_config[\"momentum\"])\n",
    "    train_evaluate_mlp(model=mlp, optimizer=model_config[\"optimizer\"], num_epochs=model_config[\"num_epochs\"], lr=model_config[\"learning_rate\"], X_train=X_train_mlp_tensor, y_train=y_train_mlp_tensor, window_mechanism=model_config[\"window_mechanism\"], window_size=model_config[\"window_size\"], step_size=model_config[\"step_size\"], X_test=X_valid_mlp_tensor, y_test=y_valid_mlp_tensor)"
   ],
   "metadata": {
    "id": "fRNmkhoYdnMd",
    "colab": {
     "base_uri": "https://localhost:8080/"
    },
    "outputId": "ce6ce5eb-906a-49fc-96e7-aedf5f07e1e8"
   },
   "execution_count": 66,
   "outputs": [
    {
     "output_type": "stream",
     "name": "stdout",
     "text": [
      "Using window_mechanism=sliding\n",
      "\n",
      "Trying weight_decay=0\n",
      "Epoch [5/10], Loss: 0.3138\n",
      "Epoch [10/10], Loss: 0.3135\n",
      "Training took 20.32 seconds\n",
      "Accuracy: 60.67%\n",
      "\n",
      "Trying weight_decay=0.001\n",
      "Epoch [5/10], Loss: 0.3137\n",
      "Epoch [10/10], Loss: 0.3135\n",
      "Training took 23.78 seconds\n",
      "Accuracy: 62.57%\n",
      "\n",
      "Trying weight_decay=0.002\n",
      "Epoch [5/10], Loss: 0.3140\n",
      "Epoch [10/10], Loss: 0.3136\n",
      "Training took 25.59 seconds\n",
      "Accuracy: 57.99%\n",
      "\n",
      "Trying weight_decay=0.003\n",
      "Epoch [5/10], Loss: 0.3138\n",
      "Epoch [10/10], Loss: 0.3136\n",
      "Training took 18.63 seconds\n",
      "Accuracy: 57.34%\n",
      "\n",
      "Trying weight_decay=0.004\n",
      "Epoch [5/10], Loss: 0.3140\n",
      "Epoch [10/10], Loss: 0.3137\n",
      "Training took 19.13 seconds\n",
      "Accuracy: 57.88%\n",
      "\n",
      "Trying weight_decay=0.005\n",
      "Epoch [5/10], Loss: 0.3141\n",
      "Epoch [10/10], Loss: 0.3138\n",
      "Training took 18.66 seconds\n",
      "Accuracy: 56.66%\n"
     ]
    }
   ]
  },
  {
   "cell_type": "markdown",
   "metadata": {
    "id": "hE4GBzbmCPAk"
   },
   "source": [
    "#### Sliding window"
   ]
  },
  {
   "cell_type": "code",
   "source": [
    "model_config[\"window_mechanism\"] = \"sliding\"\n",
    "model_config[\"window_size\"] = 30\n",
    "model_config[\"step_size\"] = 15\n",
    "model_config[\"hidden_size1\"] = 50\n",
    "model_config[\"hidden_size2\"] = 100\n",
    "model_config[\"hidden_size3\"] = 100\n",
    "\n",
    "print(f\"Using window_mechanism={model_config['window_mechanism']}\")\n",
    "\n",
    "for weight_decay in weight_decay_experiment:\n",
    "    model_config[\"weight_decay\"] = weight_decay\n",
    "    print(f\"\\nTrying weight_decay={model_config['weight_decay']}\")\n",
    "    \n",
    "    mlp = MLPClassifier(input_size=model_config[\"input_size\"], hidden_size1=model_config[\"hidden_size1\"], hidden_size2=model_config[\"hidden_size2\"], hidden_size3=model_config[\"hidden_size3\"], output_size=model_config[\"num_outputs\"]).to(available_device)\n",
    "    model_config[\"optimizer\"] = torch.optim.SGD(mlp.parameters(), lr=model_config[\"learning_rate\"], weight_decay=model_config[\"weight_decay\"], momentum=model_config[\"momentum\"])\n",
    "    train_evaluate_mlp(model=mlp, optimizer=model_config[\"optimizer\"], num_epochs=model_config[\"num_epochs\"], lr=model_config[\"learning_rate\"], X_train=X_train_mlp_tensor, y_train=y_train_mlp_tensor, window_mechanism=model_config[\"window_mechanism\"], window_size=model_config[\"window_size\"], step_size=model_config[\"step_size\"], X_test=X_valid_mlp_tensor, y_test=y_valid_mlp_tensor)"
   ],
   "metadata": {
    "id": "2mZHTjjiet8I",
    "colab": {
     "base_uri": "https://localhost:8080/"
    },
    "outputId": "8176c963-8593-44cb-a7a3-f6b8dab41b5d"
   },
   "execution_count": 67,
   "outputs": [
    {
     "output_type": "stream",
     "name": "stdout",
     "text": [
      "Using window_mechanism=sliding\n",
      "\n",
      "Trying weight_decay=0\n",
      "Epoch [5/10], Loss: 0.3134\n",
      "Epoch [10/10], Loss: 0.3133\n",
      "Training took 45.41 seconds\n",
      "Accuracy: 61.64%\n",
      "\n",
      "Trying weight_decay=0.001\n",
      "Epoch [5/10], Loss: 0.3134\n",
      "Epoch [10/10], Loss: 0.3133\n",
      "Training took 37.88 seconds\n",
      "Accuracy: 61.98%\n",
      "\n",
      "Trying weight_decay=0.002\n",
      "Epoch [5/10], Loss: 0.3136\n",
      "Epoch [10/10], Loss: 0.3135\n",
      "Training took 37.82 seconds\n",
      "Accuracy: 59.62%\n",
      "\n",
      "Trying weight_decay=0.003\n",
      "Epoch [5/10], Loss: 0.3136\n",
      "Epoch [10/10], Loss: 0.3135\n",
      "Training took 38.04 seconds\n",
      "Accuracy: 62.36%\n",
      "\n",
      "Trying weight_decay=0.004\n",
      "Epoch [5/10], Loss: 0.3135\n",
      "Epoch [10/10], Loss: 0.3135\n",
      "Training took 37.68 seconds\n",
      "Accuracy: 56.16%\n",
      "\n",
      "Trying weight_decay=0.005\n",
      "Epoch [5/10], Loss: 0.3138\n",
      "Epoch [10/10], Loss: 0.3137\n",
      "Training took 37.08 seconds\n",
      "Accuracy: 57.84%\n"
     ]
    }
   ]
  },
  {
   "cell_type": "markdown",
   "metadata": {
    "id": "fMH_-t2iCRnC"
   },
   "source": [
    "#### Increasing window"
   ]
  },
  {
   "cell_type": "code",
   "source": [
    "model_config[\"window_mechanism\"] = \"increasing\"\n",
    "model_config[\"window_size\"] = 30\n",
    "model_config[\"step_size\"] = 30\n",
    "model_config[\"hidden_size1\"] = 50\n",
    "model_config[\"hidden_size2\"] = 100\n",
    "model_config[\"hidden_size3\"] = 100\n",
    "\n",
    "print(f\"Using window_mechanism={model_config['window_mechanism']}\")\n",
    "\n",
    "for weight_decay in weight_decay_experiment:\n",
    "    model_config[\"weight_decay\"] = weight_decay\n",
    "    print(f\"\\nTrying weight_decay={model_config['weight_decay']}\")\n",
    "    \n",
    "    mlp = MLPClassifier(input_size=model_config[\"input_size\"], hidden_size1=model_config[\"hidden_size1\"], hidden_size2=model_config[\"hidden_size2\"], hidden_size3=model_config[\"hidden_size3\"], output_size=model_config[\"num_outputs\"]).to(available_device)\n",
    "    model_config[\"optimizer\"] = torch.optim.SGD(mlp.parameters(), lr=model_config[\"learning_rate\"], weight_decay=model_config[\"weight_decay\"], momentum=model_config[\"momentum\"])\n",
    "    train_evaluate_mlp(model=mlp, optimizer=model_config[\"optimizer\"], num_epochs=model_config[\"num_epochs\"], lr=model_config[\"learning_rate\"], X_train=X_train_mlp_tensor, y_train=y_train_mlp_tensor, window_mechanism=model_config[\"window_mechanism\"], window_size=model_config[\"window_size\"], step_size=model_config[\"step_size\"], X_test=X_valid_mlp_tensor, y_test=y_valid_mlp_tensor)"
   ],
   "metadata": {
    "id": "_6vjmIB3evjf",
    "colab": {
     "base_uri": "https://localhost:8080/"
    },
    "outputId": "04136751-ca83-4e72-d1c3-8b67f8506201"
   },
   "execution_count": 68,
   "outputs": [
    {
     "output_type": "stream",
     "name": "stdout",
     "text": [
      "Using window_mechanism=increasing\n",
      "\n",
      "Trying weight_decay=0\n",
      "Epoch [5/10], Loss: 0.3315\n",
      "Epoch [10/10], Loss: 0.3266\n",
      "Training took 52.72 seconds\n",
      "Accuracy: 79.66%\n",
      "\n",
      "Trying weight_decay=0.001\n",
      "Epoch [5/10], Loss: 0.3295\n",
      "Epoch [10/10], Loss: 0.3255\n",
      "Training took 44.78 seconds\n",
      "Accuracy: 62.74%\n",
      "\n",
      "Trying weight_decay=0.002\n",
      "Epoch [5/10], Loss: 0.3321\n",
      "Epoch [10/10], Loss: 0.3271\n",
      "Training took 45.00 seconds\n",
      "Accuracy: 71.80%\n",
      "\n",
      "Trying weight_decay=0.003\n",
      "Epoch [5/10], Loss: 0.3313\n",
      "Epoch [10/10], Loss: 0.3268\n",
      "Training took 44.26 seconds\n",
      "Accuracy: 76.18%\n",
      "\n",
      "Trying weight_decay=0.004\n",
      "Epoch [5/10], Loss: 0.3349\n",
      "Epoch [10/10], Loss: 0.3285\n",
      "Training took 44.81 seconds\n",
      "Accuracy: 63.89%\n",
      "\n",
      "Trying weight_decay=0.005\n",
      "Epoch [5/10], Loss: 0.3324\n",
      "Epoch [10/10], Loss: 0.3285\n",
      "Training took 44.26 seconds\n",
      "Accuracy: 69.35%\n"
     ]
    }
   ]
  },
  {
   "cell_type": "markdown",
   "source": [
    "### Momentum"
   ],
   "metadata": {
    "id": "grERu4ESZVha"
   }
  },
  {
   "cell_type": "code",
   "source": [
    "model_config = {\n",
    "    \"input_size\": X_train_mlp_tensor.size(1),\n",
    "    \"num_outputs\": 2,\n",
    "    \"learning_rate\": 0.003,\n",
    "    \"num_epochs\": 10\n",
    "}\n",
    "\n",
    "momentum_experiment = [0, 0.001, 0.002, 0.003, 0.004, 0.005]"
   ],
   "metadata": {
    "id": "KAzhZ61QecD7"
   },
   "execution_count": 73,
   "outputs": []
  },
  {
   "cell_type": "markdown",
   "metadata": {
    "id": "2R3g9aHsCjMq"
   },
   "source": [
    "#### Tumbling window"
   ]
  },
  {
   "cell_type": "code",
   "source": [
    "model_config[\"window_mechanism\"] = \"sliding\"\n",
    "model_config[\"window_size\"] = 30\n",
    "model_config[\"step_size\"] = 30\n",
    "model_config[\"hidden_size1\"] = 50\n",
    "model_config[\"hidden_size2\"] = 100\n",
    "model_config[\"hidden_size3\"] = 50\n",
    "model_config[\"weight_decay\"] = 0.001\n",
    "\n",
    "print(f\"Using window_mechanism={model_config['window_mechanism']}\")\n",
    "\n",
    "for momentum in momentum_experiment:\n",
    "    model_config[\"momentum\"] = momentum\n",
    "    print(f\"\\nTrying momentum={model_config['momentum']}\")\n",
    "    \n",
    "    mlp = MLPClassifier(input_size=model_config[\"input_size\"], hidden_size1=model_config[\"hidden_size1\"], hidden_size2=model_config[\"hidden_size2\"], hidden_size3=model_config[\"hidden_size3\"], output_size=model_config[\"num_outputs\"]).to(available_device)\n",
    "    model_config[\"optimizer\"] = torch.optim.SGD(mlp.parameters(), lr=model_config[\"learning_rate\"], weight_decay=model_config[\"weight_decay\"], momentum=model_config[\"momentum\"])\n",
    "    train_evaluate_mlp(model=mlp, optimizer=model_config[\"optimizer\"], num_epochs=model_config[\"num_epochs\"], lr=model_config[\"learning_rate\"], X_train=X_train_mlp_tensor, y_train=y_train_mlp_tensor, window_mechanism=model_config[\"window_mechanism\"], window_size=model_config[\"window_size\"], step_size=model_config[\"step_size\"], X_test=X_valid_mlp_tensor, y_test=y_valid_mlp_tensor)"
   ],
   "metadata": {
    "id": "QmKI041KfXV4",
    "colab": {
     "base_uri": "https://localhost:8080/"
    },
    "outputId": "6dcecf47-a494-476d-a430-d7b00f5adf10"
   },
   "execution_count": 74,
   "outputs": [
    {
     "output_type": "stream",
     "name": "stdout",
     "text": [
      "Using window_mechanism=sliding\n",
      "\n",
      "Trying momentum=0\n",
      "Epoch [5/10], Loss: 0.3137\n",
      "Epoch [10/10], Loss: 0.3134\n",
      "Training took 20.92 seconds\n",
      "Accuracy: 62.55%\n",
      "\n",
      "Trying momentum=0.001\n",
      "Epoch [5/10], Loss: 0.3140\n",
      "Epoch [10/10], Loss: 0.3136\n",
      "Training took 19.80 seconds\n",
      "Accuracy: 57.80%\n",
      "\n",
      "Trying momentum=0.002\n",
      "Epoch [5/10], Loss: 0.3137\n",
      "Epoch [10/10], Loss: 0.3134\n",
      "Training took 18.99 seconds\n",
      "Accuracy: 58.70%\n",
      "\n",
      "Trying momentum=0.003\n",
      "Epoch [5/10], Loss: 0.3138\n",
      "Epoch [10/10], Loss: 0.3135\n",
      "Training took 19.59 seconds\n",
      "Accuracy: 59.58%\n",
      "\n",
      "Trying momentum=0.004\n",
      "Epoch [5/10], Loss: 0.3138\n",
      "Epoch [10/10], Loss: 0.3135\n",
      "Training took 19.12 seconds\n",
      "Accuracy: 60.48%\n",
      "\n",
      "Trying momentum=0.005\n",
      "Epoch [5/10], Loss: 0.3138\n",
      "Epoch [10/10], Loss: 0.3135\n",
      "Training took 28.87 seconds\n",
      "Accuracy: 60.58%\n"
     ]
    }
   ]
  },
  {
   "cell_type": "markdown",
   "metadata": {
    "id": "e822EGaYCx39"
   },
   "source": [
    "#### Sliding window"
   ]
  },
  {
   "cell_type": "code",
   "source": [
    "model_config[\"window_mechanism\"] = \"sliding\"\n",
    "model_config[\"window_size\"] = 30\n",
    "model_config[\"step_size\"] = 15\n",
    "model_config[\"hidden_size1\"] = 50\n",
    "model_config[\"hidden_size2\"] = 100\n",
    "model_config[\"hidden_size3\"] = 100\n",
    "model_config[\"weight_decay\"] = 0.003\n",
    "\n",
    "print(f\"Using window_mechanism={model_config['window_mechanism']}\")\n",
    "\n",
    "for momentum in momentum_experiment:\n",
    "    model_config[\"momentum\"] = momentum\n",
    "    print(f\"\\nTrying momentum={model_config['momentum']}\")\n",
    "    \n",
    "    mlp = MLPClassifier(input_size=model_config[\"input_size\"], hidden_size1=model_config[\"hidden_size1\"], hidden_size2=model_config[\"hidden_size2\"], hidden_size3=model_config[\"hidden_size3\"], output_size=model_config[\"num_outputs\"]).to(available_device)\n",
    "    model_config[\"optimizer\"] = torch.optim.SGD(mlp.parameters(), lr=model_config[\"learning_rate\"], weight_decay=model_config[\"weight_decay\"], momentum=model_config[\"momentum\"])\n",
    "    train_evaluate_mlp(model=mlp, optimizer=model_config[\"optimizer\"], num_epochs=model_config[\"num_epochs\"], lr=model_config[\"learning_rate\"], X_train=X_train_mlp_tensor, y_train=y_train_mlp_tensor, window_mechanism=model_config[\"window_mechanism\"], window_size=model_config[\"window_size\"], step_size=model_config[\"step_size\"], X_test=X_valid_mlp_tensor, y_test=y_valid_mlp_tensor)"
   ],
   "metadata": {
    "id": "Ee0Q7OykfFKO",
    "colab": {
     "base_uri": "https://localhost:8080/"
    },
    "outputId": "6c7409c9-f2d4-45d8-8ea6-3baca7b46a6a"
   },
   "execution_count": 75,
   "outputs": [
    {
     "output_type": "stream",
     "name": "stdout",
     "text": [
      "Using window_mechanism=sliding\n",
      "\n",
      "Trying momentum=0\n",
      "Epoch [5/10], Loss: 0.3136\n",
      "Epoch [10/10], Loss: 0.3135\n",
      "Training took 39.68 seconds\n",
      "Accuracy: 59.94%\n",
      "\n",
      "Trying momentum=0.001\n",
      "Epoch [5/10], Loss: 0.3137\n",
      "Epoch [10/10], Loss: 0.3136\n",
      "Training took 38.89 seconds\n",
      "Accuracy: 60.47%\n",
      "\n",
      "Trying momentum=0.002\n",
      "Epoch [5/10], Loss: 0.3135\n",
      "Epoch [10/10], Loss: 0.3135\n",
      "Training took 39.37 seconds\n",
      "Accuracy: 57.32%\n",
      "\n",
      "Trying momentum=0.003\n",
      "Epoch [5/10], Loss: 0.3135\n",
      "Epoch [10/10], Loss: 0.3135\n",
      "Training took 38.78 seconds\n",
      "Accuracy: 60.89%\n",
      "\n",
      "Trying momentum=0.004\n",
      "Epoch [5/10], Loss: 0.3135\n",
      "Epoch [10/10], Loss: 0.3135\n",
      "Training took 42.83 seconds\n",
      "Accuracy: 58.76%\n",
      "\n",
      "Trying momentum=0.005\n",
      "Epoch [5/10], Loss: 0.3135\n",
      "Epoch [10/10], Loss: 0.3135\n",
      "Training took 44.36 seconds\n",
      "Accuracy: 58.19%\n"
     ]
    }
   ]
  },
  {
   "cell_type": "markdown",
   "metadata": {
    "id": "rvrSOmgJCuEt"
   },
   "source": [
    "#### Increasing window"
   ]
  },
  {
   "cell_type": "code",
   "source": [
    "model_config[\"window_mechanism\"] = \"increasing\"\n",
    "model_config[\"window_size\"] = 30\n",
    "model_config[\"step_size\"] = 30\n",
    "model_config[\"hidden_size1\"] = 50\n",
    "model_config[\"hidden_size2\"] = 100\n",
    "model_config[\"hidden_size3\"] = 100\n",
    "model_config[\"weight_decay\"] = 0\n",
    "model_config[\"momentum\"] = 0\n",
    "\n",
    "print(f\"Using window_mechanism={model_config['window_mechanism']}\")\n",
    "\n",
    "for momentum in momentum_experiment:\n",
    "    model_config[\"momentum\"] = momentum\n",
    "    print(f\"\\nTrying momentum={model_config['momentum']}\")\n",
    "    \n",
    "    mlp = MLPClassifier(input_size=model_config[\"input_size\"], hidden_size1=model_config[\"hidden_size1\"], hidden_size2=model_config[\"hidden_size2\"], hidden_size3=model_config[\"hidden_size3\"], output_size=model_config[\"num_outputs\"]).to(available_device)\n",
    "    model_config[\"optimizer\"] = torch.optim.SGD(mlp.parameters(), lr=model_config[\"learning_rate\"], weight_decay=model_config[\"weight_decay\"], momentum=model_config[\"momentum\"])\n",
    "    train_evaluate_mlp(model=mlp, optimizer=model_config[\"optimizer\"], num_epochs=model_config[\"num_epochs\"], lr=model_config[\"learning_rate\"], X_train=X_train_mlp_tensor, y_train=y_train_mlp_tensor, window_mechanism=model_config[\"window_mechanism\"], window_size=model_config[\"window_size\"], step_size=model_config[\"step_size\"], X_test=X_valid_mlp_tensor, y_test=y_valid_mlp_tensor)"
   ],
   "metadata": {
    "id": "RefKPrzXfHz0",
    "colab": {
     "base_uri": "https://localhost:8080/"
    },
    "outputId": "f756b14e-43ca-457d-d23e-8bfb13ccf55a"
   },
   "execution_count": 76,
   "outputs": [
    {
     "output_type": "stream",
     "name": "stdout",
     "text": [
      "Using window_mechanism=increasing\n",
      "\n",
      "Trying momentum=0\n",
      "Epoch [5/10], Loss: 0.3299\n",
      "Epoch [10/10], Loss: 0.3257\n",
      "Training took 46.05 seconds\n",
      "Accuracy: 71.86%\n",
      "\n",
      "Trying momentum=0.001\n",
      "Epoch [5/10], Loss: 0.3306\n",
      "Epoch [10/10], Loss: 0.3260\n",
      "Training took 44.33 seconds\n",
      "Accuracy: 65.55%\n",
      "\n",
      "Trying momentum=0.002\n",
      "Epoch [5/10], Loss: 0.3299\n",
      "Epoch [10/10], Loss: 0.3258\n",
      "Training took 44.04 seconds\n",
      "Accuracy: 75.47%\n",
      "\n",
      "Trying momentum=0.003\n",
      "Epoch [5/10], Loss: 0.3288\n",
      "Epoch [10/10], Loss: 0.3249\n",
      "Training took 44.55 seconds\n",
      "Accuracy: 76.11%\n",
      "\n",
      "Trying momentum=0.004\n",
      "Epoch [5/10], Loss: 0.3295\n",
      "Epoch [10/10], Loss: 0.3248\n",
      "Training took 45.38 seconds\n",
      "Accuracy: 72.81%\n",
      "\n",
      "Trying momentum=0.005\n",
      "Epoch [5/10], Loss: 0.3303\n",
      "Epoch [10/10], Loss: 0.3249\n",
      "Training took 44.37 seconds\n",
      "Accuracy: 74.23%\n"
     ]
    }
   ]
  },
  {
   "cell_type": "markdown",
   "source": [
    "### Best MLP model\n",
    "\n",
    "\n",
    "**Use best parameters from previous experiments!**"
   ],
   "metadata": {
    "id": "it3v-d4YkI6W"
   }
  },
  {
   "cell_type": "code",
   "source": [
    "model_config = {\n",
    "    \"input_size\": X_train_mlp_tensor.size(1),\n",
    "    \"hidden_size1\": 50,\n",
    "    \"hidden_size2\": 100,\n",
    "    \"hidden_size3\": 100,\n",
    "    \"num_outputs\": 2,\n",
    "    \"learning_rate\": 0.003,\n",
    "    \"window_mechanism\": \"increasing\",\n",
    "    \"window_size\": 30,\n",
    "    \"step_size\": 30,\n",
    "    \"num_epochs\": 10,\n",
    "    \"weight_decay\": 0,\n",
    "    \"momentum\": 0.003,\n",
    "}\n",
    "\n",
    "best_mlp = MLPClassifier(input_size=model_config[\"input_size\"], hidden_size1=model_config[\"hidden_size1\"], hidden_size2=model_config[\"hidden_size2\"], hidden_size3=model_config[\"hidden_size3\"], output_size=model_config[\"num_outputs\"]).to(available_device)\n",
    "model_config[\"optimizer\"] = torch.optim.SGD(best_mlp.parameters(), lr=model_config[\"learning_rate\"], weight_decay=model_config[\"weight_decay\"], momentum=model_config[\"momentum\"])\n",
    "train_evaluate_mlp(model=best_mlp, optimizer=model_config[\"optimizer\"], num_epochs=model_config[\"num_epochs\"], lr=model_config[\"learning_rate\"], X_train=X_train_mlp_tensor, y_train=y_train_mlp_tensor, window_mechanism=model_config[\"window_mechanism\"], window_size=model_config[\"window_size\"], step_size=model_config[\"step_size\"], X_test=X_valid_mlp_tensor, y_test=y_valid_mlp_tensor)\n",
    "\n"
   ],
   "metadata": {
    "id": "z47blCdmm3a0",
    "colab": {
     "base_uri": "https://localhost:8080/"
    },
    "outputId": "abffb091-9695-4ffb-cc5a-d89d01afdb24"
   },
   "execution_count": 80,
   "outputs": [
    {
     "output_type": "stream",
     "name": "stdout",
     "text": [
      "Epoch [5/10], Loss: 0.3290\n",
      "Epoch [10/10], Loss: 0.3254\n",
      "Training took 43.81 seconds\n",
      "Accuracy: 74.66%\n"
     ]
    }
   ]
  },
  {
   "cell_type": "code",
   "source": [
    "torch.save(best_mlp, \"/content/drive/MyDrive/mlp.pth\")"
   ],
   "metadata": {
    "id": "lWUvu1Vpm4Eq"
   },
   "execution_count": 88,
   "outputs": []
  },
  {
   "cell_type": "markdown",
   "metadata": {
    "id": "DL1x1AK-ntdN"
   },
   "source": [
    "## Testing best models\n",
    "\n",
    "To successfully run the tests, please run the code sections under \"LSTM / Model Declaration\" & \"MLP / Model Declaration\" before running the following code. The pth files assume a flat file hierarchy, i.e. they are in the same folder as the notebook."
   ]
  },
  {
   "cell_type": "code",
   "source": [
    "!pip install torch==2.0.0 pandas sklearn numpy"
   ],
   "metadata": {
    "id": "xRYX15lyYui1"
   },
   "execution_count": null,
   "outputs": []
  },
  {
   "cell_type": "code",
   "source": [
    "import time\n",
    "import numpy as np\n",
    "import pandas as pd\n",
    "import torch\n",
    "from torch import nn, optim\n",
    "from torch.utils.data import TensorDataset, DataLoader\n",
    "from multiprocessing import cpu_count\n",
    "import gc\n",
    "from sklearn.model_selection import train_test_split, TimeSeriesSplit\n",
    "from imblearn.under_sampling import RandomUnderSampler\n",
    "from sklearn.preprocessing import MinMaxScaler, StandardScaler, LabelEncoder\n",
    "import matplotlib.pyplot as plt\n",
    "import seaborn as sns"
   ],
   "metadata": {
    "id": "bqWcc1n2YtpM"
   },
   "execution_count": null,
   "outputs": []
  },
  {
   "cell_type": "code",
   "source": [
    "lstm_test = torch.load(\"test_set.pth\")"
   ],
   "metadata": {
    "id": "oa09EJl6WLJF"
   },
   "execution_count": 98,
   "outputs": []
  },
  {
   "cell_type": "code",
   "execution_count": 93,
   "metadata": {
    "id": "3wrhtYURejeP"
   },
   "outputs": [],
   "source": [
    "best_lstm = torch.load(\"lstm.pth\")"
   ]
  },
  {
   "cell_type": "code",
   "execution_count": 109,
   "metadata": {
    "colab": {
     "base_uri": "https://localhost:8080/"
    },
    "id": "jZLOri-1kB9l",
    "outputId": "a8593952-05ee-4252-f936-8c11c47aec6a"
   },
   "outputs": [
    {
     "output_type": "stream",
     "name": "stdout",
     "text": [
      "Accuracy: 75.81%\n"
     ]
    }
   ],
   "source": [
    "evaluate_model(model=best_lstm, test_data=lstm_test)"
   ]
  },
  {
   "cell_type": "code",
   "source": [
    "best_mlp = torch.load(\"mlp.pth\")"
   ],
   "metadata": {
    "id": "O0XNgAj1Vnii"
   },
   "execution_count": 89,
   "outputs": []
  },
  {
   "cell_type": "code",
   "source": [
    "mlp_X_test = torch.load(\"X_test_mlp.pth\")"
   ],
   "metadata": {
    "id": "ckPe6C9RYTaR"
   },
   "execution_count": 104,
   "outputs": []
  },
  {
   "cell_type": "code",
   "source": [
    "mlp_y_test = torch.load(\"y_test_mlp.pth\")"
   ],
   "metadata": {
    "id": "4-TyeSu7YZoR"
   },
   "execution_count": 105,
   "outputs": []
  },
  {
   "cell_type": "code",
   "source": [
    "evaluate_mlp(best_mlp, X_test_mlp_tensor, y_test_mlp_tensor)"
   ],
   "metadata": {
    "colab": {
     "base_uri": "https://localhost:8080/"
    },
    "id": "8f7q08q_Vqze",
    "outputId": "50c8b324-eaf1-4e58-fc00-7e2c4af73e5f"
   },
   "execution_count": 110,
   "outputs": [
    {
     "output_type": "stream",
     "name": "stdout",
     "text": [
      "Accuracy: 88.81%\n"
     ]
    }
   ]
  },
  {
   "cell_type": "markdown",
   "metadata": {
    "id": "V--CzSMRYzJf"
   },
   "source": [
    "# Comparison of models\n",
    "\n",
    "Training time vs Accuracy\n"
   ]
  },
  {
   "cell_type": "code",
   "execution_count": null,
   "metadata": {
    "id": "VhxtRNly4Oj5"
   },
   "outputs": [],
   "source": [
    "##%%shell\n",
    "#jupyter nbconvert --to html /content/Coursework_GPU.ipynb"
   ]
  }
 ],
 "metadata": {
  "accelerator": "GPU",
  "colab": {
   "provenance": [],
   "gpuType": "V100"
  },
  "gpuClass": "standard",
  "kernelspec": {
   "display_name": "Python 3",
   "name": "python3"
  },
  "language_info": {
   "name": "python"
  }
 },
 "nbformat": 4,
 "nbformat_minor": 0
}
