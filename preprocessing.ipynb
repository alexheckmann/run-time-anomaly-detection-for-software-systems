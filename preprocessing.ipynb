{
 "cells": [
  {
   "cell_type": "code",
   "execution_count": 2,
   "outputs": [],
   "source": [
    "import os\n",
    "from imblearn.under_sampling import RandomUnderSampler\n",
    "from sklearn.preprocessing import MinMaxScaler, LabelEncoder, StandardScaler\n",
    "from sklearn.model_selection import train_test_split\n",
    "import pandas as pd\n",
    "import numpy as np\n",
    "import matplotlib.pyplot as plt\n",
    "import torch\n",
    "import torch.nn as nn\n",
    "import torch.optim as optim\n",
    "from skorch import NeuralNetClassifier\n",
    "from torch.autograd import Variable\n",
    "import gc"
   ],
   "metadata": {
    "collapsed": false,
    "ExecuteTime": {
     "start_time": "2023-04-08T11:49:37.293576Z",
     "end_time": "2023-04-08T11:49:50.972140Z"
    }
   }
  },
  {
   "cell_type": "code",
   "execution_count": 1,
   "outputs": [
    {
     "name": "stderr",
     "output_type": "stream",
     "text": [
      "\n",
      "KeyboardInterrupt\n",
      "\n"
     ]
    }
   ],
   "source": [
    "# load the data\n",
    "data_directory = 'D:\\\\Work\\\\City University of London\\\\Neural Computing\\\\Individual Project\\\\data'\n",
    "\n",
    "# loop through all files in directory\n",
    "data = pd.read_csv(\"data/part-009.csv\")\n",
    "print(\"Loading part-009.csv\")\n",
    "\n",
    "for filename in os.listdir(data_directory):\n",
    "    if filename.endswith('.csv') and filename.startswith('part-'):\n",
    "        if filename in [\"part-009.csv\", \"preprocessed_data.csv\"]:\n",
    "            continue\n",
    "\n",
    "        print(f\"Loading {filename}\")\n",
    "        new_data = pd.read_csv(data_directory + \"\\\\\" + filename, engine=\"pyarrow\")\n",
    "        data = pd.concat([data, new_data], axis=0)\n",
    "\n",
    "print(f\"Number of anomalies: {data['isAnomaly'].value_counts()}\")"
   ],
   "metadata": {
    "collapsed": false
   }
  },
  {
   "cell_type": "markdown",
   "source": [
    "# Preprocessing"
   ],
   "metadata": {
    "collapsed": false
   }
  },
  {
   "cell_type": "markdown",
   "source": [
    "## Helper functions"
   ],
   "metadata": {
    "collapsed": false
   }
  },
  {
   "cell_type": "code",
   "execution_count": 3,
   "outputs": [],
   "source": [
    "TARGET_COL = \"isAnomaly\"\n",
    "class_names = [\"Anomaly\", \"No Anomaly\"]\n",
    "RND_SEED = 42\n",
    "device = torch.device('cuda' if torch.cuda.is_available() else 'cpu')\n",
    "\n",
    "\n",
    "def scale_dataset(df: pd.DataFrame, df_scale_exclude_names, scaler):\n",
    "    \"\"\"\n",
    "    This function takes a pandas dataframe 'df' and a list of column name that don't need to be scaled as input and returns a scaled dataframe.\n",
    "\n",
    "    Parameters:\n",
    "    -----------\n",
    "    df: A pandas dataframe with columns that need to be scaled\n",
    "\n",
    "    df_scale_exclude_names\n",
    "        A list of strings containing column names that shall be excluded from scaling.\n",
    "\n",
    "    Returns:\n",
    "    --------\n",
    "    df\n",
    "        The dataframe with applied scaling\n",
    "    \"\"\"\n",
    "    df_scale_exclude = df[df_scale_exclude_names]\n",
    "    df_scale_include = df.drop(df_scale_exclude_names, axis=1)\n",
    "    df_scale_include_names = df_scale_include.columns\n",
    "    df_scale_include = scaler.fit_transform(df_scale_include)\n",
    "    df_scale_include = pd.DataFrame(data=df_scale_include, columns=df_scale_include_names)\n",
    "    df_scale_include = df_scale_include.reset_index(drop=True)\n",
    "    df_scale_exclude = df_scale_exclude.reset_index(drop=True)\n",
    "    scaled_df = pd.concat([df_scale_include, df_scale_exclude], axis=1)\n",
    "    return scaled_df\n",
    "\n",
    "\n",
    "def get_constant_value_features(df: pd.DataFrame):\n",
    "    \"\"\"\n",
    "    This function takes a pandas dataframe as input, and returns a list of column names that contain only one unique value.\n",
    "    Code originally from https://www.kaggle.com/code/yashikachugh/anomaly-detection-all-in-one.\n",
    "\n",
    "    Parameters:\n",
    "    -----------\n",
    "    df: A pandas dataframe with columns that need to be checked for constant values\n",
    "\n",
    "    Returns:\n",
    "    --------\n",
    "    list\n",
    "        A list of column names that have only one unique value\n",
    "    \"\"\"\n",
    "    return [column for column in df.columns if df[column].nunique() == 1]\n",
    "\n",
    "\n",
    "def get_highly_correlated_features(df: pd.DataFrame, threshold: float = 0.95):\n",
    "    \"\"\"\n",
    "    This function takes a pandas dataframe 'df' as input and returns a list of column names that are highly correlated.\n",
    "    Code originally from https://www.kaggle.com/code/yashikachugh/anomaly-detection-all-in-one.\n",
    "\n",
    "    Parameters:\n",
    "    -----------\n",
    "    df: A pandas dataframe with columns that need to be checked for highly correlated features\n",
    "\n",
    "    threshold: float, default=0.95\n",
    "        A float value between 0 and 1 specifying which columns are considered highly correlated.\n",
    "\n",
    "    Returns:\n",
    "    --------\n",
    "    list\n",
    "        A list of column names that are highly correlated.\n",
    "    \"\"\"\n",
    "    corr_matrix = df.corr()\n",
    "    upper_tri = corr_matrix.where(np.triu(np.ones(corr_matrix.shape), k=1).astype(bool))\n",
    "    return [column for column in upper_tri.columns if any(upper_tri[column] > threshold)]\n",
    "\n",
    "\n",
    "def one_hot_encoding(df: pd.DataFrame, column_name: str):\n",
    "    \"\"\"\n",
    "    This function takes a pandas dataframe 'df' and a column name as input and returns a dataframe with one hot encoding of said column.\n",
    "\n",
    "    Parameters:\n",
    "    -----------\n",
    "    df: A pandas dataframe with columns that need to be one-hot encoded\n",
    "\n",
    "    column_name: str\n",
    "        A string containing the column that needs to be encoded.\n",
    "\n",
    "    Returns:\n",
    "    --------\n",
    "    df\n",
    "        The dataframe with one hot encoded features\n",
    "    \"\"\"\n",
    "    ohe = pd.get_dummies(df[column_name], prefix=column_name)\n",
    "    df = pd.concat([df, ohe], axis=1)\n",
    "    df = df.drop(column_name, axis=1)\n",
    "    return df\n",
    "\n",
    "\n",
    "def x_y_split(df: pd.DataFrame, target_column: str):\n",
    "    \"\"\"\n",
    "    This function takes a pandas dataframe 'df' and the column name of the target variable and returns the split dataset as X and y.\n",
    "\n",
    "    Parameters:\n",
    "    -----------\n",
    "    df: A pandas dataframe with predictors\n",
    "\n",
    "    target_column: str\n",
    "        The name of the target column.\n",
    "\n",
    "    Returns:\n",
    "    --------\n",
    "    X: pandas.DataFrame\n",
    "        All predictors\n",
    "    Y: pandas.Series\n",
    "        The target variable\n",
    "    \"\"\"\n",
    "    y = df[target_column]\n",
    "    X = df.drop(target_column, axis=1)\n",
    "    return X, y\n",
    "\n",
    "\n",
    "def plot_target_col(df: pd.DataFrame, target_col: str, max_y: int, y_tick_interval: int, target_class_names: [str],\n",
    "                    pdf_filename: str):\n",
    "    \"\"\"\n",
    "    Creates a bar chart of a binary target variable in a Pandas DataFrame.\n",
    "\n",
    "    Parameters:\n",
    "    -----------\n",
    "    df (pd.DataFrame):\n",
    "        The Pandas DataFrame containing the target variable.\n",
    "    target_col (str):\n",
    "        The name of the target variable column in the DataFrame.\n",
    "    max_y (int):\n",
    "        The maximum value of the y-axis.\n",
    "    - y_tick_interval (int):\n",
    "        The interval between y-axis ticks.\n",
    "    - target_class_names ([str]):\n",
    "        A list of two strings representing the names of the two target classes.\n",
    "    - filename (str):\n",
    "        The filename to save the plot as.\n",
    "\n",
    "    Returns:\n",
    "    - None:\n",
    "        Plots a barchart with the number of classes\n",
    "\n",
    "    The function creates a bar chart of the two target classes in the DataFrame, with the minority class on the left and the majority class on the right. The y-axis is scaled to the maximum value specified by max_y, with tick intervals specified by y_tick_interval. The target_class_names argument is a list of two strings representing the names of the two target classes. The plot is saved to the file specified by filename.\n",
    "\n",
    "\n",
    "\n",
    "    \"\"\"\n",
    "    blue = \"#0D0887\"\n",
    "    yellow = \"#FCD025\"\n",
    "\n",
    "    fig, ax = plt.subplots(figsize=(5 / 3 + 0.25, 5))\n",
    "\n",
    "    bar_width = 0.25\n",
    "    # set heights of bars\n",
    "    minority_class_bar = [df[target_col].value_counts()[1]]\n",
    "    majority_class_bar = [df[target_col].value_counts()[0]]\n",
    "\n",
    "    # Set position of bar on X axis\n",
    "    r1 = np.arange(len(minority_class_bar))\n",
    "    r2 = [x + bar_width for x in r1]\n",
    "\n",
    "    # Make the plot\n",
    "    plt.bar(r1, minority_class_bar, color=blue, width=bar_width, edgecolor='white', label='Failure')\n",
    "    plt.bar(r2, majority_class_bar, color=yellow, width=bar_width, edgecolor='white', label='No Failure')\n",
    "\n",
    "    y_tick_positions = [i * y_tick_interval for i in range(0, max_y) if i * y_tick_interval <= max_y]\n",
    "    ax.yaxis.set_ticks(y_tick_positions)\n",
    "    ax.yaxis.set_ticklabels(y_tick_positions, size=16, fontfamily=\"Econ Sans Cnd\", fontweight=100)\n",
    "    ax.yaxis.set_tick_params(labelbottom=False, labeltop=True, length=0)\n",
    "\n",
    "    ax.set_ylim((0, max_y))\n",
    "\n",
    "    # Set whether axis ticks and gridlines are above or below most artists.\n",
    "    ax.set_axisbelow(True)\n",
    "    ax.grid(axis=\"y\", color=\"#A8BAC4\", lw=1.2)\n",
    "    ax.spines[\"right\"].set_visible(False)\n",
    "    ax.spines[\"top\"].set_visible(False)\n",
    "    ax.spines[\"left\"].set_visible(False)\n",
    "    ax.spines[\"bottom\"].set_lw(1.5)\n",
    "    # This capstyle determines the lines don't go beyond the limit we specified\n",
    "    # see: https://matplotlib.org/stable/api/_enums_api.html?highlight=capstyle#matplotlib._enums.CapStyle\n",
    "    ax.spines[\"left\"].set_capstyle(\"butt\")\n",
    "\n",
    "    # Add xticks on the middle of the group bars\n",
    "    plt.xlabel('Variable', fontweight='bold')\n",
    "    plt.xticks([r + bar_width / 2 for r in range(len(minority_class_bar))], ['Categories'])\n",
    "\n",
    "    # Create legend & Show graphic\n",
    "    fig.subplots_adjust(left=0.005, right=1, top=0.8, bottom=0.1)\n",
    "\n",
    "    plt.legend(target_class_names, bbox_to_anchor=([1.075, 1.2, 0, 0]), ncol=1, frameon=False, fontsize=12.5)\n",
    "    fig.set_facecolor(\"white\")\n",
    "    plt.savefig(f\"figures/{pdf_filename}.pdf\", bbox_inches=\"tight\")\n",
    "    plt.show()"
   ],
   "metadata": {
    "collapsed": false,
    "ExecuteTime": {
     "start_time": "2023-04-08T11:49:50.983783Z",
     "end_time": "2023-04-08T11:49:51.039784Z"
    }
   }
  },
  {
   "cell_type": "markdown",
   "source": [
    "### Removing data with constant values"
   ],
   "metadata": {
    "collapsed": false
   }
  },
  {
   "cell_type": "code",
   "execution_count": 6,
   "outputs": [
    {
     "name": "stdout",
     "output_type": "stream",
     "text": [
      "Number of missing values: 0 \n",
      "Number of anomalies: \n",
      "False    160478\n",
      "True      27590\n",
      "Name: isAnomaly, dtype: int64 \n",
      "\n",
      "Original number of columns: 235\n",
      "Number of remaining columns: 148\n",
      "Number of remaining columns: 99\n"
     ]
    }
   ],
   "source": [
    "data = pd.concat([pd.read_csv(\"data/part-133.csv\", engine=\"pyarrow\"),\n",
    "                  pd.read_csv(\"data/part-009.csv\", engine=\"pyarrow\"),\n",
    "                  pd.read_csv(\"data/part-158.csv\", engine=\"pyarrow\"),\n",
    "                  pd.read_csv(\"data/part-161.csv\", engine=\"pyarrow\"),\n",
    "                  pd.read_csv(\"data/part-145.csv\", engine=\"pyarrow\")], axis=0)\n",
    "#data.to_csv(\"data/data.csv\", index=False)\n",
    "print(\n",
    "    f\"Number of missing values: {np.sum(np.sum(data.isna()))} \\n\"\n",
    "    f\"Number of anomalies: \\n{data['isAnomaly'].value_counts()} \\n\"\n",
    ")\n",
    "print(f\"Original number of columns: {data.shape[1]}\")\n",
    "data = data.drop(columns=get_constant_value_features(data))\n",
    "#data = data.drop(columns=get_highly_correlated_features(data))\n",
    "print(f\"Number of remaining columns: {data.shape[1]}\")\n",
    "#data = data.drop(columns=get_constant_value_features(data))\n",
    "data = data.drop(columns=get_highly_correlated_features(data))\n",
    "print(f\"Number of remaining columns: {data.shape[1]}\")\n",
    "\n",
    "# encoding label\n",
    "le = LabelEncoder()\n",
    "data['isAnomaly'] = data['isAnomaly'].apply(lambda x: 1 if x == True else 0)\n",
    "\n",
    "# encoding host\n",
    "data = one_hot_encoding(data, \"host\")\n",
    "data = one_hot_encoding(data, \"process\")\n",
    "\n",
    "data[\"timestamp\"] = pd.to_datetime(data[\"timestamp\"]).map(pd.Timestamp.timestamp).astype(int)\n",
    "\n",
    "train_df, test_df = train_test_split(data, train_size=0.8, random_state=RND_SEED, stratify=data[TARGET_COL])\n",
    "\n",
    "X_train, y_train = x_y_split(train_df, TARGET_COL)"
   ],
   "metadata": {
    "collapsed": false,
    "ExecuteTime": {
     "start_time": "2023-04-08T17:25:22.565611Z",
     "end_time": "2023-04-08T17:25:46.677884Z"
    }
   }
  },
  {
   "cell_type": "code",
   "execution_count": 7,
   "outputs": [
    {
     "data": {
      "text/plain": "        timestamp  \\\n10573  1441686060   \n5966   1425839520   \n30288  1440950880   \n3907   1425703260   \n40031  1427887080   \n\n       Prepared statement cache hit rate : ((MXBean(com.bea:Name=source06,Type=JDBCDataSourceRuntime).PrepStmtCacheHitCount / MXBean(com.bea:Name=source06,Type=JDBCDataSourceRuntime).PrepStmtCacheMissCount))  \\\n10573                                           1.806157                                                                                                                                                          \n5966                                            1.000000                                                                                                                                                          \n30288                                           1.000000                                                                                                                                                          \n3907                                            1.000000                                                                                                                                                          \n40031                                           1.000000                                                                                                                                                          \n\n       Memory space usage : ((MXBean(java.lang:name=Code Cache,type=MemoryPool).Usage.committed / MXBean(java.lang:name=Code Cache,type=MemoryPool).Usage.max))  \\\n10573                                           0.970052                                                                                                          \n5966                                            0.355469                                                                                                          \n30288                                           0.467448                                                                                                          \n3907                                            0.973958                                                                                                          \n40031                                           0.970052                                                                                                          \n\n       Available db connection activity : (d/dx (MXBean(com.bea:Name=source02,Type=JDBCDataSourceRuntime).NumAvailable))  \\\n10573                                                0.0                                                                   \n5966                                                 0.0                                                                   \n30288                                                0.0                                                                   \n3907                                                 0.0                                                                   \n40031                                                0.0                                                                   \n\n       Active connections : (MXBean(com.bea:Name=source03,Type=JDBCConnectionPoolRuntime).ActiveConnectionsCurrentCount)  \\\n10573                                                0.0                                                                   \n5966                                                 0.0                                                                   \n30288                                                0.0                                                                   \n3907                                                 0.0                                                                   \n40031                                                0.0                                                                   \n\n       DB connection started : (incld/dx (MXBean(com.bea:Name=source02,Type=JDBCDataSourceRuntime).ConnectionsTotalCount))  \\\n10573                                                0.0                                                                     \n5966                                                 0.0                                                                     \n30288                                                0.0                                                                     \n3907                                                 0.0                                                                     \n40031                                                0.0                                                                     \n\n       Heap usage activity : (d/dx (MXBean(java.lang:type=Memory).HeapMemoryUsage.used))  \\\n10573                                       1.617633e+09                                   \n5966                                        5.633499e+07                                   \n30288                                       3.723946e+07                                   \n3907                                       -2.117481e+07                                   \n40031                                       1.555135e+08                                   \n\n       Connection delay : (MXBean(com.bea:Name=source10,Type=JDBCDataSourceRuntime).ConnectionDelayTime)  \\\n10573                                                0.0                                                   \n5966                                                 0.0                                                   \n30288                                                0.0                                                   \n3907                                                 0.0                                                   \n40031                                              175.0                                                   \n\n       Stuck threads : (MXBean(com.bea:Name=ThreadPoolRuntime,Type=ThreadPoolRuntime).StuckThreadCount)  \\\n10573                                                0.0                                                  \n5966                                                 0.0                                                  \n30288                                                0.0                                                  \n3907                                                 2.0                                                  \n40031                                                0.0                                                  \n\n       DB connection started : (incld/dx (MXBean(com.bea:Name=source09,Type=JDBCConnectionPoolRuntime).ConnectionsTotalCount))  \\\n10573                                                0.0                                                                         \n5966                                                 0.0                                                                         \n30288                                                0.0                                                                         \n3907                                                 0.0                                                                         \n40031                                                0.0                                                                         \n\n       ...  \\\n10573  ...   \n5966   ...   \n30288  ...   \n3907   ...   \n40031  ...   \n\n       Failing reserve requests : (incld/dx (MXBean(com.bea:Name=source09,Type=JDBCDataSourceRuntime).FailedReserveRequestCount))  \\\n10573                                                0.0                                                                            \n5966                                                 0.0                                                                            \n30288                                                0.0                                                                            \n3907                                                 0.0                                                                            \n40031                                                0.0                                                                            \n\n       Available db connection activity : (d/dx (MXBean(com.bea:Name=source02,Type=JDBCConnectionPoolRuntime).NumAvailable))  \\\n10573                                                0.0                                                                       \n5966                                                 0.0                                                                       \n30288                                                0.0                                                                       \n3907                                                 0.0                                                                       \n40031                                                0.0                                                                       \n\n       Memory space activity : (d/dx ((MXBean(java.lang:name=PS Eden Space,type=MemoryPool).Usage.committed / MXBean(java.lang:name=PS Eden Space,type=MemoryPool).Usage.max)))  \\\n10573                                            0.00000                                                                                                                          \n5966                                             0.00000                                                                                                                          \n30288                                            0.00000                                                                                                                          \n3907                                            -0.00003                                                                                                                          \n40031                                            0.00000                                                                                                                          \n\n       Active transactions : (MXBean(com.bea:Name=JTARuntime,Type=JTARuntime).ActiveTransactionsTotalCount)  \\\n10573                                                0.0                                                      \n5966                                                 0.0                                                      \n30288                                                0.0                                                      \n3907                                                 0.0                                                      \n40031                                                0.0                                                      \n\n       Process CPU : (\\Process(java)\\CPU)  host_lphost06  host_lphost14  \\\n10573                                 0.0              1              0   \n5966                                  0.0              0              0   \n30288                                 0.0              0              1   \n3907                                199.0              0              0   \n40031                                 2.0              0              0   \n\n       host_lphost15  process_wls1  process_wls2  \n10573              0             1             0  \n5966               1             1             0  \n30288              0             1             0  \n3907               1             1             0  \n40031              1             1             0  \n\n[5 rows x 101 columns]",
      "text/html": "<div>\n<style scoped>\n    .dataframe tbody tr th:only-of-type {\n        vertical-align: middle;\n    }\n\n    .dataframe tbody tr th {\n        vertical-align: top;\n    }\n\n    .dataframe thead th {\n        text-align: right;\n    }\n</style>\n<table border=\"1\" class=\"dataframe\">\n  <thead>\n    <tr style=\"text-align: right;\">\n      <th></th>\n      <th>timestamp</th>\n      <th>Prepared statement cache hit rate : ((MXBean(com.bea:Name=source06,Type=JDBCDataSourceRuntime).PrepStmtCacheHitCount / MXBean(com.bea:Name=source06,Type=JDBCDataSourceRuntime).PrepStmtCacheMissCount))</th>\n      <th>Memory space usage : ((MXBean(java.lang:name=Code Cache,type=MemoryPool).Usage.committed / MXBean(java.lang:name=Code Cache,type=MemoryPool).Usage.max))</th>\n      <th>Available db connection activity : (d/dx (MXBean(com.bea:Name=source02,Type=JDBCDataSourceRuntime).NumAvailable))</th>\n      <th>Active connections : (MXBean(com.bea:Name=source03,Type=JDBCConnectionPoolRuntime).ActiveConnectionsCurrentCount)</th>\n      <th>DB connection started : (incld/dx (MXBean(com.bea:Name=source02,Type=JDBCDataSourceRuntime).ConnectionsTotalCount))</th>\n      <th>Heap usage activity : (d/dx (MXBean(java.lang:type=Memory).HeapMemoryUsage.used))</th>\n      <th>Connection delay : (MXBean(com.bea:Name=source10,Type=JDBCDataSourceRuntime).ConnectionDelayTime)</th>\n      <th>Stuck threads : (MXBean(com.bea:Name=ThreadPoolRuntime,Type=ThreadPoolRuntime).StuckThreadCount)</th>\n      <th>DB connection started : (incld/dx (MXBean(com.bea:Name=source09,Type=JDBCConnectionPoolRuntime).ConnectionsTotalCount))</th>\n      <th>...</th>\n      <th>Failing reserve requests : (incld/dx (MXBean(com.bea:Name=source09,Type=JDBCDataSourceRuntime).FailedReserveRequestCount))</th>\n      <th>Available db connection activity : (d/dx (MXBean(com.bea:Name=source02,Type=JDBCConnectionPoolRuntime).NumAvailable))</th>\n      <th>Memory space activity : (d/dx ((MXBean(java.lang:name=PS Eden Space,type=MemoryPool).Usage.committed / MXBean(java.lang:name=PS Eden Space,type=MemoryPool).Usage.max)))</th>\n      <th>Active transactions : (MXBean(com.bea:Name=JTARuntime,Type=JTARuntime).ActiveTransactionsTotalCount)</th>\n      <th>Process CPU : (\\Process(java)\\CPU)</th>\n      <th>host_lphost06</th>\n      <th>host_lphost14</th>\n      <th>host_lphost15</th>\n      <th>process_wls1</th>\n      <th>process_wls2</th>\n    </tr>\n  </thead>\n  <tbody>\n    <tr>\n      <th>10573</th>\n      <td>1441686060</td>\n      <td>1.806157</td>\n      <td>0.970052</td>\n      <td>0.0</td>\n      <td>0.0</td>\n      <td>0.0</td>\n      <td>1.617633e+09</td>\n      <td>0.0</td>\n      <td>0.0</td>\n      <td>0.0</td>\n      <td>...</td>\n      <td>0.0</td>\n      <td>0.0</td>\n      <td>0.00000</td>\n      <td>0.0</td>\n      <td>0.0</td>\n      <td>1</td>\n      <td>0</td>\n      <td>0</td>\n      <td>1</td>\n      <td>0</td>\n    </tr>\n    <tr>\n      <th>5966</th>\n      <td>1425839520</td>\n      <td>1.000000</td>\n      <td>0.355469</td>\n      <td>0.0</td>\n      <td>0.0</td>\n      <td>0.0</td>\n      <td>5.633499e+07</td>\n      <td>0.0</td>\n      <td>0.0</td>\n      <td>0.0</td>\n      <td>...</td>\n      <td>0.0</td>\n      <td>0.0</td>\n      <td>0.00000</td>\n      <td>0.0</td>\n      <td>0.0</td>\n      <td>0</td>\n      <td>0</td>\n      <td>1</td>\n      <td>1</td>\n      <td>0</td>\n    </tr>\n    <tr>\n      <th>30288</th>\n      <td>1440950880</td>\n      <td>1.000000</td>\n      <td>0.467448</td>\n      <td>0.0</td>\n      <td>0.0</td>\n      <td>0.0</td>\n      <td>3.723946e+07</td>\n      <td>0.0</td>\n      <td>0.0</td>\n      <td>0.0</td>\n      <td>...</td>\n      <td>0.0</td>\n      <td>0.0</td>\n      <td>0.00000</td>\n      <td>0.0</td>\n      <td>0.0</td>\n      <td>0</td>\n      <td>1</td>\n      <td>0</td>\n      <td>1</td>\n      <td>0</td>\n    </tr>\n    <tr>\n      <th>3907</th>\n      <td>1425703260</td>\n      <td>1.000000</td>\n      <td>0.973958</td>\n      <td>0.0</td>\n      <td>0.0</td>\n      <td>0.0</td>\n      <td>-2.117481e+07</td>\n      <td>0.0</td>\n      <td>2.0</td>\n      <td>0.0</td>\n      <td>...</td>\n      <td>0.0</td>\n      <td>0.0</td>\n      <td>-0.00003</td>\n      <td>0.0</td>\n      <td>199.0</td>\n      <td>0</td>\n      <td>0</td>\n      <td>1</td>\n      <td>1</td>\n      <td>0</td>\n    </tr>\n    <tr>\n      <th>40031</th>\n      <td>1427887080</td>\n      <td>1.000000</td>\n      <td>0.970052</td>\n      <td>0.0</td>\n      <td>0.0</td>\n      <td>0.0</td>\n      <td>1.555135e+08</td>\n      <td>175.0</td>\n      <td>0.0</td>\n      <td>0.0</td>\n      <td>...</td>\n      <td>0.0</td>\n      <td>0.0</td>\n      <td>0.00000</td>\n      <td>0.0</td>\n      <td>2.0</td>\n      <td>0</td>\n      <td>0</td>\n      <td>1</td>\n      <td>1</td>\n      <td>0</td>\n    </tr>\n  </tbody>\n</table>\n<p>5 rows × 101 columns</p>\n</div>"
     },
     "execution_count": 7,
     "metadata": {},
     "output_type": "execute_result"
    }
   ],
   "source": [
    "X_train.head()"
   ],
   "metadata": {
    "collapsed": false,
    "ExecuteTime": {
     "start_time": "2023-04-08T17:25:46.685884Z",
     "end_time": "2023-04-08T17:25:46.757887Z"
    }
   }
  },
  {
   "cell_type": "markdown",
   "source": [
    "### Saving data for quicker access later"
   ],
   "metadata": {
    "collapsed": false
   }
  },
  {
   "cell_type": "code",
   "execution_count": 73,
   "outputs": [
    {
     "data": {
      "text/plain": "<Figure size 191.667x500 with 1 Axes>",
      "image/png": "[encoded data removed]"
     },
     "metadata": {},
     "output_type": "display_data"
    }
   ],
   "source": [
    "plot_target_col(df=train_df, target_col=TARGET_COL, max_y=140000, y_tick_interval=20000,\n",
    "                target_class_names=class_names, pdf_filename=\"eda_categories\")"
   ],
   "metadata": {
    "collapsed": false,
    "ExecuteTime": {
     "start_time": "2023-04-07T12:25:44.966440Z",
     "end_time": "2023-04-07T12:25:45.301436Z"
    }
   }
  },
  {
   "cell_type": "code",
   "execution_count": 74,
   "outputs": [
    {
     "data": {
      "text/plain": "    timestamp  \\\n0  1443335520   \n1  1439171640   \n2  1439964900   \n3  1426986720   \n4  1431246480   \n\n   Prepared statement cache hit rate : ((MXBean(com.bea:Name=source06,Type=JDBCDataSourceRuntime).PrepStmtCacheHitCount / MXBean(com.bea:Name=source06,Type=JDBCDataSourceRuntime).PrepStmtCacheMissCount))  \\\n0                                                1.0                                                                                                                                                          \n1                                                1.0                                                                                                                                                          \n2                                                1.0                                                                                                                                                          \n3                                                1.0                                                                                                                                                          \n4                                                1.0                                                                                                                                                          \n\n   Memory space usage : ((MXBean(java.lang:name=Code Cache,type=MemoryPool).Usage.committed / MXBean(java.lang:name=Code Cache,type=MemoryPool).Usage.max))  \\\n0                                           0.406250                                                                                                          \n1                                           0.970052                                                                                                          \n2                                           0.970052                                                                                                          \n3                                           0.825521                                                                                                          \n4                                           0.393229                                                                                                          \n\n   Available db connection activity : (d/dx (MXBean(com.bea:Name=source02,Type=JDBCDataSourceRuntime).NumAvailable))  \\\n0                                                0.0                                                                   \n1                                                0.0                                                                   \n2                                                0.0                                                                   \n3                                                0.0                                                                   \n4                                                0.0                                                                   \n\n   Active connections : (MXBean(com.bea:Name=source03,Type=JDBCConnectionPoolRuntime).ActiveConnectionsCurrentCount)  \\\n0                                                0.0                                                                   \n1                                                0.0                                                                   \n2                                                0.0                                                                   \n3                                                0.0                                                                   \n4                                                0.0                                                                   \n\n   DB connection started : (incld/dx (MXBean(com.bea:Name=source02,Type=JDBCDataSourceRuntime).ConnectionsTotalCount))  \\\n0                                                0.0                                                                     \n1                                                0.0                                                                     \n2                                                0.0                                                                     \n3                                                0.0                                                                     \n4                                                0.0                                                                     \n\n   Heap usage activity : (d/dx (MXBean(java.lang:type=Memory).HeapMemoryUsage.used))  \\\n0                                         38851008.0                                   \n1                                         51522504.0                                   \n2                                        247143320.0                                   \n3                                         57498536.0                                   \n4                                         52730824.0                                   \n\n   Connection delay : (MXBean(com.bea:Name=source10,Type=JDBCDataSourceRuntime).ConnectionDelayTime)  \\\n0                                                0.0                                                   \n1                                              384.0                                                   \n2                                              384.0                                                   \n3                                                0.0                                                   \n4                                                0.0                                                   \n\n   Stuck threads : (MXBean(com.bea:Name=ThreadPoolRuntime,Type=ThreadPoolRuntime).StuckThreadCount)  \\\n0                                                0.0                                                  \n1                                                0.0                                                  \n2                                                0.0                                                  \n3                                                0.0                                                  \n4                                                0.0                                                  \n\n   DB connection started : (incld/dx (MXBean(com.bea:Name=source09,Type=JDBCConnectionPoolRuntime).ConnectionsTotalCount))  \\\n0                                                0.0                                                                         \n1                                                1.0                                                                         \n2                                                0.0                                                                         \n3                                                0.0                                                                         \n4                                                0.0                                                                         \n\n   ...  \\\n0  ...   \n1  ...   \n2  ...   \n3  ...   \n4  ...   \n\n   Available db connection activity : (d/dx (MXBean(com.bea:Name=source02,Type=JDBCConnectionPoolRuntime).NumAvailable))  \\\n0                                                0.0                                                                       \n1                                                0.0                                                                       \n2                                                0.0                                                                       \n3                                                0.0                                                                       \n4                                                0.0                                                                       \n\n   Memory space activity : (d/dx ((MXBean(java.lang:name=PS Eden Space,type=MemoryPool).Usage.committed / MXBean(java.lang:name=PS Eden Space,type=MemoryPool).Usage.max)))  \\\n0                                           0.000000                                                                                                                          \n1                                           0.000000                                                                                                                          \n2                                           0.006864                                                                                                                          \n3                                           0.000000                                                                                                                          \n4                                           0.000000                                                                                                                          \n\n   Active transactions : (MXBean(com.bea:Name=JTARuntime,Type=JTARuntime).ActiveTransactionsTotalCount)  \\\n0                                                0.0                                                      \n1                                                0.0                                                      \n2                                                0.0                                                      \n3                                                0.0                                                      \n4                                                0.0                                                      \n\n   Process CPU : (\\Process(java)\\CPU)  host_lphost06  host_lphost14  \\\n0                                 0.0              1              0   \n1                                 0.0              0              0   \n2                                 0.0              0              0   \n3                                 0.0              0              0   \n4                                 0.0              0              0   \n\n   host_lphost15  process_wls1  process_wls2  isAnomaly  \n0              0             1             0          0  \n1              1             0             1          0  \n2              1             0             1          0  \n3              1             1             0          0  \n4              1             0             1          0  \n\n[5 rows x 102 columns]",
      "text/html": "<div>\n<style scoped>\n    .dataframe tbody tr th:only-of-type {\n        vertical-align: middle;\n    }\n\n    .dataframe tbody tr th {\n        vertical-align: top;\n    }\n\n    .dataframe thead th {\n        text-align: right;\n    }\n</style>\n<table border=\"1\" class=\"dataframe\">\n  <thead>\n    <tr style=\"text-align: right;\">\n      <th></th>\n      <th>timestamp</th>\n      <th>Prepared statement cache hit rate : ((MXBean(com.bea:Name=source06,Type=JDBCDataSourceRuntime).PrepStmtCacheHitCount / MXBean(com.bea:Name=source06,Type=JDBCDataSourceRuntime).PrepStmtCacheMissCount))</th>\n      <th>Memory space usage : ((MXBean(java.lang:name=Code Cache,type=MemoryPool).Usage.committed / MXBean(java.lang:name=Code Cache,type=MemoryPool).Usage.max))</th>\n      <th>Available db connection activity : (d/dx (MXBean(com.bea:Name=source02,Type=JDBCDataSourceRuntime).NumAvailable))</th>\n      <th>Active connections : (MXBean(com.bea:Name=source03,Type=JDBCConnectionPoolRuntime).ActiveConnectionsCurrentCount)</th>\n      <th>DB connection started : (incld/dx (MXBean(com.bea:Name=source02,Type=JDBCDataSourceRuntime).ConnectionsTotalCount))</th>\n      <th>Heap usage activity : (d/dx (MXBean(java.lang:type=Memory).HeapMemoryUsage.used))</th>\n      <th>Connection delay : (MXBean(com.bea:Name=source10,Type=JDBCDataSourceRuntime).ConnectionDelayTime)</th>\n      <th>Stuck threads : (MXBean(com.bea:Name=ThreadPoolRuntime,Type=ThreadPoolRuntime).StuckThreadCount)</th>\n      <th>DB connection started : (incld/dx (MXBean(com.bea:Name=source09,Type=JDBCConnectionPoolRuntime).ConnectionsTotalCount))</th>\n      <th>...</th>\n      <th>Available db connection activity : (d/dx (MXBean(com.bea:Name=source02,Type=JDBCConnectionPoolRuntime).NumAvailable))</th>\n      <th>Memory space activity : (d/dx ((MXBean(java.lang:name=PS Eden Space,type=MemoryPool).Usage.committed / MXBean(java.lang:name=PS Eden Space,type=MemoryPool).Usage.max)))</th>\n      <th>Active transactions : (MXBean(com.bea:Name=JTARuntime,Type=JTARuntime).ActiveTransactionsTotalCount)</th>\n      <th>Process CPU : (\\Process(java)\\CPU)</th>\n      <th>host_lphost06</th>\n      <th>host_lphost14</th>\n      <th>host_lphost15</th>\n      <th>process_wls1</th>\n      <th>process_wls2</th>\n      <th>isAnomaly</th>\n    </tr>\n  </thead>\n  <tbody>\n    <tr>\n      <th>0</th>\n      <td>1443335520</td>\n      <td>1.0</td>\n      <td>0.406250</td>\n      <td>0.0</td>\n      <td>0.0</td>\n      <td>0.0</td>\n      <td>38851008.0</td>\n      <td>0.0</td>\n      <td>0.0</td>\n      <td>0.0</td>\n      <td>...</td>\n      <td>0.0</td>\n      <td>0.000000</td>\n      <td>0.0</td>\n      <td>0.0</td>\n      <td>1</td>\n      <td>0</td>\n      <td>0</td>\n      <td>1</td>\n      <td>0</td>\n      <td>0</td>\n    </tr>\n    <tr>\n      <th>1</th>\n      <td>1439171640</td>\n      <td>1.0</td>\n      <td>0.970052</td>\n      <td>0.0</td>\n      <td>0.0</td>\n      <td>0.0</td>\n      <td>51522504.0</td>\n      <td>384.0</td>\n      <td>0.0</td>\n      <td>1.0</td>\n      <td>...</td>\n      <td>0.0</td>\n      <td>0.000000</td>\n      <td>0.0</td>\n      <td>0.0</td>\n      <td>0</td>\n      <td>0</td>\n      <td>1</td>\n      <td>0</td>\n      <td>1</td>\n      <td>0</td>\n    </tr>\n    <tr>\n      <th>2</th>\n      <td>1439964900</td>\n      <td>1.0</td>\n      <td>0.970052</td>\n      <td>0.0</td>\n      <td>0.0</td>\n      <td>0.0</td>\n      <td>247143320.0</td>\n      <td>384.0</td>\n      <td>0.0</td>\n      <td>0.0</td>\n      <td>...</td>\n      <td>0.0</td>\n      <td>0.006864</td>\n      <td>0.0</td>\n      <td>0.0</td>\n      <td>0</td>\n      <td>0</td>\n      <td>1</td>\n      <td>0</td>\n      <td>1</td>\n      <td>0</td>\n    </tr>\n    <tr>\n      <th>3</th>\n      <td>1426986720</td>\n      <td>1.0</td>\n      <td>0.825521</td>\n      <td>0.0</td>\n      <td>0.0</td>\n      <td>0.0</td>\n      <td>57498536.0</td>\n      <td>0.0</td>\n      <td>0.0</td>\n      <td>0.0</td>\n      <td>...</td>\n      <td>0.0</td>\n      <td>0.000000</td>\n      <td>0.0</td>\n      <td>0.0</td>\n      <td>0</td>\n      <td>0</td>\n      <td>1</td>\n      <td>1</td>\n      <td>0</td>\n      <td>0</td>\n    </tr>\n    <tr>\n      <th>4</th>\n      <td>1431246480</td>\n      <td>1.0</td>\n      <td>0.393229</td>\n      <td>0.0</td>\n      <td>0.0</td>\n      <td>0.0</td>\n      <td>52730824.0</td>\n      <td>0.0</td>\n      <td>0.0</td>\n      <td>0.0</td>\n      <td>...</td>\n      <td>0.0</td>\n      <td>0.000000</td>\n      <td>0.0</td>\n      <td>0.0</td>\n      <td>0</td>\n      <td>0</td>\n      <td>1</td>\n      <td>0</td>\n      <td>1</td>\n      <td>0</td>\n    </tr>\n  </tbody>\n</table>\n<p>5 rows × 102 columns</p>\n</div>"
     },
     "execution_count": 74,
     "metadata": {},
     "output_type": "execute_result"
    }
   ],
   "source": [
    "# undersampling\n",
    "rus = RandomUnderSampler(random_state=RND_SEED)\n",
    "X_res, y_res = rus.fit_resample(X_train, y_train.astype(int))\n",
    "X_res = X_res.reset_index(drop=True)\n",
    "y_res = y_res.reset_index(drop=True)\n",
    "train_df = pd.concat([X_res, y_res], axis=1)\n",
    "train_df.head()"
   ],
   "metadata": {
    "collapsed": false,
    "ExecuteTime": {
     "start_time": "2023-04-07T12:25:49.125236Z",
     "end_time": "2023-04-07T12:25:49.460205Z"
    }
   }
  },
  {
   "cell_type": "code",
   "execution_count": 75,
   "outputs": [
    {
     "data": {
      "text/plain": "<Figure size 191.667x500 with 1 Axes>",
      "image/png": "[encoded data removed]"
     },
     "metadata": {},
     "output_type": "display_data"
    }
   ],
   "source": [
    "plot_target_col(df=train_df, target_col=TARGET_COL, max_y=25000, y_tick_interval=5000,\n",
    "                target_class_names=class_names, pdf_filename=\"eda_categories_balanced\")"
   ],
   "metadata": {
    "collapsed": false,
    "ExecuteTime": {
     "start_time": "2023-04-07T12:25:55.346057Z",
     "end_time": "2023-04-07T12:25:55.593158Z"
    }
   }
  },
  {
   "cell_type": "code",
   "execution_count": 76,
   "outputs": [],
   "source": [
    "# scaling training\n",
    "scale_exclude_col_names = [\"host_lphost06\", \"host_lphost14\", \"host_lphost15\", \"process_wls1\",\n",
    "                           \"process_wls2\", TARGET_COL, \"timestamp\"]\n",
    "mms_train = MinMaxScaler()\n",
    "train_df = scale_dataset(train_df, scale_exclude_col_names, scaler=mms_train)\n",
    "mms_test = MinMaxScaler()\n",
    "test_df = scale_dataset(test_df, scale_exclude_col_names, scaler=mms_test)\n",
    "\n",
    "X_train, y_train = x_y_split(train_df, TARGET_COL)\n",
    "X_test, y_test = x_y_split(test_df, TARGET_COL)"
   ],
   "metadata": {
    "collapsed": false,
    "ExecuteTime": {
     "start_time": "2023-04-07T12:25:57.848410Z",
     "end_time": "2023-04-07T12:25:58.039408Z"
    }
   }
  },
  {
   "cell_type": "code",
   "execution_count": 77,
   "outputs": [],
   "source": [
    "train_df.to_csv(\"data/train.csv\", index=False)\n",
    "test_df.to_csv(\"data/test.csv\", index=False)"
   ],
   "metadata": {
    "collapsed": false,
    "ExecuteTime": {
     "start_time": "2023-04-07T12:26:05.020555Z",
     "end_time": "2023-04-07T12:26:14.220560Z"
    }
   }
  },
  {
   "cell_type": "code",
   "execution_count": 78,
   "outputs": [
    {
     "data": {
      "text/plain": "0    0.853299\n1    0.146701\nName: isAnomaly, dtype: float64"
     },
     "execution_count": 78,
     "metadata": {},
     "output_type": "execute_result"
    }
   ],
   "source": [
    "test_df[TARGET_COL].value_counts(normalize=True)"
   ],
   "metadata": {
    "collapsed": false,
    "ExecuteTime": {
     "start_time": "2023-04-07T12:26:14.213557Z",
     "end_time": "2023-04-07T12:26:14.226556Z"
    }
   }
  }
 ],
 "metadata": {
  "kernelspec": {
   "display_name": "Python 3",
   "language": "python",
   "name": "python3"
  },
  "language_info": {
   "codemirror_mode": {
    "name": "ipython",
    "version": 2
   },
   "file_extension": ".py",
   "mimetype": "text/x-python",
   "name": "python",
   "nbconvert_exporter": "python",
   "pygments_lexer": "ipython2",
   "version": "2.7.6"
  }
 },
 "nbformat": 4,
 "nbformat_minor": 0
}
